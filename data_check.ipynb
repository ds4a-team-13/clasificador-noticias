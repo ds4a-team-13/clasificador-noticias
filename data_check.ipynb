{
 "cells": [
  {
   "cell_type": "code",
   "execution_count": 24,
   "metadata": {},
   "outputs": [],
   "source": [
    "import sqlite3\n",
    "import pandas as pd\n",
    "import matplotlib.pyplot as plt\n",
    "import seaborn as sns"
   ]
  },
  {
   "cell_type": "code",
   "execution_count": 4,
   "metadata": {},
   "outputs": [
    {
     "data": {
      "text/html": [
       "<div>\n",
       "<style scoped>\n",
       "    .dataframe tbody tr th:only-of-type {\n",
       "        vertical-align: middle;\n",
       "    }\n",
       "\n",
       "    .dataframe tbody tr th {\n",
       "        vertical-align: top;\n",
       "    }\n",
       "\n",
       "    .dataframe thead th {\n",
       "        text-align: right;\n",
       "    }\n",
       "</style>\n",
       "<table border=\"1\" class=\"dataframe\">\n",
       "  <thead>\n",
       "    <tr style=\"text-align: right;\">\n",
       "      <th></th>\n",
       "      <th>titulo</th>\n",
       "      <th>cuerpo</th>\n",
       "      <th>fecha_publicacion</th>\n",
       "      <th>diario</th>\n",
       "      <th>url</th>\n",
       "      <th>page</th>\n",
       "    </tr>\n",
       "  </thead>\n",
       "  <tbody>\n",
       "    <tr>\n",
       "      <th>0</th>\n",
       "      <td>Campesino asesinado en Baraya</td>\n",
       "      <td>Un impacto en el pecho con una escopeta calibr...</td>\n",
       "      <td>2020-06-11 17:00:33</td>\n",
       "      <td>lanacion</td>\n",
       "      <td>https://www.lanacion.com.co/campesino-asesinad...</td>\n",
       "      <td>2</td>\n",
       "    </tr>\n",
       "    <tr>\n",
       "      <th>1</th>\n",
       "      <td>‘Morcilla’ a responder por homicidio de un jov...</td>\n",
       "      <td>Jorge Leonardo Pájaro Paredes conocido como ‘M...</td>\n",
       "      <td>2020-06-10 10:10:56</td>\n",
       "      <td>lanacion</td>\n",
       "      <td>https://www.lanacion.com.co/morcilla-a-respond...</td>\n",
       "      <td>2</td>\n",
       "    </tr>\n",
       "    <tr>\n",
       "      <th>2</th>\n",
       "      <td>Incautan 50 kilos de marihuana que eran transp...</td>\n",
       "      <td>Las autoridades en el departamento del Huila, ...</td>\n",
       "      <td>2020-06-09 10:39:12</td>\n",
       "      <td>lanacion</td>\n",
       "      <td>https://www.lanacion.com.co/incautan-50-kilos-...</td>\n",
       "      <td>2</td>\n",
       "    </tr>\n",
       "    <tr>\n",
       "      <th>3</th>\n",
       "      <td>Miembros del CTI a juicio por robarse una bill...</td>\n",
       "      <td>A juicio fueron llamados Erney Ramírez Gordo y...</td>\n",
       "      <td>2020-06-08 19:30:53</td>\n",
       "      <td>lanacion</td>\n",
       "      <td>https://www.lanacion.com.co/miembros-del-cti-a...</td>\n",
       "      <td>2</td>\n",
       "    </tr>\n",
       "    <tr>\n",
       "      <th>4</th>\n",
       "      <td>Militar neivano, una de las víctimas del fatal...</td>\n",
       "      <td>En la que fue su vivienda por muchos años en l...</td>\n",
       "      <td>2020-06-11 07:35:53</td>\n",
       "      <td>lanacion</td>\n",
       "      <td>https://www.lanacion.com.co/militar-neivano-un...</td>\n",
       "      <td>2</td>\n",
       "    </tr>\n",
       "  </tbody>\n",
       "</table>\n",
       "</div>"
      ],
      "text/plain": [
       "                                              titulo  \\\n",
       "0                      Campesino asesinado en Baraya   \n",
       "1  ‘Morcilla’ a responder por homicidio de un jov...   \n",
       "2  Incautan 50 kilos de marihuana que eran transp...   \n",
       "3  Miembros del CTI a juicio por robarse una bill...   \n",
       "4  Militar neivano, una de las víctimas del fatal...   \n",
       "\n",
       "                                              cuerpo   fecha_publicacion  \\\n",
       "0  Un impacto en el pecho con una escopeta calibr... 2020-06-11 17:00:33   \n",
       "1  Jorge Leonardo Pájaro Paredes conocido como ‘M... 2020-06-10 10:10:56   \n",
       "2  Las autoridades en el departamento del Huila, ... 2020-06-09 10:39:12   \n",
       "3  A juicio fueron llamados Erney Ramírez Gordo y... 2020-06-08 19:30:53   \n",
       "4  En la que fue su vivienda por muchos años en l... 2020-06-11 07:35:53   \n",
       "\n",
       "     diario                                                url  page  \n",
       "0  lanacion  https://www.lanacion.com.co/campesino-asesinad...     2  \n",
       "1  lanacion  https://www.lanacion.com.co/morcilla-a-respond...     2  \n",
       "2  lanacion  https://www.lanacion.com.co/incautan-50-kilos-...     2  \n",
       "3  lanacion  https://www.lanacion.com.co/miembros-del-cti-a...     2  \n",
       "4  lanacion  https://www.lanacion.com.co/militar-neivano-un...     2  "
      ]
     },
     "execution_count": 4,
     "metadata": {},
     "output_type": "execute_result"
    }
   ],
   "source": [
    "cnx = sqlite3.connect('data.db')\n",
    "\n",
    "df = pd.read_sql_query(\"SELECT * FROM news\", cnx)\n",
    "df['fecha_publicacion'] = pd.to_datetime(df['fecha_publicacion'])\n",
    "\n",
    "df.head()"
   ]
  },
  {
   "cell_type": "code",
   "execution_count": 5,
   "metadata": {},
   "outputs": [
    {
     "name": "stdout",
     "output_type": "stream",
     "text": [
      "Número total de noticias:  18987\n",
      "Número de diarios consultados:  6\n",
      "Diarios consultados:  ['lanacion' 'elpais' 'eldiario' 'elnuevodia' 'hoydiariodelmagdalena'\n",
      " 'diariodelhuila']\n"
     ]
    }
   ],
   "source": [
    "print('Número total de noticias: ', df.shape[0])\n",
    "print('Número de diarios consultados: ', len(df.diario.unique()))\n",
    "print('Diarios consultados: ', df.diario.unique())"
   ]
  },
  {
   "cell_type": "code",
   "execution_count": 6,
   "metadata": {},
   "outputs": [
    {
     "data": {
      "text/html": [
       "<div>\n",
       "<style scoped>\n",
       "    .dataframe tbody tr th:only-of-type {\n",
       "        vertical-align: middle;\n",
       "    }\n",
       "\n",
       "    .dataframe tbody tr th {\n",
       "        vertical-align: top;\n",
       "    }\n",
       "\n",
       "    .dataframe thead tr th {\n",
       "        text-align: left;\n",
       "    }\n",
       "\n",
       "    .dataframe thead tr:last-of-type th {\n",
       "        text-align: right;\n",
       "    }\n",
       "</style>\n",
       "<table border=\"1\" class=\"dataframe\">\n",
       "  <thead>\n",
       "    <tr>\n",
       "      <th></th>\n",
       "      <th>url</th>\n",
       "      <th colspan=\"2\" halign=\"left\">fecha_publicacion</th>\n",
       "    </tr>\n",
       "    <tr>\n",
       "      <th></th>\n",
       "      <th>size</th>\n",
       "      <th>min</th>\n",
       "      <th>max</th>\n",
       "    </tr>\n",
       "    <tr>\n",
       "      <th>diario</th>\n",
       "      <th></th>\n",
       "      <th></th>\n",
       "      <th></th>\n",
       "    </tr>\n",
       "  </thead>\n",
       "  <tbody>\n",
       "    <tr>\n",
       "      <th>diariodelhuila</th>\n",
       "      <td>46</td>\n",
       "      <td>2020-04-21 00:00:00</td>\n",
       "      <td>2020-06-12 00:00:00</td>\n",
       "    </tr>\n",
       "    <tr>\n",
       "      <th>eldiario</th>\n",
       "      <td>1319</td>\n",
       "      <td>2019-01-31 19:51:59</td>\n",
       "      <td>2020-06-12 00:00:43</td>\n",
       "    </tr>\n",
       "    <tr>\n",
       "      <th>elnuevodia</th>\n",
       "      <td>446</td>\n",
       "      <td>2020-01-13 11:02:33</td>\n",
       "      <td>2020-06-10 16:59:23</td>\n",
       "    </tr>\n",
       "    <tr>\n",
       "      <th>elpais</th>\n",
       "      <td>140</td>\n",
       "      <td>2020-05-03 00:00:00</td>\n",
       "      <td>2020-06-12 00:00:00</td>\n",
       "    </tr>\n",
       "    <tr>\n",
       "      <th>hoydiariodelmagdalena</th>\n",
       "      <td>3713</td>\n",
       "      <td>2019-07-07 08:24:45</td>\n",
       "      <td>2020-06-12 17:43:36</td>\n",
       "    </tr>\n",
       "    <tr>\n",
       "      <th>lanacion</th>\n",
       "      <td>13323</td>\n",
       "      <td>2012-01-02 06:11:58</td>\n",
       "      <td>2020-06-11 17:00:33</td>\n",
       "    </tr>\n",
       "  </tbody>\n",
       "</table>\n",
       "</div>"
      ],
      "text/plain": [
       "                         url   fecha_publicacion                    \n",
       "                        size                 min                 max\n",
       "diario                                                              \n",
       "diariodelhuila            46 2020-04-21 00:00:00 2020-06-12 00:00:00\n",
       "eldiario                1319 2019-01-31 19:51:59 2020-06-12 00:00:43\n",
       "elnuevodia               446 2020-01-13 11:02:33 2020-06-10 16:59:23\n",
       "elpais                   140 2020-05-03 00:00:00 2020-06-12 00:00:00\n",
       "hoydiariodelmagdalena   3713 2019-07-07 08:24:45 2020-06-12 17:43:36\n",
       "lanacion               13323 2012-01-02 06:11:58 2020-06-11 17:00:33"
      ]
     },
     "execution_count": 6,
     "metadata": {},
     "output_type": "execute_result"
    }
   ],
   "source": [
    "df.groupby('diario').agg({'url': 'size','fecha_publicacion': ['min', 'max']})"
   ]
  },
  {
   "cell_type": "code",
   "execution_count": 44,
   "metadata": {},
   "outputs": [],
   "source": [
    "df['dia_semana'] = df['fecha_publicacion'].dt.dayofweek"
   ]
  },
  {
   "cell_type": "code",
   "execution_count": 45,
   "metadata": {},
   "outputs": [
    {
     "data": {
      "text/html": [
       "<div>\n",
       "<style scoped>\n",
       "    .dataframe tbody tr th:only-of-type {\n",
       "        vertical-align: middle;\n",
       "    }\n",
       "\n",
       "    .dataframe tbody tr th {\n",
       "        vertical-align: top;\n",
       "    }\n",
       "\n",
       "    .dataframe thead th {\n",
       "        text-align: right;\n",
       "    }\n",
       "</style>\n",
       "<table border=\"1\" class=\"dataframe\">\n",
       "  <thead>\n",
       "    <tr style=\"text-align: right;\">\n",
       "      <th></th>\n",
       "      <th>diario</th>\n",
       "      <th>dia_semana</th>\n",
       "      <th>cuenta</th>\n",
       "    </tr>\n",
       "  </thead>\n",
       "  <tbody>\n",
       "    <tr>\n",
       "      <th>0</th>\n",
       "      <td>diariodelhuila</td>\n",
       "      <td>5</td>\n",
       "      <td>2</td>\n",
       "    </tr>\n",
       "    <tr>\n",
       "      <th>1</th>\n",
       "      <td>diariodelhuila</td>\n",
       "      <td>6</td>\n",
       "      <td>2</td>\n",
       "    </tr>\n",
       "    <tr>\n",
       "      <th>2</th>\n",
       "      <td>diariodelhuila</td>\n",
       "      <td>0</td>\n",
       "      <td>3</td>\n",
       "    </tr>\n",
       "    <tr>\n",
       "      <th>3</th>\n",
       "      <td>diariodelhuila</td>\n",
       "      <td>2</td>\n",
       "      <td>8</td>\n",
       "    </tr>\n",
       "    <tr>\n",
       "      <th>4</th>\n",
       "      <td>diariodelhuila</td>\n",
       "      <td>3</td>\n",
       "      <td>8</td>\n",
       "    </tr>\n",
       "  </tbody>\n",
       "</table>\n",
       "</div>"
      ],
      "text/plain": [
       "           diario  dia_semana  cuenta\n",
       "0  diariodelhuila           5       2\n",
       "1  diariodelhuila           6       2\n",
       "2  diariodelhuila           0       3\n",
       "3  diariodelhuila           2       8\n",
       "4  diariodelhuila           3       8"
      ]
     },
     "execution_count": 45,
     "metadata": {},
     "output_type": "execute_result"
    }
   ],
   "source": [
    "df1 = df.groupby('diario')['dia_semana'].value_counts()\\\n",
    "    .sort_values().reset_index(name='cuenta')\n",
    "df1.head()"
   ]
  },
  {
   "cell_type": "code",
   "execution_count": 46,
   "metadata": {},
   "outputs": [
    {
     "data": {
      "text/plain": [
       "(array([-2.,  0.,  2.,  4.,  6.,  8.]),\n",
       " <a list of 6 Text major ticklabel objects>)"
      ]
     },
     "execution_count": 46,
     "metadata": {},
     "output_type": "execute_result"
    },
    {
     "data": {
      "image/png": "[encoded data removed]",
      "text/plain": [
       "<Figure size 648x432 with 6 Axes>"
      ]
     },
     "metadata": {
      "needs_background": "light"
     },
     "output_type": "display_data"
    }
   ],
   "source": [
    "df['dia_semana'].value_counts().sort_values()\n",
    "ficha = sns.FacetGrid(\n",
    "    df1,\n",
    "    col='diario',\n",
    "    col_wrap=3,\n",
    "    sharey=False\n",
    ")\n",
    "ficha.map(plt.bar, 'dia_semana', 'cuenta')"
   ]
  },
  {
   "cell_type": "code",
   "execution_count": 47,
   "metadata": {},
   "outputs": [
    {
     "data": {
      "text/html": [
       "<div>\n",
       "<style scoped>\n",
       "    .dataframe tbody tr th:only-of-type {\n",
       "        vertical-align: middle;\n",
       "    }\n",
       "\n",
       "    .dataframe tbody tr th {\n",
       "        vertical-align: top;\n",
       "    }\n",
       "\n",
       "    .dataframe thead th {\n",
       "        text-align: right;\n",
       "    }\n",
       "</style>\n",
       "<table border=\"1\" class=\"dataframe\">\n",
       "  <thead>\n",
       "    <tr style=\"text-align: right;\">\n",
       "      <th></th>\n",
       "      <th>titulo</th>\n",
       "      <th>cuerpo</th>\n",
       "      <th>fecha_publicacion</th>\n",
       "      <th>diario</th>\n",
       "      <th>url</th>\n",
       "      <th>page</th>\n",
       "      <th>dia_semana</th>\n",
       "    </tr>\n",
       "  </thead>\n",
       "  <tbody>\n",
       "    <tr>\n",
       "      <th>1</th>\n",
       "      <td>‘Morcilla’ a responder por homicidio de un jov...</td>\n",
       "      <td>Jorge Leonardo Pájaro Paredes conocido como ‘M...</td>\n",
       "      <td>2020-06-10 10:10:56</td>\n",
       "      <td>lanacion</td>\n",
       "      <td>https://www.lanacion.com.co/morcilla-a-respond...</td>\n",
       "      <td>2</td>\n",
       "      <td>2</td>\n",
       "    </tr>\n",
       "    <tr>\n",
       "      <th>2</th>\n",
       "      <td>Incautan 50 kilos de marihuana que eran transp...</td>\n",
       "      <td>Las autoridades en el departamento del Huila, ...</td>\n",
       "      <td>2020-06-09 10:39:12</td>\n",
       "      <td>lanacion</td>\n",
       "      <td>https://www.lanacion.com.co/incautan-50-kilos-...</td>\n",
       "      <td>2</td>\n",
       "      <td>1</td>\n",
       "    </tr>\n",
       "    <tr>\n",
       "      <th>4</th>\n",
       "      <td>Militar neivano, una de las víctimas del fatal...</td>\n",
       "      <td>En la que fue su vivienda por muchos años en l...</td>\n",
       "      <td>2020-06-11 07:35:53</td>\n",
       "      <td>lanacion</td>\n",
       "      <td>https://www.lanacion.com.co/militar-neivano-un...</td>\n",
       "      <td>2</td>\n",
       "      <td>3</td>\n",
       "    </tr>\n",
       "    <tr>\n",
       "      <th>7</th>\n",
       "      <td>Roban $250 millones en atraco</td>\n",
       "      <td>Un nuevo hecho de inseguridad presentado el dí...</td>\n",
       "      <td>2020-06-10 07:50:34</td>\n",
       "      <td>lanacion</td>\n",
       "      <td>https://www.lanacion.com.co/roban-250-millones...</td>\n",
       "      <td>2</td>\n",
       "      <td>2</td>\n",
       "    </tr>\n",
       "    <tr>\n",
       "      <th>8</th>\n",
       "      <td>Hurtó dos motos en un mismo día en Neiva</td>\n",
       "      <td>Sergio Stiven Zárate, fue detenido en flagranc...</td>\n",
       "      <td>2020-06-09 09:24:02</td>\n",
       "      <td>lanacion</td>\n",
       "      <td>https://www.lanacion.com.co/hurto-dos-motos-en...</td>\n",
       "      <td>2</td>\n",
       "      <td>1</td>\n",
       "    </tr>\n",
       "  </tbody>\n",
       "</table>\n",
       "</div>"
      ],
      "text/plain": [
       "                                              titulo  \\\n",
       "1  ‘Morcilla’ a responder por homicidio de un jov...   \n",
       "2  Incautan 50 kilos de marihuana que eran transp...   \n",
       "4  Militar neivano, una de las víctimas del fatal...   \n",
       "7                      Roban $250 millones en atraco   \n",
       "8           Hurtó dos motos en un mismo día en Neiva   \n",
       "\n",
       "                                              cuerpo   fecha_publicacion  \\\n",
       "1  Jorge Leonardo Pájaro Paredes conocido como ‘M... 2020-06-10 10:10:56   \n",
       "2  Las autoridades en el departamento del Huila, ... 2020-06-09 10:39:12   \n",
       "4  En la que fue su vivienda por muchos años en l... 2020-06-11 07:35:53   \n",
       "7  Un nuevo hecho de inseguridad presentado el dí... 2020-06-10 07:50:34   \n",
       "8  Sergio Stiven Zárate, fue detenido en flagranc... 2020-06-09 09:24:02   \n",
       "\n",
       "     diario                                                url  page  \\\n",
       "1  lanacion  https://www.lanacion.com.co/morcilla-a-respond...     2   \n",
       "2  lanacion  https://www.lanacion.com.co/incautan-50-kilos-...     2   \n",
       "4  lanacion  https://www.lanacion.com.co/militar-neivano-un...     2   \n",
       "7  lanacion  https://www.lanacion.com.co/roban-250-millones...     2   \n",
       "8  lanacion  https://www.lanacion.com.co/hurto-dos-motos-en...     2   \n",
       "\n",
       "   dia_semana  \n",
       "1           2  \n",
       "2           1  \n",
       "4           3  \n",
       "7           2  \n",
       "8           1  "
      ]
     },
     "execution_count": 47,
     "metadata": {},
     "output_type": "execute_result"
    }
   ],
   "source": [
    "noticias_dia = df.query('fecha_publicacion.dt.hour < 12')\n",
    "noticias_dia.head()"
   ]
  },
  {
   "cell_type": "code",
   "execution_count": 51,
   "metadata": {},
   "outputs": [
    {
     "data": {
      "text/plain": [
       "1527       1\n",
       "1146       1\n",
       "1130       1\n",
       "970        1\n",
       "922        1\n",
       "        ... \n",
       "174       73\n",
       "204       74\n",
       "189       75\n",
       "54        77\n",
       "55      1174\n",
       "Name: long_cuerpo, Length: 1091, dtype: int64"
      ]
     },
     "execution_count": 51,
     "metadata": {},
     "output_type": "execute_result"
    }
   ],
   "source": [
    "df['long_cuerpo'] = df['cuerpo'].apply(lambda x: len(str(x).split()))\n",
    "df['long_cuerpo'].value_counts().sort_values()"
   ]
  },
  {
   "cell_type": "code",
   "execution_count": 67,
   "metadata": {},
   "outputs": [
    {
     "data": {
      "text/plain": [
       "count    18987.000000\n",
       "mean       282.248749\n",
       "std        199.299649\n",
       "min          0.000000\n",
       "25%        159.000000\n",
       "50%        240.000000\n",
       "75%        353.000000\n",
       "max       3790.000000\n",
       "Name: long_cuerpo, dtype: float64"
      ]
     },
     "execution_count": 67,
     "metadata": {},
     "output_type": "execute_result"
    }
   ],
   "source": [
    "df['long_cuerpo'].describe()"
   ]
  },
  {
   "cell_type": "code",
   "execution_count": 111,
   "metadata": {},
   "outputs": [],
   "source": [
    "import numpy as np"
   ]
  },
  {
   "cell_type": "code",
   "execution_count": 113,
   "metadata": {},
   "outputs": [
    {
     "data": {
      "text/plain": [
       "0.00       0.0\n",
       "0.05      55.0\n",
       "0.10      89.0\n",
       "0.15     121.0\n",
       "0.20     142.0\n",
       "0.25     159.0\n",
       "0.30     175.0\n",
       "0.35     190.0\n",
       "0.40     206.0\n",
       "0.45     222.0\n",
       "0.50     240.0\n",
       "0.55     259.0\n",
       "0.60     277.0\n",
       "0.65     297.0\n",
       "0.70     324.0\n",
       "0.75     353.0\n",
       "0.80     389.0\n",
       "0.85     437.0\n",
       "0.90     506.4\n",
       "0.95     636.7\n",
       "1.00    3790.0\n",
       "Name: long_cuerpo, dtype: float64"
      ]
     },
     "execution_count": 113,
     "metadata": {},
     "output_type": "execute_result"
    }
   ],
   "source": [
    "df['long_cuerpo'].quantile(np.arange(0, 1.05, 0.05))"
   ]
  },
  {
   "cell_type": "code",
   "execution_count": 68,
   "metadata": {},
   "outputs": [
    {
     "data": {
      "text/plain": [
       "<matplotlib.axes._subplots.AxesSubplot at 0x121e1f5d0>"
      ]
     },
     "execution_count": 68,
     "metadata": {},
     "output_type": "execute_result"
    },
    {
     "data": {
      "image/png": "[encoded data removed]",
      "text/plain": [
       "<Figure size 432x288 with 1 Axes>"
      ]
     },
     "metadata": {
      "needs_background": "light"
     },
     "output_type": "display_data"
    }
   ],
   "source": [
    "df['long_cuerpo'].plot.hist()"
   ]
  },
  {
   "cell_type": "code",
   "execution_count": 69,
   "metadata": {},
   "outputs": [],
   "source": [
    "df2 = df.query('long_cuerpo<50')"
   ]
  },
  {
   "cell_type": "code",
   "execution_count": 70,
   "metadata": {},
   "outputs": [
    {
     "data": {
      "text/plain": [
       "diario                 long_cuerpo\n",
       "diariodelhuila         23              1\n",
       "                       41              1\n",
       "                       44              1\n",
       "eldiario               40              2\n",
       "                       41              2\n",
       "                       26              1\n",
       "                       33              1\n",
       "                       38              1\n",
       "                       39              1\n",
       "                       42              1\n",
       "                       43              1\n",
       "                       44              1\n",
       "                       48              1\n",
       "elnuevodia             24              1\n",
       "                       26              1\n",
       "                       28              1\n",
       "                       29              1\n",
       "                       39              1\n",
       "                       42              1\n",
       "                       47              1\n",
       "hoydiariodelmagdalena  0              32\n",
       "                       41              3\n",
       "                       43              3\n",
       "                       48              3\n",
       "                       49              3\n",
       "                       16              2\n",
       "                       23              2\n",
       "                       38              2\n",
       "                       46              2\n",
       "                       25              1\n",
       "                       26              1\n",
       "                       28              1\n",
       "                       31              1\n",
       "                       35              1\n",
       "                       36              1\n",
       "                       39              1\n",
       "                       42              1\n",
       "                       47              1\n",
       "lanacion               0              37\n",
       "                       49              3\n",
       "                       40              2\n",
       "                       41              2\n",
       "                       45              2\n",
       "                       46              2\n",
       "                       3               1\n",
       "                       7               1\n",
       "                       8               1\n",
       "                       17              1\n",
       "                       21              1\n",
       "                       25              1\n",
       "                       29              1\n",
       "                       30              1\n",
       "                       32              1\n",
       "                       33              1\n",
       "                       37              1\n",
       "                       42              1\n",
       "                       48              1\n",
       "Name: long_cuerpo, dtype: int64"
      ]
     },
     "execution_count": 70,
     "metadata": {},
     "output_type": "execute_result"
    }
   ],
   "source": [
    "df2.groupby('diario')['long_cuerpo'].value_counts()"
   ]
  },
  {
   "cell_type": "code",
   "execution_count": 60,
   "metadata": {},
   "outputs": [
    {
     "data": {
      "text/plain": [
       "count    2173.000000\n",
       "mean       61.437644\n",
       "std        19.201807\n",
       "min         0.000000\n",
       "25%        55.000000\n",
       "50%        55.000000\n",
       "75%        71.000000\n",
       "max       100.000000\n",
       "Name: long_cuerpo, dtype: float64"
      ]
     },
     "execution_count": 60,
     "metadata": {},
     "output_type": "execute_result"
    }
   ],
   "source": [
    "df2['long_cuerpo'].describe()"
   ]
  },
  {
   "cell_type": "code",
   "execution_count": 79,
   "metadata": {},
   "outputs": [
    {
     "name": "stdout",
     "output_type": "stream",
     "text": [
      "Titulo: Capturas en La Virginia \n",
      "Diario: eldiario \n",
      "Cuerpo: En zona rural del municipio de La Virginia fueron capturadas tres personas por daños al medio ambiente, posteriormente fueron puestos a disposición de la autoridad competente por aprovechamiento ilícito de los recursos naturales….  \n",
      "url: https://www.eldiario.com.co/judicial/editorwebeldiario-com-co/capturas-en-la-virginia/\n"
     ]
    }
   ],
   "source": [
    "n = 3\n",
    "print(\n",
    "    \"Titulo:\", df2['titulo'].iloc[n],\n",
    "    \"\\nDiario:\", df2['diario'].iloc[n],\n",
    "    \"\\nCuerpo:\", df2['cuerpo'].iloc[n],\n",
    "    \"\\nurl:\", df2['url'].iloc[n],\n",
    ")"
   ]
  },
  {
   "cell_type": "code",
   "execution_count": 93,
   "metadata": {},
   "outputs": [
    {
     "data": {
      "text/plain": [
       "55    1168\n",
       "54      68\n",
       "56      42\n",
       "57      23\n",
       "41       2\n",
       "58       2\n",
       "53       2\n",
       "40       2\n",
       "61       1\n",
       "33       1\n",
       "38       1\n",
       "39       1\n",
       "44       1\n",
       "42       1\n",
       "43       1\n",
       "59       1\n",
       "48       1\n",
       "26       1\n",
       "Name: long_cuerpo, dtype: int64"
      ]
     },
     "execution_count": 93,
     "metadata": {},
     "output_type": "execute_result"
    }
   ],
   "source": [
    "df.query('diario==\"eldiario\"')['long_cuerpo'].value_counts()"
   ]
  },
  {
   "cell_type": "code",
   "execution_count": 97,
   "metadata": {},
   "outputs": [
    {
     "data": {
      "text/plain": [
       "array(['lanacion', 'elpais', 'eldiario', 'elnuevodia',\n",
       "       'hoydiariodelmagdalena', 'diariodelhuila'], dtype=object)"
      ]
     },
     "execution_count": 97,
     "metadata": {},
     "output_type": "execute_result"
    }
   ],
   "source": [
    "df1 = df.query('long_cuerpo<1000')\n",
    "df1.groupby('diario')['long_cuerpo']\\\n",
    "    .value_counts().reset_index(name='cuenta')\n",
    "df1['diario'].unique()"
   ]
  },
  {
   "cell_type": "code",
   "execution_count": 100,
   "metadata": {},
   "outputs": [],
   "source": [
    "aux = df1.groupby('diario')['long_cuerpo'].value_counts().reset_index(name = 'cuenta')"
   ]
  },
  {
   "cell_type": "code",
   "execution_count": 102,
   "metadata": {},
   "outputs": [
    {
     "data": {
      "text/html": [
       "<div>\n",
       "<style scoped>\n",
       "    .dataframe tbody tr th:only-of-type {\n",
       "        vertical-align: middle;\n",
       "    }\n",
       "\n",
       "    .dataframe tbody tr th {\n",
       "        vertical-align: top;\n",
       "    }\n",
       "\n",
       "    .dataframe thead th {\n",
       "        text-align: right;\n",
       "    }\n",
       "</style>\n",
       "<table border=\"1\" class=\"dataframe\">\n",
       "  <thead>\n",
       "    <tr style=\"text-align: right;\">\n",
       "      <th></th>\n",
       "      <th>diario</th>\n",
       "      <th>long_cuerpo</th>\n",
       "      <th>cuenta</th>\n",
       "    </tr>\n",
       "  </thead>\n",
       "  <tbody>\n",
       "    <tr>\n",
       "      <th>46</th>\n",
       "      <td>eldiario</td>\n",
       "      <td>55</td>\n",
       "      <td>1168</td>\n",
       "    </tr>\n",
       "    <tr>\n",
       "      <th>47</th>\n",
       "      <td>eldiario</td>\n",
       "      <td>54</td>\n",
       "      <td>68</td>\n",
       "    </tr>\n",
       "    <tr>\n",
       "      <th>48</th>\n",
       "      <td>eldiario</td>\n",
       "      <td>56</td>\n",
       "      <td>42</td>\n",
       "    </tr>\n",
       "    <tr>\n",
       "      <th>49</th>\n",
       "      <td>eldiario</td>\n",
       "      <td>57</td>\n",
       "      <td>23</td>\n",
       "    </tr>\n",
       "    <tr>\n",
       "      <th>50</th>\n",
       "      <td>eldiario</td>\n",
       "      <td>40</td>\n",
       "      <td>2</td>\n",
       "    </tr>\n",
       "    <tr>\n",
       "      <th>51</th>\n",
       "      <td>eldiario</td>\n",
       "      <td>41</td>\n",
       "      <td>2</td>\n",
       "    </tr>\n",
       "    <tr>\n",
       "      <th>52</th>\n",
       "      <td>eldiario</td>\n",
       "      <td>53</td>\n",
       "      <td>2</td>\n",
       "    </tr>\n",
       "    <tr>\n",
       "      <th>53</th>\n",
       "      <td>eldiario</td>\n",
       "      <td>58</td>\n",
       "      <td>2</td>\n",
       "    </tr>\n",
       "    <tr>\n",
       "      <th>54</th>\n",
       "      <td>eldiario</td>\n",
       "      <td>26</td>\n",
       "      <td>1</td>\n",
       "    </tr>\n",
       "    <tr>\n",
       "      <th>55</th>\n",
       "      <td>eldiario</td>\n",
       "      <td>33</td>\n",
       "      <td>1</td>\n",
       "    </tr>\n",
       "    <tr>\n",
       "      <th>56</th>\n",
       "      <td>eldiario</td>\n",
       "      <td>38</td>\n",
       "      <td>1</td>\n",
       "    </tr>\n",
       "    <tr>\n",
       "      <th>57</th>\n",
       "      <td>eldiario</td>\n",
       "      <td>39</td>\n",
       "      <td>1</td>\n",
       "    </tr>\n",
       "    <tr>\n",
       "      <th>58</th>\n",
       "      <td>eldiario</td>\n",
       "      <td>42</td>\n",
       "      <td>1</td>\n",
       "    </tr>\n",
       "    <tr>\n",
       "      <th>59</th>\n",
       "      <td>eldiario</td>\n",
       "      <td>43</td>\n",
       "      <td>1</td>\n",
       "    </tr>\n",
       "    <tr>\n",
       "      <th>60</th>\n",
       "      <td>eldiario</td>\n",
       "      <td>44</td>\n",
       "      <td>1</td>\n",
       "    </tr>\n",
       "    <tr>\n",
       "      <th>61</th>\n",
       "      <td>eldiario</td>\n",
       "      <td>48</td>\n",
       "      <td>1</td>\n",
       "    </tr>\n",
       "    <tr>\n",
       "      <th>62</th>\n",
       "      <td>eldiario</td>\n",
       "      <td>59</td>\n",
       "      <td>1</td>\n",
       "    </tr>\n",
       "    <tr>\n",
       "      <th>63</th>\n",
       "      <td>eldiario</td>\n",
       "      <td>61</td>\n",
       "      <td>1</td>\n",
       "    </tr>\n",
       "  </tbody>\n",
       "</table>\n",
       "</div>"
      ],
      "text/plain": [
       "      diario  long_cuerpo  cuenta\n",
       "46  eldiario           55    1168\n",
       "47  eldiario           54      68\n",
       "48  eldiario           56      42\n",
       "49  eldiario           57      23\n",
       "50  eldiario           40       2\n",
       "51  eldiario           41       2\n",
       "52  eldiario           53       2\n",
       "53  eldiario           58       2\n",
       "54  eldiario           26       1\n",
       "55  eldiario           33       1\n",
       "56  eldiario           38       1\n",
       "57  eldiario           39       1\n",
       "58  eldiario           42       1\n",
       "59  eldiario           43       1\n",
       "60  eldiario           44       1\n",
       "61  eldiario           48       1\n",
       "62  eldiario           59       1\n",
       "63  eldiario           61       1"
      ]
     },
     "execution_count": 102,
     "metadata": {},
     "output_type": "execute_result"
    }
   ],
   "source": [
    "aux.query('diario == \"eldiario\"')"
   ]
  },
  {
   "cell_type": "code",
   "execution_count": 108,
   "metadata": {},
   "outputs": [
    {
     "data": {
      "text/plain": [
       "<seaborn.axisgrid.FacetGrid at 0x12c6256d0>"
      ]
     },
     "execution_count": 108,
     "metadata": {},
     "output_type": "execute_result"
    },
    {
     "data": {
      "image/png": "[encoded data removed]",
      "text/plain": [
       "<Figure size 648x432 with 6 Axes>"
      ]
     },
     "metadata": {
      "needs_background": "light"
     },
     "output_type": "display_data"
    }
   ],
   "source": [
    "ficha = sns.FacetGrid(\n",
    "    #df1.groupby('diario')['long_cuerpo']\\\n",
    "    #.value_counts().reset_index(name='cuenta'),\n",
    "    df1,\n",
    "    col='diario',\n",
    "    col_wrap=3,\n",
    "    sharey=False,\n",
    "    sharex=False\n",
    ")\n",
    "ficha.map(plt.hist, 'long_cuerpo')"
   ]
  },
  {
   "cell_type": "code",
   "execution_count": null,
   "metadata": {},
   "outputs": [],
   "source": []
  }
 ],
 "metadata": {
  "kernelspec": {
   "display_name": "Python 3",
   "language": "python",
   "name": "python3"
  },
  "language_info": {
   "codemirror_mode": {
    "name": "ipython",
    "version": 3
   },
   "file_extension": ".py",
   "mimetype": "text/x-python",
   "name": "python",
   "nbconvert_exporter": "python",
   "pygments_lexer": "ipython3",
   "version": "3.7.7"
  }
 },
 "nbformat": 4,
 "nbformat_minor": 2
}
