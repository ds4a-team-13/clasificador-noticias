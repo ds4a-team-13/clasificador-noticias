{
 "cells": [
  {
   "cell_type": "markdown",
   "metadata": {},
   "source": [
    "# A Building Aid for the Events’ Daily Logbook\n",
    "\n",
    "### Data Science Correlation-One - DS4A/2020\n",
    "### Team 13 \n",
    "\n",
    "<table><tr>\n",
    "    <td>Randy Steven Consuegra Ortega</td>\n",
    "    <td>Lina Marcela García Moreno</td>\n",
    "    </tr>\n",
    "    <tr>\n",
    "    <td>Wilfredo Alfonso Morales</td>\n",
    "    <td>Edgar Andrade Lotero</td>\n",
    "    </tr>\n",
    "    <tr>\n",
    "    <td>Mario Julián Mora Cardona</td>\n",
    "    <td>Sebastian Jimenez Parra</td>\n",
    "    </tr>\n",
    "    <tr>\n",
    "    <td>Hernán David Carvajal Bastidas</td>\n",
    "</tr></table>"
   ]
  },
  {
   "cell_type": "markdown",
   "metadata": {},
   "source": [
    "### Project Description\n",
    "\n",
    "The Victims' Unit (VU) is an institution responsible for issuing caring, assistance, and atonement measures in regards to victims from the internal armed conflict. To improve humanitarian emergency intervention from the State, VU's professional staff update an Events' Daily Logbook (EDL) by manually identifying, collecting, and categorizing events related to the armed conflict's violence dynamics reported in national and local news broadcasts. VU has sought support in Data Science to extract contextual information and categorize actions victimizing the civilian population. In this context, a Machine Learning tool that collects digital news and relates it to a probability of categorization in some of the victimizing events will prove most useful. Professionals in charge of checking the informative services could significantly reduce the time invested in these activities, expanding their availability to support decision-making processes in the implementation of public policy and improving the State's opportunity to address humanitarian emergencies."
   ]
  },
  {
   "cell_type": "code",
   "execution_count": 149,
   "metadata": {},
   "outputs": [],
   "source": [
    "import sqlite3\n",
    "import pandas as pd\n",
    "import matplotlib.pyplot as plt\n",
    "import seaborn as sns\n",
    "import numpy as np\n",
    "from sklearn.feature_extraction.text import CountVectorizer\n",
    "from nltk.corpus import stopwords\n",
    "from nltk import SnowballStemmer\n",
    "from unidecode import unidecode\n",
    "from wordcloud import WordCloud\n",
    "\n",
    "#if is the first time that you use nltk, please uncomment the following\n",
    "#two lines and execute it.\n",
    "#import nltk\n",
    "#nltk.download('stopwords')\n",
    "\n",
    "pd.options.display.max_columns = None\n",
    "\n",
    "sns.set()"
   ]
  },
  {
   "cell_type": "markdown",
   "metadata": {},
   "source": [
    "**Brief description of the preliminary data**\n",
    "\n",
    "The dataset described here was scraped from the website of a number of newspapers, and it is only a preliminary one to be complemented in the upcoming weeks."
   ]
  },
  {
   "cell_type": "code",
   "execution_count": 108,
   "metadata": {},
   "outputs": [
    {
     "data": {
      "text/html": [
       "<div>\n",
       "<style scoped>\n",
       "    .dataframe tbody tr th:only-of-type {\n",
       "        vertical-align: middle;\n",
       "    }\n",
       "\n",
       "    .dataframe tbody tr th {\n",
       "        vertical-align: top;\n",
       "    }\n",
       "\n",
       "    .dataframe thead th {\n",
       "        text-align: right;\n",
       "    }\n",
       "</style>\n",
       "<table border=\"1\" class=\"dataframe\">\n",
       "  <thead>\n",
       "    <tr style=\"text-align: right;\">\n",
       "      <th></th>\n",
       "      <th>titulo</th>\n",
       "      <th>cuerpo</th>\n",
       "      <th>fecha_publicacion</th>\n",
       "      <th>diario</th>\n",
       "      <th>url</th>\n",
       "      <th>page</th>\n",
       "    </tr>\n",
       "  </thead>\n",
       "  <tbody>\n",
       "    <tr>\n",
       "      <th>0</th>\n",
       "      <td>Campesino asesinado en Baraya</td>\n",
       "      <td>Un impacto en el pecho con una escopeta calibr...</td>\n",
       "      <td>2020-06-11 17:00:33</td>\n",
       "      <td>lanacion</td>\n",
       "      <td>https://www.lanacion.com.co/campesino-asesinad...</td>\n",
       "      <td>2</td>\n",
       "    </tr>\n",
       "    <tr>\n",
       "      <th>1</th>\n",
       "      <td>‘Morcilla’ a responder por homicidio de un jov...</td>\n",
       "      <td>Jorge Leonardo Pájaro Paredes conocido como ‘M...</td>\n",
       "      <td>2020-06-10 10:10:56</td>\n",
       "      <td>lanacion</td>\n",
       "      <td>https://www.lanacion.com.co/morcilla-a-respond...</td>\n",
       "      <td>2</td>\n",
       "    </tr>\n",
       "  </tbody>\n",
       "</table>\n",
       "</div>"
      ],
      "text/plain": [
       "                                              titulo  \\\n",
       "0                      Campesino asesinado en Baraya   \n",
       "1  ‘Morcilla’ a responder por homicidio de un jov...   \n",
       "\n",
       "                                              cuerpo   fecha_publicacion  \\\n",
       "0  Un impacto en el pecho con una escopeta calibr... 2020-06-11 17:00:33   \n",
       "1  Jorge Leonardo Pájaro Paredes conocido como ‘M... 2020-06-10 10:10:56   \n",
       "\n",
       "     diario                                                url  page  \n",
       "0  lanacion  https://www.lanacion.com.co/campesino-asesinad...     2  \n",
       "1  lanacion  https://www.lanacion.com.co/morcilla-a-respond...     2  "
      ]
     },
     "execution_count": 108,
     "metadata": {},
     "output_type": "execute_result"
    }
   ],
   "source": [
    "cnx = sqlite3.connect('data.db')\n",
    "\n",
    "df = pd.read_sql_query(\"SELECT * FROM news\", cnx)\n",
    "df['fecha_publicacion'] = pd.to_datetime(df['fecha_publicacion'])\n",
    "\n",
    "df.head(2)"
   ]
  },
  {
   "cell_type": "code",
   "execution_count": 109,
   "metadata": {},
   "outputs": [
    {
     "data": {
      "text/html": [
       "<div>\n",
       "<style scoped>\n",
       "    .dataframe tbody tr th:only-of-type {\n",
       "        vertical-align: middle;\n",
       "    }\n",
       "\n",
       "    .dataframe tbody tr th {\n",
       "        vertical-align: top;\n",
       "    }\n",
       "\n",
       "    .dataframe thead tr th {\n",
       "        text-align: left;\n",
       "    }\n",
       "\n",
       "    .dataframe thead tr:last-of-type th {\n",
       "        text-align: right;\n",
       "    }\n",
       "</style>\n",
       "<table border=\"1\" class=\"dataframe\">\n",
       "  <thead>\n",
       "    <tr>\n",
       "      <th></th>\n",
       "      <th>url</th>\n",
       "      <th colspan=\"2\" halign=\"left\">fecha_publicacion</th>\n",
       "    </tr>\n",
       "    <tr>\n",
       "      <th></th>\n",
       "      <th>size</th>\n",
       "      <th>min</th>\n",
       "      <th>max</th>\n",
       "    </tr>\n",
       "    <tr>\n",
       "      <th>diario</th>\n",
       "      <th></th>\n",
       "      <th></th>\n",
       "      <th></th>\n",
       "    </tr>\n",
       "  </thead>\n",
       "  <tbody>\n",
       "    <tr>\n",
       "      <th>diariodelhuila</th>\n",
       "      <td>46</td>\n",
       "      <td>2020-04-21 00:00:00</td>\n",
       "      <td>2020-06-12 00:00:00</td>\n",
       "    </tr>\n",
       "    <tr>\n",
       "      <th>eldiario</th>\n",
       "      <td>1319</td>\n",
       "      <td>2019-01-31 19:51:59</td>\n",
       "      <td>2020-06-12 00:00:43</td>\n",
       "    </tr>\n",
       "    <tr>\n",
       "      <th>elnuevodia</th>\n",
       "      <td>446</td>\n",
       "      <td>2020-01-13 11:02:33</td>\n",
       "      <td>2020-06-10 16:59:23</td>\n",
       "    </tr>\n",
       "    <tr>\n",
       "      <th>elpais</th>\n",
       "      <td>140</td>\n",
       "      <td>2020-05-03 00:00:00</td>\n",
       "      <td>2020-06-12 00:00:00</td>\n",
       "    </tr>\n",
       "    <tr>\n",
       "      <th>hoydiariodelmagdalena</th>\n",
       "      <td>3713</td>\n",
       "      <td>2019-07-07 08:24:45</td>\n",
       "      <td>2020-06-12 17:43:36</td>\n",
       "    </tr>\n",
       "    <tr>\n",
       "      <th>lanacion</th>\n",
       "      <td>13323</td>\n",
       "      <td>2012-01-02 06:11:58</td>\n",
       "      <td>2020-06-11 17:00:33</td>\n",
       "    </tr>\n",
       "  </tbody>\n",
       "</table>\n",
       "</div>"
      ],
      "text/plain": [
       "                         url   fecha_publicacion                    \n",
       "                        size                 min                 max\n",
       "diario                                                              \n",
       "diariodelhuila            46 2020-04-21 00:00:00 2020-06-12 00:00:00\n",
       "eldiario                1319 2019-01-31 19:51:59 2020-06-12 00:00:43\n",
       "elnuevodia               446 2020-01-13 11:02:33 2020-06-10 16:59:23\n",
       "elpais                   140 2020-05-03 00:00:00 2020-06-12 00:00:00\n",
       "hoydiariodelmagdalena   3713 2019-07-07 08:24:45 2020-06-12 17:43:36\n",
       "lanacion               13323 2012-01-02 06:11:58 2020-06-11 17:00:33"
      ]
     },
     "execution_count": 109,
     "metadata": {},
     "output_type": "execute_result"
    }
   ],
   "source": [
    "df.groupby('diario').agg({'url': 'size','fecha_publicacion': ['min', 'max']})"
   ]
  },
  {
   "cell_type": "markdown",
   "metadata": {},
   "source": [
    "**Brief word frequency analysis per news**\n",
    "\n",
    "We have obtained simple descriptive statistics concerning the word count of each news."
   ]
  },
  {
   "cell_type": "code",
   "execution_count": 110,
   "metadata": {},
   "outputs": [
    {
     "data": {
      "text/plain": [
       "1527       1\n",
       "1146       1\n",
       "1130       1\n",
       "970        1\n",
       "922        1\n",
       "        ... \n",
       "174       73\n",
       "204       74\n",
       "189       75\n",
       "54        77\n",
       "55      1174\n",
       "Name: long_cuerpo, Length: 1091, dtype: int64"
      ]
     },
     "execution_count": 110,
     "metadata": {},
     "output_type": "execute_result"
    }
   ],
   "source": [
    "df['long_cuerpo'] = df['cuerpo'].apply(lambda x: len(str(x).split()))\n",
    "df['long_cuerpo'].value_counts().sort_values()"
   ]
  },
  {
   "cell_type": "code",
   "execution_count": 111,
   "metadata": {},
   "outputs": [
    {
     "data": {
      "text/plain": [
       "count    18987.000000\n",
       "mean       282.248749\n",
       "std        199.299649\n",
       "min          0.000000\n",
       "25%        159.000000\n",
       "50%        240.000000\n",
       "75%        353.000000\n",
       "max       3790.000000\n",
       "Name: long_cuerpo, dtype: float64"
      ]
     },
     "execution_count": 111,
     "metadata": {},
     "output_type": "execute_result"
    }
   ],
   "source": [
    "df['long_cuerpo'].describe()"
   ]
  },
  {
   "cell_type": "markdown",
   "metadata": {},
   "source": [
    "News with very few words don't do, so we drop them out of the dataset."
   ]
  },
  {
   "cell_type": "code",
   "execution_count": 116,
   "metadata": {},
   "outputs": [
    {
     "data": {
      "text/plain": [
       "count    18918.000000\n",
       "mean       283.278201\n",
       "std        198.931128\n",
       "min          3.000000\n",
       "25%        160.000000\n",
       "50%        240.500000\n",
       "75%        353.750000\n",
       "max       3790.000000\n",
       "Name: long_cuerpo, dtype: float64"
      ]
     },
     "execution_count": 116,
     "metadata": {},
     "output_type": "execute_result"
    }
   ],
   "source": [
    "df = df[df['long_cuerpo']!=0]\n",
    "df['long_cuerpo'].describe()"
   ]
  },
  {
   "cell_type": "code",
   "execution_count": 164,
   "metadata": {},
   "outputs": [
    {
     "data": {
      "text/plain": [
       "(18918, 8)"
      ]
     },
     "execution_count": 164,
     "metadata": {},
     "output_type": "execute_result"
    }
   ],
   "source": [
    "df.shape"
   ]
  },
  {
   "cell_type": "markdown",
   "metadata": {},
   "source": [
    "We investigate news with 10 words."
   ]
  },
  {
   "cell_type": "code",
   "execution_count": 123,
   "metadata": {},
   "outputs": [
    {
     "name": "stdout",
     "output_type": "stream",
     "text": [
      "Number of news with less than 10 words: 3\n",
      "Titulo: Falleció motociclista accidentado el pasado domingo \n",
      "Numero palabras: 3 \n",
      "Diario: lanacion \n",
      "Cuerpo: Llevaba la vía \n",
      "url: https://www.lanacion.com.co/fallecio-motociclista-accidentado-el-pasado-domingo/\n"
     ]
    }
   ],
   "source": [
    "n_words = 10\n",
    "df2 = df.query('long_cuerpo<@n_words')\n",
    "N = df2.shape[0]\n",
    "print('Number of news with less than', n_words, 'words:', N)\n",
    "\n",
    "def show_news(n, df):\n",
    "    print(\n",
    "        \"Titulo:\", df['titulo'].iloc[n],\n",
    "        \"\\nNumero palabras:\", df['long_cuerpo'].iloc[n],\n",
    "        \"\\nDiario:\", df['diario'].iloc[n],\n",
    "        \"\\nCuerpo:\", df['cuerpo'].iloc[n],\n",
    "\n",
    "        \"\\nurl:\", df['url'].iloc[n],\n",
    "    )\n",
    "    \n",
    "show_news(1, df2)"
   ]
  },
  {
   "cell_type": "markdown",
   "metadata": {},
   "source": [
    "In the news' body there are only three words, but checking the link we find that the scraper requires refinement, since it didn't quite scraped the news:\n",
    "\n",
    "![](motociclista.png)\n",
    "\n",
    "We take a look now at the entire distribution:"
   ]
  },
  {
   "cell_type": "code",
   "execution_count": 115,
   "metadata": {},
   "outputs": [
    {
     "data": {
      "text/plain": [
       "Text(0, 0.5, 'Number of news')"
      ]
     },
     "execution_count": 115,
     "metadata": {},
     "output_type": "execute_result"
    },
    {
     "data": {
      "image/png": "[encoded data removed]",
      "text/plain": [
       "<Figure size 432x288 with 1 Axes>"
      ]
     },
     "metadata": {},
     "output_type": "display_data"
    }
   ],
   "source": [
    "fig, ax = plt.subplots()\n",
    "df['long_cuerpo'].plot.hist(bins=100)\n",
    "ax.set_xlabel(\"Number of words\")\n",
    "ax.set_ylabel(\"Number of news\")"
   ]
  },
  {
   "cell_type": "markdown",
   "metadata": {},
   "source": [
    "The distribution of numbers of words per news has a heavy right tail. This is to be expected. Surprisingly, however, there is a peak to the left of the distribution that deserves closer scrutiny."
   ]
  },
  {
   "cell_type": "code",
   "execution_count": 65,
   "metadata": {},
   "outputs": [
    {
     "data": {
      "text/plain": [
       "Text(0, 0.5, 'Number of news')"
      ]
     },
     "execution_count": 65,
     "metadata": {},
     "output_type": "execute_result"
    },
    {
     "data": {
      "image/png": "[encoded data removed]",
      "text/plain": [
       "<Figure size 432x288 with 1 Axes>"
      ]
     },
     "metadata": {},
     "output_type": "display_data"
    }
   ],
   "source": [
    "df1 = df[(df['long_cuerpo'] > 40) & (df['long_cuerpo'] < 60)]\n",
    "fig, ax = plt.subplots()\n",
    "df1['long_cuerpo'].plot.hist(bins=20)\n",
    "ax.set_xlabel(\"Number of words\")\n",
    "ax.set_ylabel(\"Number of news\")\n",
    "#ax.set_xlim([40,60])"
   ]
  },
  {
   "cell_type": "markdown",
   "metadata": {},
   "source": [
    "We explore some news with 55 words."
   ]
  },
  {
   "cell_type": "code",
   "execution_count": 91,
   "metadata": {},
   "outputs": [
    {
     "name": "stdout",
     "output_type": "stream",
     "text": [
      "Titulo: Lucharon contra el tiempo para salvarlas, pero no se pudo \n",
      "Numero palabras: 55 \n",
      "Diario: eldiario \n",
      "Cuerpo: El reporte de las autoridades indica que fueron alrededor de 13 las personas heridas, Una tragedia inesperada causó impotencia entre quienes pusieron todas sus fuerzas para evitar la muerte de dos personas; este hecho ocurrió en la entrada al municipio de La Virginia después de pasar el puente Francisco Jaramillo Ochoa.  De las causas del… \n",
      "url: https://www.eldiario.com.co/judicial/editorwebeldiario-com-co/lucharon-contra-el-tiempo-para-salvarlas-pero-no-se-pudo/\n"
     ]
    }
   ],
   "source": [
    "df2 = df.query('long_cuerpo==55')\n",
    "   \n",
    "show_news(0, df2)"
   ]
  },
  {
   "cell_type": "markdown",
   "metadata": {},
   "source": [
    "We want to investigate if the peak is caused by news having `...`"
   ]
  },
  {
   "cell_type": "code",
   "execution_count": 93,
   "metadata": {},
   "outputs": [
    {
     "data": {
      "text/plain": [
       "Text(0, 0.5, 'Number of news')"
      ]
     },
     "execution_count": 93,
     "metadata": {},
     "output_type": "execute_result"
    },
    {
     "data": {
      "image/png": "[encoded data removed]",
      "text/plain": [
       "<Figure size 432x288 with 1 Axes>"
      ]
     },
     "metadata": {},
     "output_type": "display_data"
    }
   ],
   "source": [
    "df['cuerpo'].str.contains('…').sum()\n",
    "df1 = df[df['cuerpo'].str.contains('…')]\n",
    "fig, ax = plt.subplots()\n",
    "df1['long_cuerpo'].plot.hist(bins=20)\n",
    "ax.set_xlabel(\"Number of words\")\n",
    "ax.set_ylabel(\"Number of news\")"
   ]
  },
  {
   "cell_type": "code",
   "execution_count": 94,
   "metadata": {},
   "outputs": [],
   "source": [
    "df2 = df1.query('long_cuerpo>1000')"
   ]
  },
  {
   "cell_type": "code",
   "execution_count": 95,
   "metadata": {},
   "outputs": [
    {
     "name": "stdout",
     "output_type": "stream",
     "text": [
      "Titulo: ‘Mató a la exesposa y la trozó en pedacitos’ \n",
      "Numero palabras: 1245 \n",
      "Diario: lanacion \n",
      "Cuerpo: Rafael Rodríguez C. rafael@lanacion. com. co “La intención era que nunca se conociera dónde estaba Miriam, que se diera por desaparecida…la trozo en pedacitos…”, fue la cruda narración de la Fiscal Tercera Especializada de Neiva, al señalar como presunto responsable del macabro asesinato de Miriam Ovalle Téllez a su exesposo Hermes Cabrera Pascuas. Las sospechas, de los investigadores del Gaula de la Policía en el Huila, sobre la presunta autoría del hombre en el crimen, se hicieron más fuertes no solo con el análisis de los videos de las cámaras de establecimientos comerciales donde se ve a la pareja, sino por las inconsistencias en sus declaraciones, por los rastros de sangre que se encontraron en el vehículo y el análisis del perfilador criminal de la Dijin. “Hay muchas inconsistencias en referencia a lo manifestado por Hermes Cabrera, quien fue la última persona en tener contacto con Miriam momentos antes de su desaparición, ya que no concuerda el recorrido que realizó, con el que mencionó en la denuncia”, dijo la fiscal en las audiencias preliminares ante el Juez Décimo Penal Municipal de Neiva con Funciones de Conocimiento. El hombre, denunció ante las autoridades, la supuesta desaparición de Miriam Ovalle, el 4 de febrero de 2017, horas después de haberla acompañado a realizar unas compras a diferentes establecimientos comerciales en el municipio de Pitalito.  “Acompañó a Miriam a comprar los elementos porque eran los que iba a utilizar, porque se iba ir a vivir con Oswaldo Cruz, su nuevo compañero y Hermes muy amablemente la estaba acompañando a realizar esas compras, eso fue lo que Hermes contó en su denuncia por la desaparición…”, manifestó la delegada de la Fiscalía. Sin embargo, las primeras pistas de la presunta desaparición de la mujer apuntaban a su excompañero sentimental Cabrera Pascuas, con el análisis de los videos de seguridad de las cámaras de los almacenes donde estuvieron. La fiscal señaló que en el primero de los videos, se observa a Miriam en compañía de Hermes en el establecimiento La Locura del Remate, ubicado en la carrera 3 con calle 4,  las 10:55 de la mañana.  “Se observa que ella llega en compañía de su exesposo Hermes…”. En la imagen se observa que la víctima entra el establecimiento y a las 11:38 a. m.  se evidencia a Hermes abrazando a la señora, “a las 11:42 se observa a los dos salir del establecimiento comercial e ingresan a la camioneta de placa THR-449, conducida por Hermes Cabrera Pascuas y se van del lugar”, explicó la fiscal. Agregó que a las 11:49 a. m. , en otro video, se observa cuando llega en la camioneta la víctima en compañía de su exesposo a otro establecimiento comercial La Locura del Remate, ubicado en la carrera 3 entre calles 6 y 7, “se evidencia que la víctima compra algunos artículos, a las 11:51 se observa a Hermes bajar del vehículo, ingresa al establecimiento, con el fin de encontrarse con Miriam”. Sostuvo la fiscal que a las 11:53 a. m. , se observa a Hermes parado en la entrada principal del establecimiento, y a las 11:55 se ve a Hermes salir del establecimiento y detrás de él una persona con una caja con dirección al vehículo, y se observa a  Miriam salir del  establecimiento, aborda la camioneta y a las 11:56 se observa la camioneta partir del lugar. Señaló que en los videos de la ferretería, a las 11:56, se observa que la camioneta pasa, “no se observa sus ocupantes.  “Se obtienen los videos de la ferretería Triga, donde Hermes manifestó que dejó a la víctima frente a este establecimiento, con el fin de que compre una nevera.  Pero lo que se puede evidenciar en el video es que la camioneta sigue de largo, y nunca se detiene en este lugar, a las 11:58 . m”. Precisó que en el video del depósito La 18, “se evidencia que siendo las 11:58 la camioneta sigue de largo con dirección hacia la iglesia el Divino Niño…mientras que el video de la fábrica de colchones en el barrio Las Acacias, se aprecia que la camioneta pasa devolviéndose por el frente de la cámara, siendo las 12:09 con rumbo hacia la estación de servicio Yamboro, vuelve a pasar a las 12:28 pero con destino al sector rural, recorrido que no menciona Hermes en la denuncia”. Dos meses de la misteriosa desaparición de Miriam, son encontrados restos óseos en la vereda Vegas de Alumbre Criollo en Pitalito.  “Se pensó que no podían ser de Miriam…no era posible que estuviera el cuerpo esqueletizado al punto como se encontraron”. Sin embargo las autoridades ordenaron pruebas de ADN de los restos óseos con Blanca Emma Téllez, mamá de Miriam, que determinó que los restos correspondían a los de Mirian Ovalle Téllez. Según la necropsia, la muerte fue violenta, “el cráneo estaba sin maxilar inferior, con ausencia de los incisivos (dientes) superiores, tenía un braquet metálico dorado, y encontraron otros pedazos de huesos”, indicó la fiscal. Agregó que el estudio de la necropsia arrojó que el cuerpo fue mutilado, “cortado en pedazos muy pequeños, con el fin de desaparecer a Miriam Ovalle Téllez, que no existiera ningún rastro y nuca más se pudiera identificar qué persona era”.  El análisis de las cámaras de seguridad y el hallazgo de los restos óseos, llevó a la Fiscalía a ordenar un estudio de luces forenses a la camioneta que Hermes conducía el último día que estuvo con Miriam. La fiscal señaló que el estudio arrojó positivo para rastros de sangre en la silla trasera de la cabina “el rastro de sangre que estaba seca se tomó con hisopos, se realizó el análisis en Medicina Legal pero no aportó nada porque la sangre estaba seca.  Se realizó el 14 de febrero de 2017”. Indicó que la sangre se encontró en la silla trasera por el lado del copiloto, en el piso a manera de gotas, en la parte trasera del lado del conductor y en el marco del vidrio de atrás de la camioneta. Precisó la fiscal que cuando el proceso llegó a sus manos, volvió a solicitar la incautación de la camioneta para un nuevo examen de luces forenses, “se adelantó el procedimiento, se bajaron las sillas del carro y se estableció que se le habían cambiado los tapetes, la tapicería”. El nuevo estudio forense se adelantó en el mes de noviembre de 2017, encontrando restos de sangre en la espuma de la silla y en la parte metálica de la misma.  “Se enviaron las piezas a Medicina Legal en Bogotá y encontraron que la sangre era humana, no se pudo determinar si correspondía a Miriam Ovalle Téllez”. La Fiscalía además se valió de un perfilador criminal de la Dijin en Bogotá, para el análisis de los elementos materiales probatorios como la entrevista de Hermes Cabrera, a Oswaldo Cruz compañero sentimental de la mujer y  Blanca Emma Téllez, entre otras.  Además de analizar los informes que realizó la Policía Judicial. “El perfilador señaló que la víctima fue seleccionada, el agresor se acerca a la víctima mediante una relación actual o pasada…la motivación criminal fue económica, la finalidad era adquirir bienes y dinero”, explicó la fiscal. Los indicios de la presunta responsabilidad de Hermes Cabrera en la muerte de su exesposa Miriam Ovalle, llevaron al Juez Décimo Penal Municipal de Neiva con Funciones de Garantías a ordenar la medida de aseguramiento carcelario contra el hombre.  Mientras que la fiscal le imputó los delitos de feminicidio agravado y desaparición forzada.  \n",
      "url: https://www.lanacion.com.co/mato-a-la-exesposa-y-la-trozo-en-pedacitos-la-nacion/\n"
     ]
    }
   ],
   "source": [
    "show_news(0, df2)"
   ]
  },
  {
   "cell_type": "markdown",
   "metadata": {},
   "source": [
    "The caracter `...` can show up also in the middle of a textual quote. However, we can check only at the end of the news."
   ]
  },
  {
   "cell_type": "code",
   "execution_count": 98,
   "metadata": {},
   "outputs": [
    {
     "name": "stdout",
     "output_type": "stream",
     "text": [
      "Titulo: Recién nacido fue encontrado dentro de una bolsa plástica \n",
      "Numero palabras: 49 \n",
      "Diario: lanacion \n",
      "Cuerpo: Las autoridades se encuentran realizando las debidas diligencias para esclarecer quién dejó abandonada una bolsa plástica que contenía en su interior a un bebé recién nacido. El hecho ocurrió este domingo en la calle 27 sur # 34A – 74 del barrio Oasis 3 de Neiva. Noticia en desarrollo… \n",
      "url: https://www.lanacion.com.co/recien-nacido-fue-encontrado-dentro-de-una-bolsa-plastica/\n"
     ]
    }
   ],
   "source": [
    "df2 = df[df['cuerpo'].str.endswith('…')]\n",
    "show_news(0, df2)"
   ]
  },
  {
   "cell_type": "code",
   "execution_count": 106,
   "metadata": {},
   "outputs": [
    {
     "data": {
      "text/plain": [
       "(45.0, 60.0)"
      ]
     },
     "execution_count": 106,
     "metadata": {},
     "output_type": "execute_result"
    },
    {
     "data": {
      "image/png": "[encoded data removed]",
      "text/plain": [
       "<Figure size 432x288 with 1 Axes>"
      ]
     },
     "metadata": {},
     "output_type": "display_data"
    }
   ],
   "source": [
    "fig, ax = plt.subplots()\n",
    "df2['long_cuerpo'].plot.hist(bins=200)\n",
    "ax.set_xlabel(\"Number of words\")\n",
    "ax.set_ylabel(\"Number of news\")\n",
    "ax.set_xlim([45,60])"
   ]
  },
  {
   "cell_type": "markdown",
   "metadata": {},
   "source": [
    "We take a look now at the distribution per newspaper:"
   ]
  },
  {
   "cell_type": "code",
   "execution_count": 127,
   "metadata": {},
   "outputs": [
    {
     "data": {
      "text/plain": [
       "<matplotlib.axes._subplots.AxesSubplot at 0x1249ea0d0>"
      ]
     },
     "execution_count": 127,
     "metadata": {},
     "output_type": "execute_result"
    },
    {
     "data": {
      "image/png": "[encoded data removed]",
      "text/plain": [
       "<Figure size 864x576 with 1 Axes>"
      ]
     },
     "metadata": {},
     "output_type": "display_data"
    }
   ],
   "source": [
    "plt.figure(figsize=(12, 8))\n",
    "sns.boxplot(\n",
    "    y='long_cuerpo', \n",
    "    x='diario', \n",
    "    data=df, \n",
    "    width=0.5, \n",
    "    palette=\"colorblind\"\n",
    ")"
   ]
  },
  {
   "cell_type": "code",
   "execution_count": 130,
   "metadata": {},
   "outputs": [
    {
     "data": {
      "text/plain": [
       "55    1168\n",
       "54      68\n",
       "56      42\n",
       "57      23\n",
       "41       2\n",
       "58       2\n",
       "53       2\n",
       "40       2\n",
       "61       1\n",
       "33       1\n",
       "38       1\n",
       "39       1\n",
       "44       1\n",
       "42       1\n",
       "43       1\n",
       "59       1\n",
       "48       1\n",
       "26       1\n",
       "Name: long_cuerpo, dtype: int64"
      ]
     },
     "execution_count": 130,
     "metadata": {},
     "output_type": "execute_result"
    }
   ],
   "source": [
    "eldiario_df = df.query('diario==\"eldiario\"')\n",
    "eldiario_df['long_cuerpo'].value_counts()"
   ]
  },
  {
   "cell_type": "code",
   "execution_count": 131,
   "metadata": {},
   "outputs": [
    {
     "name": "stdout",
     "output_type": "stream",
     "text": [
      "Titulo: Lucharon contra el tiempo para salvarlas, pero no se pudo \n",
      "Numero palabras: 55 \n",
      "Diario: eldiario \n",
      "Cuerpo: El reporte de las autoridades indica que fueron alrededor de 13 las personas heridas, Una tragedia inesperada causó impotencia entre quienes pusieron todas sus fuerzas para evitar la muerte de dos personas; este hecho ocurrió en la entrada al municipio de La Virginia después de pasar el puente Francisco Jaramillo Ochoa.  De las causas del… \n",
      "url: https://www.eldiario.com.co/judicial/editorwebeldiario-com-co/lucharon-contra-el-tiempo-para-salvarlas-pero-no-se-pudo/\n"
     ]
    }
   ],
   "source": [
    "show_news(0, eldiario_df)"
   ]
  },
  {
   "cell_type": "markdown",
   "metadata": {},
   "source": [
    "News with this amount of words seem to be from newspapers requiring subscription:\n",
    "\n",
    "![](suscription.png)"
   ]
  },
  {
   "cell_type": "code",
   "execution_count": 134,
   "metadata": {},
   "outputs": [
    {
     "data": {
      "text/html": [
       "<iframe src=\"https://www.eldiario.com.co/judicial/editorwebeldiario-com-co/roba-desde-los-15-anos/\" width=\"500\" height=\"500\"></iframe>\n"
      ],
      "text/plain": [
       "<IPython.core.display.HTML object>"
      ]
     },
     "metadata": {},
     "output_type": "display_data"
    }
   ],
   "source": [
    "%%html\n",
    "<iframe src=\"https://www.eldiario.com.co/judicial/editorwebeldiario-com-co/roba-desde-los-15-anos/\" width=\"500\" height=\"500\"></iframe>"
   ]
  },
  {
   "cell_type": "markdown",
   "metadata": {},
   "source": [
    "Which newspapers have \"breaking news\" and or require suscription?"
   ]
  },
  {
   "cell_type": "code",
   "execution_count": 135,
   "metadata": {},
   "outputs": [
    {
     "data": {
      "text/plain": [
       "<matplotlib.axes._subplots.AxesSubplot at 0x124872ed0>"
      ]
     },
     "execution_count": 135,
     "metadata": {},
     "output_type": "execute_result"
    },
    {
     "data": {
      "image/png": "[encoded data removed]",
      "text/plain": [
       "<Figure size 432x288 with 1 Axes>"
      ]
     },
     "metadata": {},
     "output_type": "display_data"
    }
   ],
   "source": [
    "sns.boxplot(\n",
    "    y='long_cuerpo', \n",
    "    x='diario', \n",
    "    data=df[df['cuerpo'].str.endswith('…')], \n",
    "    width=0.5, \n",
    "    palette=\"colorblind\"\n",
    ")"
   ]
  },
  {
   "cell_type": "markdown",
   "metadata": {},
   "source": [
    "**Preliminary conclusion 1**\n",
    "\n",
    "- We need to verify the code from some scrapers which are not scrapping the news' body.\n",
    "\n",
    "- There is a high number of news which are either \"breaking news\" (containing but a few informative words) or news which cannot be fully accessed since they require suscription (these also provide but a few words). We decided not to discard these news from our analysis."
   ]
  },
  {
   "cell_type": "markdown",
   "metadata": {},
   "source": [
    "**Text mining**\n",
    "\n",
    "We clean up words"
   ]
  },
  {
   "cell_type": "code",
   "execution_count": 151,
   "metadata": {},
   "outputs": [
    {
     "name": "stdout",
     "output_type": "stream",
     "text": [
      "size words dictionary to remove 5652\n"
     ]
    }
   ],
   "source": [
    "swords = stopwords.words('spanish')\n",
    "df_names = pd.read_csv('names.csv')\n",
    "\n",
    "swords = swords + list(df_names['name'])\n",
    "print('size words dictionary to remove', len(swords))"
   ]
  },
  {
   "cell_type": "code",
   "execution_count": 152,
   "metadata": {},
   "outputs": [],
   "source": [
    "spanishstemmer = SnowballStemmer('spanish')"
   ]
  },
  {
   "cell_type": "code",
   "execution_count": 153,
   "metadata": {},
   "outputs": [
    {
     "name": "stdout",
     "output_type": "stream",
     "text": [
      "Convirtiendo a minuscula...\n",
      "Removiendo puntuacion...\n",
      "Removiendo stopwords...\n",
      "Removiendo acentos...\n",
      "Removiendo numeros...\n",
      "Stemming words...\n",
      "Validando si la palabra es del alfabeto\n",
      "Si tiene mas de dos letras\n"
     ]
    },
    {
     "data": {
      "text/plain": [
       "17577089"
      ]
     },
     "execution_count": 153,
     "metadata": {},
     "output_type": "execute_result"
    }
   ],
   "source": [
    "df['text'] = df['titulo'] + ' ' + df['cuerpo']\n",
    "\n",
    "# \n",
    "serie_word = df['text']\n",
    "\n",
    "print('Convirtiendo a minuscula...')\n",
    "#Lower case\n",
    "serie_word = serie_word.str.lower()\n",
    "\n",
    "print('Removiendo puntuacion...')\n",
    "#Removing Punctuation\n",
    "serie_word = serie_word.str.replace('[^\\w\\s]','')\n",
    "\n",
    "print('Removiendo stopwords...')\n",
    "#Removal of Stop Words\n",
    "#pattern = '|'.join(swords)\n",
    "serie_word = serie_word.apply(lambda x: \" \".join(word for word in x.split() if word not in swords))\n",
    "\n",
    "print('Removiendo acentos...')\n",
    "#Removal accents\n",
    "serie_word = serie_word.apply(lambda x: \" \".join(unidecode(word) for word in x.split()))\n",
    "\n",
    "print('Removiendo numeros...')\n",
    "#Numbers removing\n",
    "serie_word = serie_word.str.replace('\\d+', '')\n",
    "\n",
    "print('Stemming words...')\n",
    "# Stemming (word root)\n",
    "serie_word = serie_word.apply(lambda x: \" \".join(spanishstemmer.stem(word) for word in x.split()))\n",
    "\n",
    "print('Validando si la palabra es del alfabeto')\n",
    "serie_word = serie_word.apply(lambda x: \" \".join(word for word in x.split() if word.isalpha()))\n",
    "\n",
    "print('Si tiene mas de dos letras')\n",
    "serie_word = serie_word.apply(lambda x: \" \".join(word for word in x.split() if len(word) > 2))\n",
    "\n",
    "\n",
    "# number words by each body\n",
    "serie_word.apply(lambda x: len(x))\n",
    "\n",
    "serie_word.apply(lambda x: len(x)).sum()\n"
   ]
  },
  {
   "cell_type": "code",
   "execution_count": 154,
   "metadata": {},
   "outputs": [
    {
     "data": {
      "image/png": "[encoded data removed]",
      "text/plain": [
       "<Figure size 432x288 with 1 Axes>"
      ]
     },
     "metadata": {},
     "output_type": "display_data"
    }
   ],
   "source": [
    "text = serie_word.values\n",
    "wordcloud = WordCloud().generate(str(text))\n",
    "\n",
    "plt.imshow(wordcloud)\n",
    "plt.axis(\"off\")\n",
    "plt.show()"
   ]
  },
  {
   "cell_type": "markdown",
   "metadata": {},
   "source": [
    "**Inside the news from a word frequency perspective**"
   ]
  },
  {
   "cell_type": "markdown",
   "metadata": {},
   "source": [
    "Our preliminary analysis considers a simple frequency of keywords. We choose the words describing subcategories from one of the main categories of interest in Victim's Unit, namely, \"Hechos contra la población civil\"."
   ]
  },
  {
   "cell_type": "code",
   "execution_count": 155,
   "metadata": {},
   "outputs": [
    {
     "name": "stdout",
     "output_type": "stream",
     "text": [
      "Stemming words...\n"
     ]
    }
   ],
   "source": [
    "# Keep only news containing relevant keywords\n",
    "searchfor = [\"homicidio\",\n",
    "\"masacre\", \"secuestro\",\n",
    "\"tortura\",\n",
    "\"desplazamiento\",\n",
    "\"forzado\",\n",
    "\"confinamiento\",\n",
    "\"accidente minas\",\n",
    "\"antipersonal\",\n",
    "\"atentado\",\n",
    "\"reclutamiento\",\n",
    "#\"utilizacion NNA\",\n",
    "\"violencia sexual\",\n",
    "\"ataque\",\n",
    "\"indiscriminado\",\n",
    "\"ataque bienes\",\n",
    "\"civiles\"]\n",
    "\n",
    "searchfor = pd.Series(searchfor)\n",
    "\n",
    "print('Stemming words...')\n",
    "# Stemming (word root)\n",
    "searchfor = searchfor.apply(lambda x: \" \".join(spanishstemmer.stem(word) for word in x.split()))"
   ]
  },
  {
   "cell_type": "code",
   "execution_count": 158,
   "metadata": {},
   "outputs": [
    {
     "data": {
      "text/plain": [
       "0            homicidi\n",
       "1              masacr\n",
       "2            secuestr\n",
       "3              tortur\n",
       "4             desplaz\n",
       "5                forz\n",
       "6              confin\n",
       "7        accident min\n",
       "8        antipersonal\n",
       "9               atent\n",
       "10             reclut\n",
       "11    violenci sexual\n",
       "12              ataqu\n",
       "13        indiscrimin\n",
       "14         ataqu bien\n",
       "15              civil\n",
       "dtype: object"
      ]
     },
     "execution_count": 158,
     "metadata": {},
     "output_type": "execute_result"
    }
   ],
   "source": [
    "searchfor"
   ]
  },
  {
   "cell_type": "code",
   "execution_count": 159,
   "metadata": {},
   "outputs": [
    {
     "data": {
      "text/html": [
       "<div>\n",
       "<style scoped>\n",
       "    .dataframe tbody tr th:only-of-type {\n",
       "        vertical-align: middle;\n",
       "    }\n",
       "\n",
       "    .dataframe tbody tr th {\n",
       "        vertical-align: top;\n",
       "    }\n",
       "\n",
       "    .dataframe thead th {\n",
       "        text-align: right;\n",
       "    }\n",
       "</style>\n",
       "<table border=\"1\" class=\"dataframe\">\n",
       "  <thead>\n",
       "    <tr style=\"text-align: right;\">\n",
       "      <th></th>\n",
       "      <th>homicidi</th>\n",
       "      <th>masacr</th>\n",
       "      <th>secuestr</th>\n",
       "      <th>tortur</th>\n",
       "      <th>desplaz</th>\n",
       "      <th>forz</th>\n",
       "      <th>confin</th>\n",
       "      <th>accident min</th>\n",
       "      <th>antipersonal</th>\n",
       "      <th>atent</th>\n",
       "      <th>reclut</th>\n",
       "      <th>violenci sexual</th>\n",
       "      <th>ataqu</th>\n",
       "      <th>indiscrimin</th>\n",
       "      <th>ataqu bien</th>\n",
       "      <th>civil</th>\n",
       "    </tr>\n",
       "  </thead>\n",
       "  <tbody>\n",
       "    <tr>\n",
       "      <th>0</th>\n",
       "      <td>1</td>\n",
       "      <td>0</td>\n",
       "      <td>0</td>\n",
       "      <td>0</td>\n",
       "      <td>0</td>\n",
       "      <td>0</td>\n",
       "      <td>0</td>\n",
       "      <td>0</td>\n",
       "      <td>0</td>\n",
       "      <td>0</td>\n",
       "      <td>0</td>\n",
       "      <td>0</td>\n",
       "      <td>0</td>\n",
       "      <td>0</td>\n",
       "      <td>0</td>\n",
       "      <td>0</td>\n",
       "    </tr>\n",
       "    <tr>\n",
       "      <th>1</th>\n",
       "      <td>5</td>\n",
       "      <td>0</td>\n",
       "      <td>0</td>\n",
       "      <td>0</td>\n",
       "      <td>0</td>\n",
       "      <td>0</td>\n",
       "      <td>0</td>\n",
       "      <td>0</td>\n",
       "      <td>0</td>\n",
       "      <td>0</td>\n",
       "      <td>0</td>\n",
       "      <td>0</td>\n",
       "      <td>0</td>\n",
       "      <td>1</td>\n",
       "      <td>0</td>\n",
       "      <td>0</td>\n",
       "    </tr>\n",
       "    <tr>\n",
       "      <th>2</th>\n",
       "      <td>0</td>\n",
       "      <td>0</td>\n",
       "      <td>0</td>\n",
       "      <td>0</td>\n",
       "      <td>1</td>\n",
       "      <td>0</td>\n",
       "      <td>0</td>\n",
       "      <td>0</td>\n",
       "      <td>0</td>\n",
       "      <td>0</td>\n",
       "      <td>0</td>\n",
       "      <td>0</td>\n",
       "      <td>0</td>\n",
       "      <td>0</td>\n",
       "      <td>0</td>\n",
       "      <td>0</td>\n",
       "    </tr>\n",
       "    <tr>\n",
       "      <th>3</th>\n",
       "      <td>0</td>\n",
       "      <td>0</td>\n",
       "      <td>1</td>\n",
       "      <td>0</td>\n",
       "      <td>2</td>\n",
       "      <td>2</td>\n",
       "      <td>0</td>\n",
       "      <td>0</td>\n",
       "      <td>0</td>\n",
       "      <td>0</td>\n",
       "      <td>0</td>\n",
       "      <td>0</td>\n",
       "      <td>0</td>\n",
       "      <td>0</td>\n",
       "      <td>0</td>\n",
       "      <td>0</td>\n",
       "    </tr>\n",
       "    <tr>\n",
       "      <th>4</th>\n",
       "      <td>3</td>\n",
       "      <td>0</td>\n",
       "      <td>0</td>\n",
       "      <td>0</td>\n",
       "      <td>0</td>\n",
       "      <td>0</td>\n",
       "      <td>0</td>\n",
       "      <td>0</td>\n",
       "      <td>0</td>\n",
       "      <td>0</td>\n",
       "      <td>0</td>\n",
       "      <td>0</td>\n",
       "      <td>0</td>\n",
       "      <td>0</td>\n",
       "      <td>0</td>\n",
       "      <td>0</td>\n",
       "    </tr>\n",
       "    <tr>\n",
       "      <th>...</th>\n",
       "      <td>...</td>\n",
       "      <td>...</td>\n",
       "      <td>...</td>\n",
       "      <td>...</td>\n",
       "      <td>...</td>\n",
       "      <td>...</td>\n",
       "      <td>...</td>\n",
       "      <td>...</td>\n",
       "      <td>...</td>\n",
       "      <td>...</td>\n",
       "      <td>...</td>\n",
       "      <td>...</td>\n",
       "      <td>...</td>\n",
       "      <td>...</td>\n",
       "      <td>...</td>\n",
       "      <td>...</td>\n",
       "    </tr>\n",
       "    <tr>\n",
       "      <th>6515</th>\n",
       "      <td>0</td>\n",
       "      <td>0</td>\n",
       "      <td>1</td>\n",
       "      <td>0</td>\n",
       "      <td>0</td>\n",
       "      <td>0</td>\n",
       "      <td>1</td>\n",
       "      <td>0</td>\n",
       "      <td>0</td>\n",
       "      <td>0</td>\n",
       "      <td>0</td>\n",
       "      <td>0</td>\n",
       "      <td>0</td>\n",
       "      <td>0</td>\n",
       "      <td>0</td>\n",
       "      <td>0</td>\n",
       "    </tr>\n",
       "    <tr>\n",
       "      <th>6516</th>\n",
       "      <td>1</td>\n",
       "      <td>0</td>\n",
       "      <td>0</td>\n",
       "      <td>0</td>\n",
       "      <td>0</td>\n",
       "      <td>0</td>\n",
       "      <td>0</td>\n",
       "      <td>0</td>\n",
       "      <td>0</td>\n",
       "      <td>0</td>\n",
       "      <td>0</td>\n",
       "      <td>0</td>\n",
       "      <td>0</td>\n",
       "      <td>0</td>\n",
       "      <td>0</td>\n",
       "      <td>0</td>\n",
       "    </tr>\n",
       "    <tr>\n",
       "      <th>6517</th>\n",
       "      <td>0</td>\n",
       "      <td>0</td>\n",
       "      <td>0</td>\n",
       "      <td>0</td>\n",
       "      <td>0</td>\n",
       "      <td>0</td>\n",
       "      <td>0</td>\n",
       "      <td>0</td>\n",
       "      <td>0</td>\n",
       "      <td>0</td>\n",
       "      <td>0</td>\n",
       "      <td>0</td>\n",
       "      <td>1</td>\n",
       "      <td>0</td>\n",
       "      <td>0</td>\n",
       "      <td>0</td>\n",
       "    </tr>\n",
       "    <tr>\n",
       "      <th>6518</th>\n",
       "      <td>0</td>\n",
       "      <td>0</td>\n",
       "      <td>0</td>\n",
       "      <td>0</td>\n",
       "      <td>0</td>\n",
       "      <td>0</td>\n",
       "      <td>0</td>\n",
       "      <td>0</td>\n",
       "      <td>0</td>\n",
       "      <td>1</td>\n",
       "      <td>0</td>\n",
       "      <td>0</td>\n",
       "      <td>0</td>\n",
       "      <td>0</td>\n",
       "      <td>0</td>\n",
       "      <td>0</td>\n",
       "    </tr>\n",
       "    <tr>\n",
       "      <th>6519</th>\n",
       "      <td>2</td>\n",
       "      <td>0</td>\n",
       "      <td>0</td>\n",
       "      <td>0</td>\n",
       "      <td>0</td>\n",
       "      <td>0</td>\n",
       "      <td>0</td>\n",
       "      <td>0</td>\n",
       "      <td>0</td>\n",
       "      <td>0</td>\n",
       "      <td>0</td>\n",
       "      <td>0</td>\n",
       "      <td>2</td>\n",
       "      <td>0</td>\n",
       "      <td>0</td>\n",
       "      <td>1</td>\n",
       "    </tr>\n",
       "  </tbody>\n",
       "</table>\n",
       "<p>6520 rows × 16 columns</p>\n",
       "</div>"
      ],
      "text/plain": [
       "      homicidi  masacr  secuestr  tortur  desplaz  forz  confin  accident min  \\\n",
       "0            1       0         0       0        0     0       0             0   \n",
       "1            5       0         0       0        0     0       0             0   \n",
       "2            0       0         0       0        1     0       0             0   \n",
       "3            0       0         1       0        2     2       0             0   \n",
       "4            3       0         0       0        0     0       0             0   \n",
       "...        ...     ...       ...     ...      ...   ...     ...           ...   \n",
       "6515         0       0         1       0        0     0       1             0   \n",
       "6516         1       0         0       0        0     0       0             0   \n",
       "6517         0       0         0       0        0     0       0             0   \n",
       "6518         0       0         0       0        0     0       0             0   \n",
       "6519         2       0         0       0        0     0       0             0   \n",
       "\n",
       "      antipersonal  atent  reclut  violenci sexual  ataqu  indiscrimin  \\\n",
       "0                0      0       0                0      0            0   \n",
       "1                0      0       0                0      0            1   \n",
       "2                0      0       0                0      0            0   \n",
       "3                0      0       0                0      0            0   \n",
       "4                0      0       0                0      0            0   \n",
       "...            ...    ...     ...              ...    ...          ...   \n",
       "6515             0      0       0                0      0            0   \n",
       "6516             0      0       0                0      0            0   \n",
       "6517             0      0       0                0      1            0   \n",
       "6518             0      1       0                0      0            0   \n",
       "6519             0      0       0                0      2            0   \n",
       "\n",
       "      ataqu bien  civil  \n",
       "0              0      0  \n",
       "1              0      0  \n",
       "2              0      0  \n",
       "3              0      0  \n",
       "4              0      0  \n",
       "...          ...    ...  \n",
       "6515           0      0  \n",
       "6516           0      0  \n",
       "6517           0      0  \n",
       "6518           0      0  \n",
       "6519           0      1  \n",
       "\n",
       "[6520 rows x 16 columns]"
      ]
     },
     "execution_count": 159,
     "metadata": {},
     "output_type": "execute_result"
    }
   ],
   "source": [
    "searchfor = list(searchfor)\n",
    "db_hechocontrapoblacion=serie_word[serie_word.str.contains('|'.join(searchfor))]\n",
    "\n",
    "# Count frequency of occurrence of each keyword in these news\n",
    "vectorizer = CountVectorizer(vocabulary=searchfor, min_df=0,\n",
    "                             stop_words=frozenset(), token_pattern=r\"(?u)\\b\\w+\\b\")\n",
    "X = vectorizer.fit_transform(db_hechocontrapoblacion.values)\n",
    "result = pd.DataFrame(data=X.toarray(), columns=vectorizer.get_feature_names())\n",
    "result"
   ]
  },
  {
   "cell_type": "code",
   "execution_count": 162,
   "metadata": {},
   "outputs": [
    {
     "data": {
      "text/html": [
       "<div>\n",
       "<style scoped>\n",
       "    .dataframe tbody tr th:only-of-type {\n",
       "        vertical-align: middle;\n",
       "    }\n",
       "\n",
       "    .dataframe tbody tr th {\n",
       "        vertical-align: top;\n",
       "    }\n",
       "\n",
       "    .dataframe thead th {\n",
       "        text-align: right;\n",
       "    }\n",
       "</style>\n",
       "<table border=\"1\" class=\"dataframe\">\n",
       "  <thead>\n",
       "    <tr style=\"text-align: right;\">\n",
       "      <th></th>\n",
       "      <th>count</th>\n",
       "      <th>mean</th>\n",
       "      <th>std</th>\n",
       "      <th>min</th>\n",
       "      <th>25%</th>\n",
       "      <th>50%</th>\n",
       "      <th>75%</th>\n",
       "      <th>max</th>\n",
       "    </tr>\n",
       "  </thead>\n",
       "  <tbody>\n",
       "    <tr>\n",
       "      <th>homicidi</th>\n",
       "      <td>6520.0</td>\n",
       "      <td>0.698926</td>\n",
       "      <td>1.150708</td>\n",
       "      <td>0.0</td>\n",
       "      <td>0.0</td>\n",
       "      <td>0.0</td>\n",
       "      <td>1.0</td>\n",
       "      <td>11.0</td>\n",
       "    </tr>\n",
       "    <tr>\n",
       "      <th>masacr</th>\n",
       "      <td>6520.0</td>\n",
       "      <td>0.038497</td>\n",
       "      <td>0.395041</td>\n",
       "      <td>0.0</td>\n",
       "      <td>0.0</td>\n",
       "      <td>0.0</td>\n",
       "      <td>0.0</td>\n",
       "      <td>13.0</td>\n",
       "    </tr>\n",
       "    <tr>\n",
       "      <th>secuestr</th>\n",
       "      <td>6520.0</td>\n",
       "      <td>0.377914</td>\n",
       "      <td>1.395038</td>\n",
       "      <td>0.0</td>\n",
       "      <td>0.0</td>\n",
       "      <td>0.0</td>\n",
       "      <td>0.0</td>\n",
       "      <td>15.0</td>\n",
       "    </tr>\n",
       "    <tr>\n",
       "      <th>tortur</th>\n",
       "      <td>6520.0</td>\n",
       "      <td>0.036656</td>\n",
       "      <td>0.301919</td>\n",
       "      <td>0.0</td>\n",
       "      <td>0.0</td>\n",
       "      <td>0.0</td>\n",
       "      <td>0.0</td>\n",
       "      <td>9.0</td>\n",
       "    </tr>\n",
       "    <tr>\n",
       "      <th>desplaz</th>\n",
       "      <td>6520.0</td>\n",
       "      <td>0.219632</td>\n",
       "      <td>0.514774</td>\n",
       "      <td>0.0</td>\n",
       "      <td>0.0</td>\n",
       "      <td>0.0</td>\n",
       "      <td>0.0</td>\n",
       "      <td>6.0</td>\n",
       "    </tr>\n",
       "    <tr>\n",
       "      <th>forz</th>\n",
       "      <td>6520.0</td>\n",
       "      <td>0.046319</td>\n",
       "      <td>0.275282</td>\n",
       "      <td>0.0</td>\n",
       "      <td>0.0</td>\n",
       "      <td>0.0</td>\n",
       "      <td>0.0</td>\n",
       "      <td>5.0</td>\n",
       "    </tr>\n",
       "    <tr>\n",
       "      <th>confin</th>\n",
       "      <td>6520.0</td>\n",
       "      <td>0.007822</td>\n",
       "      <td>0.116581</td>\n",
       "      <td>0.0</td>\n",
       "      <td>0.0</td>\n",
       "      <td>0.0</td>\n",
       "      <td>0.0</td>\n",
       "      <td>3.0</td>\n",
       "    </tr>\n",
       "    <tr>\n",
       "      <th>accident min</th>\n",
       "      <td>6520.0</td>\n",
       "      <td>0.000000</td>\n",
       "      <td>0.000000</td>\n",
       "      <td>0.0</td>\n",
       "      <td>0.0</td>\n",
       "      <td>0.0</td>\n",
       "      <td>0.0</td>\n",
       "      <td>0.0</td>\n",
       "    </tr>\n",
       "    <tr>\n",
       "      <th>antipersonal</th>\n",
       "      <td>6520.0</td>\n",
       "      <td>0.010429</td>\n",
       "      <td>0.159233</td>\n",
       "      <td>0.0</td>\n",
       "      <td>0.0</td>\n",
       "      <td>0.0</td>\n",
       "      <td>0.0</td>\n",
       "      <td>5.0</td>\n",
       "    </tr>\n",
       "    <tr>\n",
       "      <th>atent</th>\n",
       "      <td>6520.0</td>\n",
       "      <td>0.400307</td>\n",
       "      <td>0.980028</td>\n",
       "      <td>0.0</td>\n",
       "      <td>0.0</td>\n",
       "      <td>0.0</td>\n",
       "      <td>0.0</td>\n",
       "      <td>13.0</td>\n",
       "    </tr>\n",
       "    <tr>\n",
       "      <th>reclut</th>\n",
       "      <td>6520.0</td>\n",
       "      <td>0.033896</td>\n",
       "      <td>0.291914</td>\n",
       "      <td>0.0</td>\n",
       "      <td>0.0</td>\n",
       "      <td>0.0</td>\n",
       "      <td>0.0</td>\n",
       "      <td>9.0</td>\n",
       "    </tr>\n",
       "    <tr>\n",
       "      <th>violenci sexual</th>\n",
       "      <td>6520.0</td>\n",
       "      <td>0.000000</td>\n",
       "      <td>0.000000</td>\n",
       "      <td>0.0</td>\n",
       "      <td>0.0</td>\n",
       "      <td>0.0</td>\n",
       "      <td>0.0</td>\n",
       "      <td>0.0</td>\n",
       "    </tr>\n",
       "    <tr>\n",
       "      <th>ataqu</th>\n",
       "      <td>6520.0</td>\n",
       "      <td>0.309356</td>\n",
       "      <td>0.790245</td>\n",
       "      <td>0.0</td>\n",
       "      <td>0.0</td>\n",
       "      <td>0.0</td>\n",
       "      <td>0.0</td>\n",
       "      <td>9.0</td>\n",
       "    </tr>\n",
       "    <tr>\n",
       "      <th>indiscrimin</th>\n",
       "      <td>6520.0</td>\n",
       "      <td>0.029908</td>\n",
       "      <td>0.178267</td>\n",
       "      <td>0.0</td>\n",
       "      <td>0.0</td>\n",
       "      <td>0.0</td>\n",
       "      <td>0.0</td>\n",
       "      <td>2.0</td>\n",
       "    </tr>\n",
       "    <tr>\n",
       "      <th>ataqu bien</th>\n",
       "      <td>6520.0</td>\n",
       "      <td>0.000000</td>\n",
       "      <td>0.000000</td>\n",
       "      <td>0.0</td>\n",
       "      <td>0.0</td>\n",
       "      <td>0.0</td>\n",
       "      <td>0.0</td>\n",
       "      <td>0.0</td>\n",
       "    </tr>\n",
       "    <tr>\n",
       "      <th>civil</th>\n",
       "      <td>6520.0</td>\n",
       "      <td>0.156748</td>\n",
       "      <td>0.538131</td>\n",
       "      <td>0.0</td>\n",
       "      <td>0.0</td>\n",
       "      <td>0.0</td>\n",
       "      <td>0.0</td>\n",
       "      <td>10.0</td>\n",
       "    </tr>\n",
       "  </tbody>\n",
       "</table>\n",
       "</div>"
      ],
      "text/plain": [
       "                  count      mean       std  min  25%  50%  75%   max\n",
       "homicidi         6520.0  0.698926  1.150708  0.0  0.0  0.0  1.0  11.0\n",
       "masacr           6520.0  0.038497  0.395041  0.0  0.0  0.0  0.0  13.0\n",
       "secuestr         6520.0  0.377914  1.395038  0.0  0.0  0.0  0.0  15.0\n",
       "tortur           6520.0  0.036656  0.301919  0.0  0.0  0.0  0.0   9.0\n",
       "desplaz          6520.0  0.219632  0.514774  0.0  0.0  0.0  0.0   6.0\n",
       "forz             6520.0  0.046319  0.275282  0.0  0.0  0.0  0.0   5.0\n",
       "confin           6520.0  0.007822  0.116581  0.0  0.0  0.0  0.0   3.0\n",
       "accident min     6520.0  0.000000  0.000000  0.0  0.0  0.0  0.0   0.0\n",
       "antipersonal     6520.0  0.010429  0.159233  0.0  0.0  0.0  0.0   5.0\n",
       "atent            6520.0  0.400307  0.980028  0.0  0.0  0.0  0.0  13.0\n",
       "reclut           6520.0  0.033896  0.291914  0.0  0.0  0.0  0.0   9.0\n",
       "violenci sexual  6520.0  0.000000  0.000000  0.0  0.0  0.0  0.0   0.0\n",
       "ataqu            6520.0  0.309356  0.790245  0.0  0.0  0.0  0.0   9.0\n",
       "indiscrimin      6520.0  0.029908  0.178267  0.0  0.0  0.0  0.0   2.0\n",
       "ataqu bien       6520.0  0.000000  0.000000  0.0  0.0  0.0  0.0   0.0\n",
       "civil            6520.0  0.156748  0.538131  0.0  0.0  0.0  0.0  10.0"
      ]
     },
     "execution_count": 162,
     "metadata": {},
     "output_type": "execute_result"
    }
   ],
   "source": [
    "result.describe().T"
   ]
  },
  {
   "cell_type": "markdown",
   "metadata": {},
   "source": [
    "**Preliminary conclusion 2**\n",
    "\n",
    "- Out of 18918 news, 6520 of them contain at least one of the keywords from the relevant category (\"Events against civilian population\").\n",
    "\n",
    "- \"Homicidio\", \"Atentado\", \"Ataque and \"Secuestro\""
   ]
  }
 ],
 "metadata": {
  "kernelspec": {
   "display_name": "Python 3",
   "language": "python",
   "name": "python3"
  },
  "language_info": {
   "codemirror_mode": {
    "name": "ipython",
    "version": 3
   },
   "file_extension": ".py",
   "mimetype": "text/x-python",
   "name": "python",
   "nbconvert_exporter": "python",
   "pygments_lexer": "ipython3",
   "version": "3.7.7"
  }
 },
 "nbformat": 4,
 "nbformat_minor": 2
}
