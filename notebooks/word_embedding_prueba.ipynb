{
 "cells": [
  {
   "cell_type": "code",
   "execution_count": 1,
   "metadata": {},
   "outputs": [],
   "source": [
    "from gensim.models.keyedvectors import KeyedVectors\n",
    "wordvectors_file_vec = 'embeddings-s-model.vec'\n",
    "cantidad = 100000\n",
    "wordvectors = KeyedVectors.load_word2vec_format(wordvectors_file_vec, limit=cantidad)"
   ]
  },
  {
   "cell_type": "code",
   "execution_count": 4,
   "metadata": {},
   "outputs": [
    {
     "data": {
      "text/plain": [
       "[('profesora', 1.0568163394927979),\n",
       " ('directora', 1.0550838708877563),\n",
       " ('catedrática', 1.053952693939209),\n",
       " ('asesora', 1.0539226531982422),\n",
       " ('becaria', 1.0498844385147095),\n",
       " ('investigadora', 1.0479382276535034),\n",
       " ('diplomada', 1.0409821271896362),\n",
       " ('subdirectora', 1.0278851985931396),\n",
       " ('decana', 1.0180448293685913),\n",
       " ('psicóloga', 1.0163415670394897)]"
      ]
     },
     "execution_count": 4,
     "metadata": {},
     "output_type": "execute_result"
    }
   ],
   "source": [
    "wordvectors.most_similar_cosmul(positive=['profesor','mujer'],negative=['hombre'])"
   ]
  },
  {
   "cell_type": "code",
   "execution_count": 25,
   "metadata": {},
   "outputs": [],
   "source": [
    "searchfor = [\n",
    "            #Hecho contra la población civil\n",
    "                \"homicidio\",\n",
    "                 \"masacre\", \n",
    "                 \"secuestro\",\n",
    "                 \"tortura\",\n",
    "                 \"desplazamiento\",\n",
    "                 \"forzado\",\n",
    "                 \"confinamiento\",\n",
    "                 \"accidente\",\n",
    "                 \"mina\",\n",
    "                 \"antipersona\",\n",
    "                 \"atentado\",\n",
    "                 \"reclutamiento\",\n",
    "                 \"violencia\",\n",
    "                 \"sexual\",\n",
    "                 \"ataque\",\n",
    "                 \"indiscriminado\",\n",
    "                 \"bienes\",\n",
    "                 \"civiles\",\n",
    "             #acciones armadas\n",
    "                \"combate\",\n",
    "                \"enfrentamiento\",\n",
    "                \"hostigamiento\",\n",
    "                \"emboscada\",\n",
    "                \"acto\",\n",
    "                \"terrorismo\",\n",
    "                \"ataque\",\n",
    "                \"instalación\",\n",
    "                \"militar\",\n",
    "                \"policía\" ,\n",
    "                \"restricción\",\n",
    "                \"movilidad\", \n",
    "                \"retenes\",\n",
    "                \"ilegal\", \n",
    "                \"paro\",\n",
    "                \"armado\",\n",
    "                \"indiscriminado\",\n",
    "                \"incursión\",\n",
    "                \"población\",\n",
    "            # Acciones institucionales\n",
    "                \"captura\",\n",
    "                \"desactivación\",\n",
    "                \"artefacto\",\n",
    "                \"explosivo\",\n",
    "                \"antinarcotico\",\n",
    "                \"incautación\",\n",
    "                \"rescate\",\n",
    "                \"secuestrado\",\n",
    "                \"liberación\",\n",
    "                \"misión\",\n",
    "                \"humanitaria\",\n",
    "            #Otro tipo de evento\n",
    "                \"pronunciamiento\",\n",
    "                \"organismo\",\n",
    "                \"internacional\",\n",
    "                \"nacional\",\n",
    "                \"conflicto\",\n",
    "                \"derecho\",\n",
    "                \"humano\",\n",
    "                \"ddhh\",\n",
    "                \"victimización\"\n",
    "]"
   ]
  },
  {
   "cell_type": "code",
   "execution_count": 26,
   "metadata": {},
   "outputs": [
    {
     "name": "stdout",
     "output_type": "stream",
     "text": [
      "{'homicidio': 0.70139664, 'masacre': 0.6174802, 'secuestro': 0.6604857, 'tortura': 0.47527158, 'desplazamiento': 0.1912415, 'forzado': 0.39738858, 'confinamiento': 0.37793103, 'accidente': 0.57129735, 'mina': 0.47777796, 'atentado': 0.6183166, 'reclutamiento': 0.53214806, 'violencia': 0.4411249, 'sexual': 0.39458296, 'ataque': 0.51823294, 'indiscriminado': 0.39206925, 'bienes': 0.22492695, 'civiles': 0.49077818, 'combate': 0.4157327, 'enfrentamiento': 0.28140008, 'hostigamiento': 0.52020276, 'emboscada': 0.6427733, 'acto': 0.39426845, 'terrorismo': 0.42033225, 'instalación': 0.32882252, 'militar': 0.49965632, 'policía': 0.88887364, 'restricción': 0.31152663, 'movilidad': 0.17183243, 'retenes': 0.54954445, 'ilegal': 0.5869841, 'paro': 0.3447827, 'armado': 0.44715548, 'incursión': 0.3890492, 'población': 0.24965589, 'captura': 0.30447075, 'desactivación': 0.46228826, 'artefacto': 0.5051088, 'explosivo': 0.48158914, 'incautación': 0.42215213, 'rescate': 0.5869782, 'secuestrado': 0.63895607, 'liberación': 0.32842797, 'misión': 0.38663372, 'humanitaria': 0.39662892, 'pronunciamiento': 0.31511045, 'organismo': 0.2623167, 'internacional': 0.3221587, 'nacional': 0.37398344, 'conflicto': 0.2759737, 'derecho': 0.33503395, 'humano': 0.1835952, 'ddhh': 0.4819855, 'victimización': 0.37086943}\n",
      "['antipersona', 'antinarcotico']\n"
     ]
    }
   ],
   "source": [
    "palabra = \"policia\"\n",
    "\n",
    "sim = {}\n",
    "not_in_we = []\n",
    "for w in searchfor:\n",
    "    try:\n",
    "        sim[w] = wordvectors.similarity(palabra, w)\n",
    "    except:\n",
    "        not_in_we.append(w)\n",
    "\n",
    "print(sim)\n",
    "print(not_in_we)"
   ]
  },
  {
   "cell_type": "code",
   "execution_count": null,
   "metadata": {},
   "outputs": [],
   "source": [
    "target_words = list(set(searchfor) - set(not_in_we))"
   ]
  },
  {
   "cell_type": "code",
   "execution_count": 46,
   "metadata": {},
   "outputs": [],
   "source": [
    "#Hecho contra la población civil\n",
    "categoria0 = [\n",
    "                \"homicidio\",\n",
    "                 \"masacre\", \n",
    "                 \"secuestro\",\n",
    "                 \"tortura\",\n",
    "                 \"desplazamiento\",\n",
    "                 \"forzado\",\n",
    "                 \"confinamiento\",\n",
    "                 \"accidente\",\n",
    "                 \"mina\",\n",
    "#                 \"antipersona\",\n",
    "                 \"atentado\",\n",
    "                 \"reclutamiento\",\n",
    "                 \"violencia\",\n",
    "                 \"sexual\",\n",
    "                 \"ataque\",\n",
    "                 \"indiscriminado\",\n",
    "                 \"bienes\",\n",
    "                 \"civiles\"\n",
    "]\n",
    "\n",
    "#acciones armadas\n",
    "categoria1 = [\n",
    "                \"combate\",\n",
    "                \"enfrentamiento\",\n",
    "                \"hostigamiento\",\n",
    "                \"emboscada\",\n",
    "                \"acto\",\n",
    "                \"terrorismo\",\n",
    "                \"ataque\",\n",
    "                \"instalación\",\n",
    "                \"militar\",\n",
    "                \"policía\" ,\n",
    "                \"restricción\",\n",
    "                \"movilidad\", \n",
    "                \"retenes\",\n",
    "                \"ilegal\", \n",
    "                \"paro\",\n",
    "                \"armado\",\n",
    "                \"indiscriminado\",\n",
    "                \"incursión\",\n",
    "                \"población\"\n",
    "]\n",
    "\n",
    "# Acciones institucionales\n",
    "categoria2 = [\n",
    "                \"captura\",\n",
    "                \"desactivación\",\n",
    "                \"artefacto\",\n",
    "                \"explosivo\",\n",
    "#                \"antinarcotico\",\n",
    "                \"incautación\",\n",
    "                \"rescate\",\n",
    "                \"secuestrado\",\n",
    "                \"liberación\",\n",
    "                \"misión\",\n",
    "                \"humanitaria\"\n",
    "]\n",
    "\n",
    "#Otro tipo de evento\n",
    "categoria3 = [\n",
    "                \"pronunciamiento\",\n",
    "                \"organismo\",\n",
    "                \"internacional\",\n",
    "                \"nacional\",\n",
    "                \"conflicto\",\n",
    "                \"derecho\",\n",
    "                \"humano\",\n",
    "                \"ddhh\",\n",
    "                \"victimización\"\n",
    "]"
   ]
  },
  {
   "cell_type": "code",
   "execution_count": 61,
   "metadata": {},
   "outputs": [],
   "source": [
    "def similitud_categorias(palabras):\n",
    "    sim0 = []\n",
    "    sim1 = []\n",
    "    sim2 = []\n",
    "    sim3 = []\n",
    "    not_in_we = []\n",
    "    for w_n in palabras:\n",
    "        for w in categoria0:\n",
    "            try:\n",
    "                sim0.append(wordvectors.similarity(w_n, w))\n",
    "            except:\n",
    "                not_in_we.append(w_n)\n",
    "\n",
    "        for w in categoria1:\n",
    "            try:\n",
    "                sim1.append(wordvectors.similarity(w_n, w))\n",
    "            except:\n",
    "                not_in_we.append(w_n)\n",
    "\n",
    "        for w in categoria2:\n",
    "            try:\n",
    "                sim2.append(wordvectors.similarity(w_n, w))\n",
    "            except:\n",
    "                not_in_we.append(w_n)\n",
    "\n",
    "        for w in categoria3:\n",
    "            try:\n",
    "                sim3.append(wordvectors.similarity(w_n, w))\n",
    "            except:\n",
    "                not_in_we.append(w_n)\n",
    "\n",
    "    sim0 = np.mean(sim0)\n",
    "    sim1 = np.mean(sim1)\n",
    "    sim2 = np.mean(sim2)\n",
    "    sim3 = np.mean(sim3)\n",
    "\n",
    "    return sim0, sim1, sim2, sim3, not_in_we"
   ]
  },
  {
   "cell_type": "code",
   "execution_count": 62,
   "metadata": {},
   "outputs": [],
   "source": [
    "from nltk import word_tokenize\n",
    "import numpy as np"
   ]
  },
  {
   "cell_type": "code",
   "execution_count": 65,
   "metadata": {},
   "outputs": [
    {
     "name": "stdout",
     "output_type": "stream",
     "text": [
      "Similitud categoria 0: 0.6059734\n",
      "Similitud categoria 0: 0.5342838\n",
      "Similitud categoria 0: 0.50534666\n",
      "Similitud categoria 0: 0.47152242\n",
      "Palabras no en word embedding: []\n"
     ]
    }
   ],
   "source": [
    "s0, s1, s2, s3, l = similitud_categorias(categoria0)\n",
    "print(\"Similitud categoria 0:\", s0)\n",
    "print(\"Similitud categoria 1:\", s1)\n",
    "print(\"Similitud categoria 2:\", s2)\n",
    "print(\"Similitud categoria 3:\", s3)\n",
    "print('Palabras no en word embedding:', l)"
   ]
  },
  {
   "cell_type": "code",
   "execution_count": 70,
   "metadata": {},
   "outputs": [
    {
     "name": "stdout",
     "output_type": "stream",
     "text": [
      "Similitud categoria 0: 0.36611408\n",
      "Similitud categoria 1: 0.37971923\n",
      "Similitud categoria 2: 0.40831605\n",
      "Similitud categoria 3: 0.3567965\n",
      "Palabras no en word embedding: ['caolin', 'caolin', 'caolin', 'caolin', 'caolin', 'caolin', 'caolin', 'caolin', 'caolin', 'caolin', 'caolin', 'caolin', 'caolin', 'caolin', 'caolin', 'caolin', 'caolin', 'caolin', 'caolin', 'caolin', 'caolin', 'caolin', 'caolin', 'caolin', 'caolin', 'caolin', 'caolin', 'caolin', 'caolin', 'caolin', 'caolin', 'caolin', 'caolin', 'caolin', 'caolin', 'caolin', 'caolin', 'caolin', 'caolin', 'caolin', 'caolin', 'caolin', 'caolin', 'caolin', 'caolin', 'caolin', 'caolin', 'caolin', 'caolin', 'caolin', 'caolin', 'caolin', 'caolin', 'caolin', 'caolin']\n"
     ]
    }
   ],
   "source": [
    "noticia = 'cerca ocho toneladas coca clan golfo cayeron operación'\\\n",
    "+ ' conjunta video operación policía nacional armada'\\\n",
    "+ ' colombia coordinación autoridades unidos incautadas'\\\n",
    "+ ' cerca panama toneladas clorhidrato cocaína dentro'\\\n",
    "+ ' embarcación bandera colombiana droga hallada'\\\n",
    "+ ' mezclada producto construcción nombre caolin'\\\n",
    "+ ' transportado embarcación zarpado cartagena'\\\n",
    "+ ' destino puerto colón panama detectar dicha'\\\n",
    "+ ' sustancia hizo necesario uso equipos técnicos'\\\n",
    "+ ' detección molecular base anterior autoridades cargo'\\\n",
    "+ ' operación procedieron realizar toma muestras cuales'\\\n",
    "+ ' enviadas laboratorio determinó existencia peso'\\\n",
    "+ ' sustancia ilegal investigación permitió determinar'\\\n",
    "+ ' ruta tomaria embarcación posterior interceptación'\\\n",
    "+ ' aguas internacionales cocaina incautada total'\\\n",
    "+ ' kilogramos pertenecía estructuras narcotráfico'\\\n",
    "+ ' asociadas grupo armado organizado clan golfo cuenta'\\\n",
    "+ ' contactos organizaciones delictivas transnacionales'\\\n",
    "+ ' centroamérica europa encargados recepción'\\\n",
    "+ ' estupefacientes ser distribuidos mercados'\\\n",
    "+ ' internacionales estima valor aproximado cargamento'\\\n",
    "+ ' mercados internacionales cerca millones'\\\n",
    "+ ' dolares cifra gracias operación logro ingresar'\\\n",
    "+ ' arcas grupo ilegal'\n",
    "palabras = word_tokenize(noticia)\n",
    "# print(palabras)\n",
    "s0, s1, s2, s3, l = similitud_categorias(palabras)\n",
    "print(\"Similitud categoria 0:\", s0)\n",
    "print(\"Similitud categoria 1:\", s1)\n",
    "print(\"Similitud categoria 2:\", s2)\n",
    "print(\"Similitud categoria 3:\", s3)\n",
    "print('Palabras no en word embedding:', l)"
   ]
  },
  {
   "cell_type": "code",
   "execution_count": 71,
   "metadata": {},
   "outputs": [
    {
     "data": {
      "text/plain": [
       "array([-0.43156  , -0.32901  , -0.0024341, -0.90805  ,  0.026001 ,\n",
       "        0.53287  , -0.57436  , -0.37918  , -0.018557 ,  0.46835  ,\n",
       "       -0.3691   , -0.50052  ,  0.47114  , -0.2973   , -0.12188  ,\n",
       "       -0.58034  , -0.58053  ,  1.0417   ,  0.49569  , -1.2592   ,\n",
       "       -0.02325  , -0.085412 ,  1.0094   ,  0.84992  , -0.32037  ,\n",
       "       -0.35527  , -0.48525  ,  0.50879  , -1.5311   , -0.65264  ],\n",
       "      dtype=float32)"
      ]
     },
     "execution_count": 71,
     "metadata": {},
     "output_type": "execute_result"
    }
   ],
   "source": [
    "wordvectors['homicidio']"
   ]
  },
  {
   "cell_type": "code",
   "execution_count": 79,
   "metadata": {},
   "outputs": [],
   "source": [
    "def centroide_noticia(palabras, dims=30):\n",
    "    vectores = []\n",
    "    for w in palabras:\n",
    "        try:\n",
    "            vectores.append(wordvectors[w])\n",
    "        except:\n",
    "            pass\n",
    "        \n",
    "    vectores = np.matrix(vectores)\n",
    "\n",
    "    return vectores.mean(axis=0).tolist()[0]\n",
    "        "
   ]
  },
  {
   "cell_type": "code",
   "execution_count": 80,
   "metadata": {},
   "outputs": [
    {
     "data": {
      "text/plain": [
       "[-0.45811545848846436,\n",
       " 0.2628888189792633,\n",
       " -0.17082175612449646,\n",
       " 0.13830621540546417,\n",
       " 0.2847447693347931,\n",
       " -0.09302127361297607,\n",
       " 0.047473739832639694,\n",
       " -0.3544180393218994,\n",
       " 0.23417143523693085,\n",
       " 0.2221316397190094,\n",
       " 0.28049683570861816,\n",
       " 0.201998770236969,\n",
       " 0.2012551873922348,\n",
       " -0.7909046411514282,\n",
       " -0.010758242569863796,\n",
       " -0.4342607259750366,\n",
       " -0.034341976046562195,\n",
       " 0.17325884103775024,\n",
       " 0.05333714187145233,\n",
       " -0.5340540409088135,\n",
       " -0.3897327780723572,\n",
       " -0.05213574320077896,\n",
       " 0.17260321974754333,\n",
       " 0.19859234988689423,\n",
       " -0.3197821080684662,\n",
       " -0.10101591795682907,\n",
       " -0.6137152910232544,\n",
       " 0.09176125377416611,\n",
       " -0.13973630964756012,\n",
       " -0.43744128942489624]"
      ]
     },
     "execution_count": 80,
     "metadata": {},
     "output_type": "execute_result"
    }
   ],
   "source": [
    "centroide_noticia(palabras)"
   ]
  },
  {
   "cell_type": "code",
   "execution_count": null,
   "metadata": {},
   "outputs": [],
   "source": []
  }
 ],
 "metadata": {
  "kernelspec": {
   "display_name": "Python 3",
   "language": "python",
   "name": "python3"
  },
  "language_info": {
   "codemirror_mode": {
    "name": "ipython",
    "version": 3
   },
   "file_extension": ".py",
   "mimetype": "text/x-python",
   "name": "python",
   "nbconvert_exporter": "python",
   "pygments_lexer": "ipython3",
   "version": "3.7.7"
  }
 },
 "nbformat": 4,
 "nbformat_minor": 4
}
