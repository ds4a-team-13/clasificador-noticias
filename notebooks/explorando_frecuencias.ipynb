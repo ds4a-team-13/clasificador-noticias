{
 "cells": [
  {
   "cell_type": "markdown",
   "metadata": {},
   "source": [
    "## Analizando frecuencia de palabras\n",
    "\n",
    "Se realizan los siguientes pasos:\n",
    "\n",
    "- Cargar dataframe de noticias.\n",
    "- Cargar los cuerpos de noticia preprocesados.\n",
    "- Encontrar la frecuencia de palabras clave de la categoría \"Hecho contra la población civil\" para cada cuerpo de noticia preprocesado.\n",
    "- Crear el ranking de acuerdo a la suma de las frecuencias."
   ]
  },
  {
   "cell_type": "code",
   "execution_count": 170,
   "metadata": {},
   "outputs": [],
   "source": [
    "import numpy as np\n",
    "import pandas as pd\n",
    "import sqlite3\n",
    "from nltk import SnowballStemmer\n",
    "from sklearn.feature_extraction.text import CountVectorizer\n",
    "\n",
    "def show_news(n, df):\n",
    "    fila = df[df['ID']==n]\n",
    "    print(\n",
    "        \"Suma:\", fila['suma_freq'].values[0],\n",
    "        \"\\nRanking:\", fila['Ranking'].values[0],\n",
    "        \"\\nTitulo:\", fila['titulo'].values[0],\n",
    "        \"\\nNumero palabras:\", fila['long_cuerpo'].values[0],\n",
    "        \"\\nDiario:\", fila['diario'].values[0],\n",
    "        \"\\nCuerpo:\", fila['cuerpo'].values[0],\n",
    "        \"\\nurl:\", fila['url'].values[0],\n",
    "        \"\\nID:\", fila['ID'].values[0],\n",
    "    )"
   ]
  },
  {
   "cell_type": "markdown",
   "metadata": {},
   "source": [
    "-----------\n",
    "\n",
    "**Cargando dataframe de noticias**\n",
    "- Se encuentra la longitud del cuerpo de la noticia.\n",
    "- Se asigna un ID a cada noticia.\n",
    "- Se eliminan las noticias cuyo cuerpo no tiene ninguna palabra."
   ]
  },
  {
   "cell_type": "code",
   "execution_count": 76,
   "metadata": {},
   "outputs": [
    {
     "data": {
      "text/html": [
       "<div>\n",
       "<style scoped>\n",
       "    .dataframe tbody tr th:only-of-type {\n",
       "        vertical-align: middle;\n",
       "    }\n",
       "\n",
       "    .dataframe tbody tr th {\n",
       "        vertical-align: top;\n",
       "    }\n",
       "\n",
       "    .dataframe thead th {\n",
       "        text-align: right;\n",
       "    }\n",
       "</style>\n",
       "<table border=\"1\" class=\"dataframe\">\n",
       "  <thead>\n",
       "    <tr style=\"text-align: right;\">\n",
       "      <th></th>\n",
       "      <th>index</th>\n",
       "      <th>titulo</th>\n",
       "      <th>cuerpo</th>\n",
       "      <th>fecha_publicacion</th>\n",
       "      <th>diario</th>\n",
       "      <th>url</th>\n",
       "      <th>page</th>\n",
       "      <th>long_cuerpo</th>\n",
       "      <th>ID</th>\n",
       "    </tr>\n",
       "  </thead>\n",
       "  <tbody>\n",
       "    <tr>\n",
       "      <th>0</th>\n",
       "      <td>0</td>\n",
       "      <td>Campesino asesinado en Baraya</td>\n",
       "      <td>Un impacto en el pecho con una escopeta calibr...</td>\n",
       "      <td>2020-06-11 17:00:33</td>\n",
       "      <td>lanacion</td>\n",
       "      <td>https://www.lanacion.com.co/campesino-asesinad...</td>\n",
       "      <td>2</td>\n",
       "      <td>107</td>\n",
       "      <td>0</td>\n",
       "    </tr>\n",
       "    <tr>\n",
       "      <th>1</th>\n",
       "      <td>1</td>\n",
       "      <td>‘Morcilla’ a responder por homicidio de un jov...</td>\n",
       "      <td>Jorge Leonardo Pájaro Paredes conocido como ‘M...</td>\n",
       "      <td>2020-06-10 10:10:56</td>\n",
       "      <td>lanacion</td>\n",
       "      <td>https://www.lanacion.com.co/morcilla-a-respond...</td>\n",
       "      <td>2</td>\n",
       "      <td>228</td>\n",
       "      <td>1</td>\n",
       "    </tr>\n",
       "  </tbody>\n",
       "</table>\n",
       "</div>"
      ],
      "text/plain": [
       "   index                                             titulo  \\\n",
       "0      0                      Campesino asesinado en Baraya   \n",
       "1      1  ‘Morcilla’ a responder por homicidio de un jov...   \n",
       "\n",
       "                                              cuerpo   fecha_publicacion  \\\n",
       "0  Un impacto en el pecho con una escopeta calibr... 2020-06-11 17:00:33   \n",
       "1  Jorge Leonardo Pájaro Paredes conocido como ‘M... 2020-06-10 10:10:56   \n",
       "\n",
       "     diario                                                url  page  \\\n",
       "0  lanacion  https://www.lanacion.com.co/campesino-asesinad...     2   \n",
       "1  lanacion  https://www.lanacion.com.co/morcilla-a-respond...     2   \n",
       "\n",
       "   long_cuerpo  ID  \n",
       "0          107   0  \n",
       "1          228   1  "
      ]
     },
     "execution_count": 76,
     "metadata": {},
     "output_type": "execute_result"
    }
   ],
   "source": [
    "cnx = sqlite3.connect('../data/data.db')\n",
    "df = pd.read_sql_query(\"SELECT * FROM news\", cnx)\n",
    "df['fecha_publicacion'] = pd.to_datetime(df['fecha_publicacion'])\n",
    "df['long_cuerpo'] = df['cuerpo'].apply(lambda x: len(str(x).split()))\n",
    "df['ID'] = df.index\n",
    "df = df[df['long_cuerpo']!=0].reset_index()\n",
    "df.head(2)"
   ]
  },
  {
   "cell_type": "markdown",
   "metadata": {},
   "source": [
    "\n",
    "**Cargando dataframe de cuerpo de noticia preprocesado**\n",
    "\n",
    "- Se carga el archivo.\n",
    "- Se pega al dataframe de noticias."
   ]
  },
  {
   "cell_type": "code",
   "execution_count": 77,
   "metadata": {},
   "outputs": [
    {
     "name": "stdout",
     "output_type": "stream",
     "text": [
      "(19284,)\n"
     ]
    },
    {
     "data": {
      "text/plain": [
       "0    campesin asesin baray impact pech escopet cali...\n",
       "1    morcill respond homicidi jov pajar conoc morci...\n",
       "Name: text, dtype: object"
      ]
     },
     "execution_count": 77,
     "metadata": {},
     "output_type": "execute_result"
    }
   ],
   "source": [
    "serie_word = pd.read_csv('serie_word.csv')['text']\n",
    "print(serie_word.shape)\n",
    "serie_word.head(2)"
   ]
  },
  {
   "cell_type": "code",
   "execution_count": null,
   "metadata": {},
   "outputs": [],
   "source": [
    "print(\"Tamanhos antes:\", df.shape, serie_word.shape)\n",
    "df['Preprocesado'] = serie_word.values"
   ]
  },
  {
   "cell_type": "markdown",
   "metadata": {},
   "source": [
    "---------\n",
    "\n",
    "**Encontrando la frecuencia de palabras clave de la categoría \"Hecho contra la población civil\" para cada cuerpo de noticia preprocesado**\n",
    "\n",
    "- Se genera la lista de palabras clave y se preprocesa.\n",
    "- Se eliminan las noticias que no tienen ninguna de las palabras clave.\n",
    "- Se aplica el CountVectorizer sobre el dataframe de noticias para encontrar las frecuencias."
   ]
  },
  {
   "cell_type": "code",
   "execution_count": 68,
   "metadata": {},
   "outputs": [
    {
     "name": "stdout",
     "output_type": "stream",
     "text": [
      "Stemming words...\n"
     ]
    },
    {
     "data": {
      "text/plain": [
       "0         homicidi\n",
       "1           masacr\n",
       "2         secuestr\n",
       "3           tortur\n",
       "4          desplaz\n",
       "5             forz\n",
       "6           confin\n",
       "7         accident\n",
       "8              min\n",
       "9     antipersonal\n",
       "10           atent\n",
       "11          reclut\n",
       "12        violenci\n",
       "13          sexual\n",
       "14           ataqu\n",
       "15     indiscrimin\n",
       "16            bien\n",
       "17           civil\n",
       "dtype: object"
      ]
     },
     "execution_count": 68,
     "metadata": {},
     "output_type": "execute_result"
    }
   ],
   "source": [
    "searchfor = [\"homicidio\",\n",
    "             \"masacre\", \n",
    "             \"secuestro\",\n",
    "             \"tortura\",\n",
    "             \"desplazamiento\",\n",
    "             \"forzado\",\n",
    "             \"confinamiento\",\n",
    "             \"accidente\",\n",
    "             \"minas\",\n",
    "             \"antipersonal\",\n",
    "             \"atentado\",\n",
    "             \"reclutamiento\",\n",
    "             #\"utilizacion NNA\",\n",
    "             \"violencia\",\n",
    "             \"sexual\",\n",
    "             \"ataque\",\n",
    "             \"indiscriminado\",\n",
    "             #\"ataque\",\n",
    "             \"bienes\",\n",
    "             \"civiles\"]\n",
    "\n",
    "searchfor = pd.Series(searchfor)\n",
    "\n",
    "spanishstemmer = SnowballStemmer('spanish')\n",
    "print('Stemming words...')\n",
    "# Stemming (word root)\n",
    "searchfor = searchfor.apply(lambda x: \" \".join(spanishstemmer.stem(word) for word in x.split()))\n",
    "searchfor"
   ]
  },
  {
   "cell_type": "code",
   "execution_count": 78,
   "metadata": {},
   "outputs": [
    {
     "name": "stdout",
     "output_type": "stream",
     "text": [
      "Tamanhos antes: (19284, 9) (19284,)\n",
      "Tamanhos despues: (15115, 11)\n"
     ]
    },
    {
     "data": {
      "text/html": [
       "<div>\n",
       "<style scoped>\n",
       "    .dataframe tbody tr th:only-of-type {\n",
       "        vertical-align: middle;\n",
       "    }\n",
       "\n",
       "    .dataframe tbody tr th {\n",
       "        vertical-align: top;\n",
       "    }\n",
       "\n",
       "    .dataframe thead th {\n",
       "        text-align: right;\n",
       "    }\n",
       "</style>\n",
       "<table border=\"1\" class=\"dataframe\">\n",
       "  <thead>\n",
       "    <tr style=\"text-align: right;\">\n",
       "      <th></th>\n",
       "      <th>index</th>\n",
       "      <th>titulo</th>\n",
       "      <th>cuerpo</th>\n",
       "      <th>fecha_publicacion</th>\n",
       "      <th>diario</th>\n",
       "      <th>url</th>\n",
       "      <th>page</th>\n",
       "      <th>long_cuerpo</th>\n",
       "      <th>ID</th>\n",
       "      <th>Preprocesado</th>\n",
       "      <th>OK</th>\n",
       "      <th>ID3</th>\n",
       "    </tr>\n",
       "  </thead>\n",
       "  <tbody>\n",
       "    <tr>\n",
       "      <th>0</th>\n",
       "      <td>0</td>\n",
       "      <td>Campesino asesinado en Baraya</td>\n",
       "      <td>Un impacto en el pecho con una escopeta calibr...</td>\n",
       "      <td>2020-06-11 17:00:33</td>\n",
       "      <td>lanacion</td>\n",
       "      <td>https://www.lanacion.com.co/campesino-asesinad...</td>\n",
       "      <td>2</td>\n",
       "      <td>107</td>\n",
       "      <td>0</td>\n",
       "      <td>campesin asesin baray impact pech escopet cali...</td>\n",
       "      <td>True</td>\n",
       "      <td>0</td>\n",
       "    </tr>\n",
       "    <tr>\n",
       "      <th>1</th>\n",
       "      <td>1</td>\n",
       "      <td>‘Morcilla’ a responder por homicidio de un jov...</td>\n",
       "      <td>Jorge Leonardo Pájaro Paredes conocido como ‘M...</td>\n",
       "      <td>2020-06-10 10:10:56</td>\n",
       "      <td>lanacion</td>\n",
       "      <td>https://www.lanacion.com.co/morcilla-a-respond...</td>\n",
       "      <td>2</td>\n",
       "      <td>228</td>\n",
       "      <td>1</td>\n",
       "      <td>morcill respond homicidi jov pajar conoc morci...</td>\n",
       "      <td>True</td>\n",
       "      <td>1</td>\n",
       "    </tr>\n",
       "  </tbody>\n",
       "</table>\n",
       "</div>"
      ],
      "text/plain": [
       "   index                                             titulo  \\\n",
       "0      0                      Campesino asesinado en Baraya   \n",
       "1      1  ‘Morcilla’ a responder por homicidio de un jov...   \n",
       "\n",
       "                                              cuerpo   fecha_publicacion  \\\n",
       "0  Un impacto en el pecho con una escopeta calibr... 2020-06-11 17:00:33   \n",
       "1  Jorge Leonardo Pájaro Paredes conocido como ‘M... 2020-06-10 10:10:56   \n",
       "\n",
       "     diario                                                url  page  \\\n",
       "0  lanacion  https://www.lanacion.com.co/campesino-asesinad...     2   \n",
       "1  lanacion  https://www.lanacion.com.co/morcilla-a-respond...     2   \n",
       "\n",
       "   long_cuerpo  ID                                       Preprocesado    OK  \\\n",
       "0          107   0  campesin asesin baray impact pech escopet cali...  True   \n",
       "1          228   1  morcill respond homicidi jov pajar conoc morci...  True   \n",
       "\n",
       "   ID3  \n",
       "0    0  \n",
       "1    1  "
      ]
     },
     "execution_count": 78,
     "metadata": {},
     "output_type": "execute_result"
    }
   ],
   "source": [
    "searchfor_list = list(searchfor)\n",
    "df['OK'] = df['Preprocesado'].str.contains('|'.join(searchfor_list))\n",
    "df = df[df['OK'] == True]\n",
    "print(\"Tamanhos despues:\", df.shape)\n",
    "df.head(2)"
   ]
  },
  {
   "cell_type": "code",
   "execution_count": 82,
   "metadata": {},
   "outputs": [
    {
     "data": {
      "text/plain": [
       "0    [[1, 0, 0, 0, 0, 0, 0, 0, 0, 0, 0, 0, 0, 0, 0,...\n",
       "1    [[5, 0, 0, 0, 0, 0, 0, 0, 0, 0, 0, 0, 0, 0, 0,...\n",
       "Name: Freqs, dtype: object"
      ]
     },
     "execution_count": 82,
     "metadata": {},
     "output_type": "execute_result"
    }
   ],
   "source": [
    "vectorizer = CountVectorizer(vocabulary=searchfor)\n",
    "df['Freqs'] = df['Preprocesado'].apply(lambda x: vectorizer.fit_transform([x]).toarray())\n",
    "df['Freqs'].head(2)"
   ]
  },
  {
   "cell_type": "markdown",
   "metadata": {},
   "source": [
    "---------\n",
    "\n",
    "**Creando el ranking de acuerdo a la suma de las frecuencias**"
   ]
  },
  {
   "cell_type": "code",
   "execution_count": 89,
   "metadata": {},
   "outputs": [
    {
     "data": {
      "text/html": [
       "<div>\n",
       "<style scoped>\n",
       "    .dataframe tbody tr th:only-of-type {\n",
       "        vertical-align: middle;\n",
       "    }\n",
       "\n",
       "    .dataframe tbody tr th {\n",
       "        vertical-align: top;\n",
       "    }\n",
       "\n",
       "    .dataframe thead th {\n",
       "        text-align: right;\n",
       "    }\n",
       "</style>\n",
       "<table border=\"1\" class=\"dataframe\">\n",
       "  <thead>\n",
       "    <tr style=\"text-align: right;\">\n",
       "      <th></th>\n",
       "      <th>index</th>\n",
       "      <th>titulo</th>\n",
       "      <th>cuerpo</th>\n",
       "      <th>fecha_publicacion</th>\n",
       "      <th>diario</th>\n",
       "      <th>url</th>\n",
       "      <th>page</th>\n",
       "      <th>long_cuerpo</th>\n",
       "      <th>ID</th>\n",
       "      <th>Preprocesado</th>\n",
       "      <th>OK</th>\n",
       "      <th>ID3</th>\n",
       "      <th>Freqs</th>\n",
       "      <th>suma_freq</th>\n",
       "      <th>Ranking</th>\n",
       "    </tr>\n",
       "  </thead>\n",
       "  <tbody>\n",
       "    <tr>\n",
       "      <th>0</th>\n",
       "      <td>0</td>\n",
       "      <td>Campesino asesinado en Baraya</td>\n",
       "      <td>Un impacto en el pecho con una escopeta calibr...</td>\n",
       "      <td>2020-06-11 17:00:33</td>\n",
       "      <td>lanacion</td>\n",
       "      <td>https://www.lanacion.com.co/campesino-asesinad...</td>\n",
       "      <td>2</td>\n",
       "      <td>107</td>\n",
       "      <td>0</td>\n",
       "      <td>campesin asesin baray impact pech escopet cali...</td>\n",
       "      <td>True</td>\n",
       "      <td>0</td>\n",
       "      <td>[[1, 0, 0, 0, 0, 0, 0, 0, 0, 0, 0, 0, 0, 0, 0,...</td>\n",
       "      <td>1</td>\n",
       "      <td>0.009346</td>\n",
       "    </tr>\n",
       "    <tr>\n",
       "      <th>1</th>\n",
       "      <td>1</td>\n",
       "      <td>‘Morcilla’ a responder por homicidio de un jov...</td>\n",
       "      <td>Jorge Leonardo Pájaro Paredes conocido como ‘M...</td>\n",
       "      <td>2020-06-10 10:10:56</td>\n",
       "      <td>lanacion</td>\n",
       "      <td>https://www.lanacion.com.co/morcilla-a-respond...</td>\n",
       "      <td>2</td>\n",
       "      <td>228</td>\n",
       "      <td>1</td>\n",
       "      <td>morcill respond homicidi jov pajar conoc morci...</td>\n",
       "      <td>True</td>\n",
       "      <td>1</td>\n",
       "      <td>[[5, 0, 0, 0, 0, 0, 0, 0, 0, 0, 0, 0, 0, 0, 0,...</td>\n",
       "      <td>6</td>\n",
       "      <td>0.026316</td>\n",
       "    </tr>\n",
       "  </tbody>\n",
       "</table>\n",
       "</div>"
      ],
      "text/plain": [
       "   index                                             titulo  \\\n",
       "0      0                      Campesino asesinado en Baraya   \n",
       "1      1  ‘Morcilla’ a responder por homicidio de un jov...   \n",
       "\n",
       "                                              cuerpo   fecha_publicacion  \\\n",
       "0  Un impacto en el pecho con una escopeta calibr... 2020-06-11 17:00:33   \n",
       "1  Jorge Leonardo Pájaro Paredes conocido como ‘M... 2020-06-10 10:10:56   \n",
       "\n",
       "     diario                                                url  page  \\\n",
       "0  lanacion  https://www.lanacion.com.co/campesino-asesinad...     2   \n",
       "1  lanacion  https://www.lanacion.com.co/morcilla-a-respond...     2   \n",
       "\n",
       "   long_cuerpo  ID                                       Preprocesado    OK  \\\n",
       "0          107   0  campesin asesin baray impact pech escopet cali...  True   \n",
       "1          228   1  morcill respond homicidi jov pajar conoc morci...  True   \n",
       "\n",
       "   ID3                                              Freqs  suma_freq   Ranking  \n",
       "0    0  [[1, 0, 0, 0, 0, 0, 0, 0, 0, 0, 0, 0, 0, 0, 0,...          1  0.009346  \n",
       "1    1  [[5, 0, 0, 0, 0, 0, 0, 0, 0, 0, 0, 0, 0, 0, 0,...          6  0.026316  "
      ]
     },
     "execution_count": 89,
     "metadata": {},
     "output_type": "execute_result"
    }
   ],
   "source": [
    "df['suma_freq'] = df.apply(lambda x: x['Freqs'].sum(), axis=1)\n",
    "df['Ranking'] = df['suma_freq']/df['long_cuerpo']\n",
    "df.head(2)"
   ]
  },
  {
   "cell_type": "code",
   "execution_count": 153,
   "metadata": {},
   "outputs": [
    {
     "name": "stdout",
     "output_type": "stream",
     "text": [
      "       index  suma_freq     ID\n",
      "11942  15472         38  15539\n",
      "14981  19118         25  19187\n",
      "15472    38\n",
      "Name: suma_freq, dtype: int64\n"
     ]
    }
   ],
   "source": [
    "aux = df[['suma_freq', 'ID']].reset_index()\n",
    "aux.sort_values(by='suma_freq', ascending=False, inplace=True)\n",
    "print(aux.head(2))\n",
    "print(df[df['ID']==15539]['suma_freq'])"
   ]
  },
  {
   "cell_type": "code",
   "execution_count": 171,
   "metadata": {},
   "outputs": [
    {
     "name": "stdout",
     "output_type": "stream",
     "text": [
      "Suma: 38 \n",
      "Ranking: 0.023779724655819776 \n",
      "Titulo: ¡Alto a la violencia contra las mujeres! \n",
      "Numero palabras: 1598 \n",
      "Diario: lanacion \n",
      "Cuerpo: Carlos Daniel Mazabel Córdoba, secretario de Salud del Huila, aseguró que la violencia contra la mujer es un problema global de salud pública, con proporciones epidémicas.  El funcionario aseguró que en el ámbito departamental se reproducen diversas formas de violencia de género.  “Según datos de nuestro sistema de vigilancia epidemiológica, hasta el 30 de junio de 2013 se reportaron 1. 568 casos de violencia intrafamiliar y sexual, de los cuales 1. 347 se presentaron en mujeres.  De estos, 212 casos fueron de abuso sexual, 677 casos de violencia física, 388 de violencia psicológica y los 70 restantes fueron acoso y asalto sexual; todos presentados en mujeres”, subrayó.  Lina María Ramos, directora regional del Instituto de Medicina Legal y Ciencias Forenses, aseguró que de acuerdo con las actividades médico legales realizadas a mujeres víctimas de lesiones, entre el año 2011 y 2012 en el Huila, se evidencia una preocupante violencia física, sexual o psicológica contra la mujer, en la que desafortunadamente en algunos casos se llega hasta la muerte.  “El mayor porcentaje de víctimas que fueron valoradas por los peritos del área de clínica forense en Neiva lo ocupa la mujer, cuyo porcentaje representó un 52,6% del total de los casos atendidos entre el año 2011 y 2012”, resaltó la funcionaria.   Según las cifras de Medicina Legal en Neiva durante el 2012, las mujeres fueron víctimas de 2. 257 agresiones.  De estas, 715 fueron maltratos ocasionados por sus parejas, 138 agresiones contra menores, 172 agresiones sexuales, 239 casos de violencia intrafamiliar y 1. 053 episodios de violencia interpersonal.  La directora regional del Instituto de Medicina Legal aseguró que tanto en Neiva como en otros municipios del Huila, el mayor número de víctimas durante el año 2011 y el 2012, fueron ocasionadas por la violencia interpersonal y el maltrato de pareja, con porcentajes de 46,7% y 30,8% respectivamente.  Asimismo, las mujeres víctimas de algún tipo de violencia sexual durante esos dos años fue de 8% y el maltrato a la menor registró 5%.  Asimismo, Ramos afirmó que las principales víctimas en el Huila son las mujeres jóvenes.  “A partir de los 10 años de edad se alcanza el máximo número de casos.  Entre los 20 a 30 años registramos 34,77% de las violencias, de allí en adelante se evidencia una tendencia decreciente de los casos valorados”, manifestó la funcionaria.    De acuerdo con las cifras de Medicina Legal durante el año 2012 en Neiva, con base en el nivel de escolaridad, fueron agredidas 1. 226 mujeres bachilleres, 444 con estudios de primaria, 256 con estudios superiores, 249 con estudios técnicos, 16 con preescolar y 60 casos en mujeres sin ningún estudio.  “Las estadísticas nos muestran que entre el año 2011 y 2012, la mayoría de las víctimas contaba con un nivel de educación secundaria del 54,6%, con educación primaria en un 20,2%, con educación técnica en un 11%, el 3% no contaba con ningún tipo de formación escolar y el 0,77% de las víctimas presentaron formación pre-escolar”, manifestó Ramos.  Asimismo, de las 2. 257 víctimas neivanas en el año 2012, indican las estadísticas oficiales que 959 eran solteras, 866 vivían en unión libre, 285 eran casadas, 115 divorciadas, 26 viudas y 6 no registraron información sobre su estado civil.   En Neiva, en las agresiones registradas contra mujeres en el año 2012, existen 733 casos con agresores de diverso tipo, 709 casos en donde el agresor fue la pareja, en 399 casos fueron familiares, en 283 casos fueron las ex parejas, en 110 casos personas desconocidas y en 23 casos no hay información sobre el autor.  “Durante 2011 y 2012 las mujeres fueron lesionadas en un contexto de violencia interpersonal, por agresores de diverso tipo, que son los compañeros de estudio o de trabajo, vecinos, miembros de las fuerzas militares, cuidadores, amigos, arrendadores o arrendatarios, clientes y proveedores, entre otros.  Estos representaron el 32,31% de los casos valorados, seguido por los episodios en los que el agresor fue alguien tan cercano como la propia pareja con un 31,5% y los familiares con un 17. 1%”, manifestó la funcionaria.  Bianeth Montero Pérez, integrante del equipo Cavif del Instituto Colombiano de Bienestar Familiar, aseguró que durante el primer trimestre de este año se reportaron 39 casos de violencia que involucraba a niñas y adolescentes.  Durante el segundo trimestre la cifra ascendió a 79 episodios.  Durante lo corrido de julio y agosto las estadísticas reportaban 54 agresiones.   El Secretario de Salud del Huila aseguró que la violencia de género obliga a las autoridades a realizar urgentes esfuerzos para contrarrestar este flagelo.  “La violencia física o sexual es un problema de salud pública que afecta a más de un tercio de todas las mujeres en el mundo, según un nuevo informe publicado por la Organización Mundial de la Salud (OMS) en colaboración con la Escuela de Higiene y Medicina Tropical de Londres y el Consejo de Investigación Médica de Sudáfrica”, manifestó Mazabel.  “Este informe es el primer estudio sistemático de los datos mundiales sobre la prevalencia de la violencia contra las mujeres, ejercida tanto por la pareja como por otras personas.  Cerca del 35% de todas las mujeres experimentarán hechos de violencia en algún momento de sus vidas.  El estudio revela que la violencia de pareja es el tipo más común de violencia contra la mujer, ya que afecta al 30% de las mujeres en todo el mundo”, manifestó.  “El informe también detalla el impacto de la violencia sobre la salud física y mental de mujeres y niñas.  Este impacto puede ir desde huesos rotos hasta complicaciones vinculadas a embarazos, problemas mentales y un deterioro en el funcionamiento social.  Estos hallazgos envían un mensaje poderoso a todas las organizaciones y entidades a nivel mundial, nacional, departamental o municipal para contrarrestarlo”, resaltó.    ¿Qué se está haciendo en Neiva? Adriana Rojas, secretaria de la Mujer, la Infancia y la Familia de Neiva, aseguró que en el municipio se implementaron programas dirigidos a la promoción de los derechos de las mujeres y la divulgación de la ley 1257 de 2008.  “El alcalde Pedro Hernán Suárez creó la Secretaría de la Mujer, la Infancia y la Familia e implementó la política pública de género a través del acuerdo 029 de 2004”, manifestó Rojas.  “El propósito es fortalecer el Consejo Comunitario de Mujeres que se desarrolla muy bien en la ciudad, con el acompañamiento técnico y capacitaciones constantes.  Además, estamos ejecutando la campaña anual para la difusión de la ley 1257 de 2008 y las rutas de atención a víctimas de todo tipo de violencias”, dijo la funcionaria.  “La campaña institucional está dirigida a mujeres del sector rural y urbano de Neiva y a las víctimas de todo tipo de Violencia Basada en el Género (VBG).  Es una estrategia importante para el gobierno local, porque están en concordancia con el marco legal nacional e internacional, desde el cual las autoridades deben interpretar y aplicar la ley 1257 de 2008 y los proyectos con enfoque de género”, resaltó la funcionaria.  “Es necesaria la sensibilización de los funcionarios y autoridades públicas para que asuman de manera real y efectiva la Política Pública Nacional de Equidad de Género para las Mujeres.  Todavía en el Huila y en Neiva muchas mujeres que naturalizan la violencia cotidiana de la que son víctimas y algunos medios de comunicación convierten los feminicidios en el show del día.  Desafortunadamente, en muchos casos, las instituciones encargadas de garantizar los derechos de las mujeres re-victimizan a las víctimas de este flagelo”, señaló.  “El Huila es uno de los departamentos del país con mayores índices de violencia contra la mujer y de violencia basada en género.  Neiva es la segunda ciudad capital que más violenta los derechos de las mujeres.  Por esto estamos promoviendo la exigibilidad de los derechos de las mujeres en la capital”, puntualizó.   Judy Alexandra Gutiérrez, coordinadora de la Campaña “Porque no callo, porque te quiero, porque me amo” que realiza la alcaldía de Neiva con la Corporación Cauces del Sur en el sector urbano y rural del municipio, aseguró que es fundamental la educación y sensibilización de todos los actores de la sociedad.  “La campaña institucional ‘Todas con la 1257’ ha llegado a más de 600 mujeres, a través de charlas a madres comunitarias, mujeres en situación de desplazamiento, edilesas, jóvenes de diversas instituciones educativas, funcionarias públicas, lideresas y organizaciones sociales, mujeres campesinas de diferentes comunas y corregimientos de Neiva”, señaló Gutiérrez.  “A esta labor de promoción y difusión se han sumado tres emisoras de Neiva: Radio Surcolombiana, la Emisora Cultural del Huila y la Emisora de la Policía Nacional, que diariamente transmiten la serie radial ‘Todas con la 1257’, en la que les explicamos a los miles de oyentes hombres y mujeres, en qué consiste la ley de protección y damos pautas para la erradicación de las violencias”, señaló.  “En este proceso llevamos cuatro meses.  La estrategia de la paleta le ha gustado mucho a la gente.  Durante este segundo semestre fortaleceremos la campaña con el proceso de educación y sensibilización a 150 mujeres en situación vulnerable de las comunas 6, 8 y 10, del corregimiento de San Luis y a un grupo de mujeres desplazadas”, enfatizó.  “Por medio de talleres sobre derechos humanos de las mujeres y de la Ley 1257 de 2008, promoveremos la aplicación y uso de esta normatividad en gran parte de la ciudadanía y las instituciones garantes de los derechos.  Además, realizaremos dos talleres con cada una de las instituciones responsables de la aplicación de la ley como son las comisarías de Familia, la Policía Nacional, la Fiscalía, la Alcaldía de Neiva, con los jueces de Control de Garantías, entre otras”, manifestó.  \n",
      "url: https://www.lanacion.com.co/alto-a-la-violencia-contra-las-mujeres/ \n",
      "ID: 15539\n"
     ]
    }
   ],
   "source": [
    "show_news(15539, df)"
   ]
  },
  {
   "cell_type": "code",
   "execution_count": 180,
   "metadata": {},
   "outputs": [
    {
     "name": "stdout",
     "output_type": "stream",
     "text": [
      "Suma: 25 \n",
      "Ranking: 0.02147766323024055 \n",
      "Titulo: ¿Por qué las Farc continúan ensañadas con Pradera, Valle? \n",
      "Numero palabras: 1164 \n",
      "Diario: elpais \n",
      "Cuerpo: Tras el atentado con motobomba, autoridades y analistas coinciden en que el municipio aún tiene un valor estratégico para la guerrilla.Pradera es el municipio del Valle del Cauca más afectado por la violencia de los grupos ilegales. En menos de dos años, esta ciudad, ubicada en las estribaciones de la cordillera Central, ha sido blanco de dos atentados terroristas con bombas que han dejado casi un centenar de heridos.  Una mezcla de la influencia de la columna Gabriel Galvis de las Farc y de dos poderosas bandas delincuenciales han creado el pánico en esta población, afectada no solo por los ataques guerrilleros, sino por las minas antipersonales sembradas en su área rural y por las extorsiones. El atentado más reciente ocurrió   el jueves pasado frente al edificio de la Alcaldía y a la estación de Policía de Pradera, cuando dos hombres  ubicaron y  En el hecho perdió la vida  y  61 personas resultaron heridas, entre civiles y policías.  El ataque, que fue atribuido por las autoridades a la  Gabriel Galvis de las Farc y específicamente a alias Luis Garipari, tercero al mando de ese grupo, sucedió un día después del fin de la tregua navideña anunciada por esta guerrilla  desde La Habana, Cuba. Unos meses atrás,  el 31 de octubre del 2012, en plena noche de Halloween, dos jóvenes  detonaron  un explosivo a  una cuadra del parque principal de Pradera. Ese ataque dejó dos personas muertas y 35 heridos, entre ellos 14 niños. En ese mismo mes, pero dos semanas atrás,  dos petardos explotaron en una carretera que comunica a Pradera, dejando diez personas lesionadas, entre ellas dos policías. Ambas acciones fueron atribuidas, también, a las  Farc.***Hablar de este tipo de hechos en Pradera no es nuevo, que se  responsabilice a la guerrilla tampoco. Y es que, de acuerdo a las autoridades y a analistas,   este municipio  es un corredor de movilidad por el que las Farc se pueden comunicar con otras zonas del Valle, el norte del Cauca e incluso Tolima y Huila, y que siempre han procurado no perder cuando la Fuerza Pública aumenta operatividad en la zona, como ha ocurrido, por ejemplo, desde que iniciaron los diálogos de paz, en el 2012.  Edinson Quintero, propietario de un bar que resultó afectado en el reciente ataque, habla de que esto no es justo con la población civil ni con nadie. Nos estábamos recuperando del atentado pasado  y cuando la calma y la tranquilidad reinaban los violentos volvieron a aparecer,  asegura.       Si las autoridades y el Gobierno Nacional saben de la vulnerabilidad de Pradera y de lo importante que puede resultar para estos grupos el control del territorio, no deberían de ser tan confiados, dice Quintero, quien el pasado viernes trataba de volver a poner en marcha su negocio, ubicado en una esquina de la plaza.      Un analista en seguridad explica que lo que pasó en Pradera el jueves pasado podría ser una respuesta a los trabajos que viene realizando la Fuerza Pública en el departamento y en especial en la zona de  Pradera, donde se han logrado minimizar las acciones de la  Gabriel Galvis.      Las Farc le están tratando de demostrar  a la población civil y a las autoridades que todavía tienen presencia en Pradera y sus alrededores y que en cualquier momento pueden volver los campos minados, las  extorsiones, las búsquedas de personas para las milicias y las Redes de Apoyo al Terrorismo, explica el experto.Rodolfo Escobero, otro analista  en seguridad, dice  que históricamente la guerrilla ha defendido  el corredor de Pradera porque es un territorio a través del cual  mueven  hombres, armas, droga y que, aunque se esté en diálogos de paz, no van a descuidar una área de tanta importancia.    Hay que recordar que  unos años atrás las Farc pidieron el despeje de este municipio y de Florida, como las zonas para negociar un acuerdo humanitario, expresa Escobero.El analista Alfredo Rangel da otra razón del valor estratégico de Pradera. Las Farc tienen muchos sitios de interés, sin embargo Pradera y Florida  están muy cerca de las cordilleras y son una retaguardia estratégica y el resguardo de buena parte del Secretariado.Las  montañas que rodean estas localidades son de difícil acceso para la Fuerza Pública y las complejas condiciones climáticas  impiden los bombardeos de la Fuerza Aérea. Esta es  la mayor explicación  para que las Farc se hayan asentado en la región.***El alcalde de Pradera, Adolfo León Escobar, dice que el municipio siempre ha sido una plataforma para la guerrilla: fue pedida como zona de despeje, es un corredor de movilidad, se presta para dar golpes a la Fuerza Pública.    Pradera es un punto estratégico, eso se sabe.Desde hace ocho días teníamos información de inteligencia de que las Farc podrían cometer un atentado. Entonces, no tenemos  dudas de que el ataque fue realizado por  ese grupo guerrillero,  agrega el funcionario.Estábamos en alerta pero hacer terrorismo es  fácil, pues como se ha visto recientemente en muchos lugares del mundo, cualquier criminal que tenga la voluntad de usar explosivos, en últimas, lo puede hacer, explicó el ministro de Defensa, Juan Carlos Pinzón, en su visita a Pradera, tras el ataque.  Estaban preparando algo, hay pruebas, asegura Pinzón: detrás del hecho está   la Columna Gabriel Galvis de las Farc, al mando de alias Leonel Paz, organización a la cual  un día antes del atentado con motobomba se le  decomisó en la vía entre Palmira y Pradera 50 granadas y 50 kilos de pentolita. ¿Para qué querrán esto? Para  atentar contra el pueblo, asegura.Hoy,   la columna Gabriel Galvis de las Farc, de acuerdo a inteligencia militar, ha sido muy golpeada y le ha tocado desplazarse hacia el Tolima. Los que quedan, no más de 70 integrantes, delinquen en los municipios de   Miranda, Florida y Pradera.Mientras tanto, el coronel Mariano Botero Coy, comandante de la Policía Valle, es optimista. Dice que se van a mantener los controles en Pradera, que habrá  patrullajes combinados y más presencia policial.Y es que aunque en Pradera se siga hablando del atentado del jueves pasado, del de Halloween del 2012, de que es de los municipios más afectados en el Valle por minas antipersonas (6 casos en el 2012 y 8 en el 2011), la situación de orden público había mejorado.El año pasado se registró una reducción del 74 % en el número de muertes violentas  con respecto al anterior, pues se presentaron 26 homicidios, mientras que en el 2012 hubo 96.En el municipio también se ha  contado, según el Alcalde, con el apoyo de la Brigada Móvil 28 del Ejército, además de un buen parque automotor, pues contamos con diez motocicletas nuevas y dos vehículos que realizan labores de vigilancia las 24 horas del día apoyados por los cuadrantes y 23 cámaras de seguridad.Por estas razones, por ese cambio que se sentía en el pueblo, seguramente, fue que luego del atentado con motobomba, cuando regresó la incertidumbre y el dolor, los habitantes de Pradera volvieron a exclamar en el centro del pueblo que la paz no se negocia, la exigimos. \n",
      "url: https://www.elpais.com.co/judicial/por-que-las-farc-continuan-ensanadas-con-pradera-valle.html \n",
      "ID: 19187\n"
     ]
    }
   ],
   "source": [
    "show_news(19187, df)"
   ]
  },
  {
   "cell_type": "markdown",
   "metadata": {},
   "source": [
    "----------\n",
    "**Verificando que el conteo de frecuencias haya sido correcto**"
   ]
  },
  {
   "cell_type": "code",
   "execution_count": 175,
   "metadata": {},
   "outputs": [
    {
     "name": "stdout",
     "output_type": "stream",
     "text": [
      "[ 0  0  0  0  2  0  0  0  0  0  0  0 27  7  0  0  1  1]\n"
     ]
    }
   ],
   "source": [
    "aux = df[df['ID']==15539]['Freqs'].values[0][0]\n",
    "print(aux)"
   ]
  },
  {
   "cell_type": "code",
   "execution_count": 179,
   "metadata": {},
   "outputs": [
    {
     "name": "stdout",
     "output_type": "stream",
     "text": [
      "['homicidi', 'masacr', 'secuestr', 'tortur', 'desplaz', 'forz', 'confin', 'accident', 'min', 'antipersonal', 'atent', 'reclut', 'violenci', 'sexual', 'ataqu', 'indiscrimin', 'bien', 'civil']\n",
      "[[ 0  0  0  0  2  0  0  0  0  0  0  0 27  7  0  0  1  1]]\n",
      "27\n"
     ]
    }
   ],
   "source": [
    "corpus = [df[df['ID']==15539]['Preprocesado'].values[0]]\n",
    "X = vectorizer.fit_transform(corpus)\n",
    "print(vectorizer.get_feature_names())\n",
    "print(X.toarray())\n",
    "print(corpus[0].count('violenci'))"
   ]
  },
  {
   "cell_type": "markdown",
   "metadata": {},
   "source": [
    "-------\n",
    "**Conclusiones preliminares**\n",
    "\n",
    "- Las noticias con mayor ranking son las noticias más largas.\n",
    "- No todas parecen servir para identificar un hecho contra la población civil.\n",
    "- Hay que incluir algún tipo de peso para las palabras."
   ]
  }
 ],
 "metadata": {
  "kernelspec": {
   "display_name": "Python 3",
   "language": "python",
   "name": "python3"
  },
  "language_info": {
   "codemirror_mode": {
    "name": "ipython",
    "version": 3
   },
   "file_extension": ".py",
   "mimetype": "text/x-python",
   "name": "python",
   "nbconvert_exporter": "python",
   "pygments_lexer": "ipython3",
   "version": "3.7.7"
  }
 },
 "nbformat": 4,
 "nbformat_minor": 4
}
