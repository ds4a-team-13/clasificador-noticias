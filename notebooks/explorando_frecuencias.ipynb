{
 "cells": [
  {
   "cell_type": "markdown",
   "metadata": {},
   "source": [
    "## Analizando frecuencia de palabras\n",
    "\n",
    "Se realizan los siguientes pasos:\n",
    "\n",
    "- Cargar dataframe de noticias.\n",
    "- Cargar los cuerpos de noticia preprocesados.\n",
    "- Encontrar la frecuencia de palabras clave de la categoría \"Hecho contra la población civil\" para cada cuerpo de noticia preprocesado.\n",
    "- Crear el ranking de acuerdo a la suma de las frecuencias."
   ]
  },
  {
   "cell_type": "code",
   "execution_count": 49,
   "metadata": {},
   "outputs": [],
   "source": [
    "import numpy as np\n",
    "import pandas as pd\n",
    "import sqlite3\n",
    "from nltk import SnowballStemmer\n",
    "from sklearn.feature_extraction.text import CountVectorizer\n",
    "\n",
    "def show_news(n, df):\n",
    "    fila = df[df['ID']==n]\n",
    "    print(\n",
    "        \"Suma:\", fila['suma_freq'].values[0],\n",
    "        \"\\nRanking:\", fila['Ranking'].values[0],\n",
    "        \"\\nTitulo:\", fila['titulo'].values[0],\n",
    "        \"\\nNumero palabras:\", fila['long_cuerpo'].values[0],\n",
    "        \"\\nDiario:\", fila['diario'].values[0],\n",
    "        \"\\nCuerpo:\", fila['cuerpo'].values[0],\n",
    "        \"\\nurl:\", fila['url'].values[0],\n",
    "        \"\\nID:\", fila['ID'].values[0],\n",
    "    )"
   ]
  },
  {
   "cell_type": "markdown",
   "metadata": {},
   "source": [
    "-----------\n",
    "\n",
    "**Cargando dataframe de noticias**\n",
    "- Se encuentra la longitud del cuerpo de la noticia.\n",
    "- Se asigna un ID a cada noticia.\n",
    "- Se eliminan las noticias cuyo cuerpo no tiene ninguna palabra."
   ]
  },
  {
   "cell_type": "code",
   "execution_count": 2,
   "metadata": {},
   "outputs": [
    {
     "data": {
      "text/html": [
       "<div>\n",
       "<style scoped>\n",
       "    .dataframe tbody tr th:only-of-type {\n",
       "        vertical-align: middle;\n",
       "    }\n",
       "\n",
       "    .dataframe tbody tr th {\n",
       "        vertical-align: top;\n",
       "    }\n",
       "\n",
       "    .dataframe thead th {\n",
       "        text-align: right;\n",
       "    }\n",
       "</style>\n",
       "<table border=\"1\" class=\"dataframe\">\n",
       "  <thead>\n",
       "    <tr style=\"text-align: right;\">\n",
       "      <th></th>\n",
       "      <th>index</th>\n",
       "      <th>titulo</th>\n",
       "      <th>cuerpo</th>\n",
       "      <th>fecha_publicacion</th>\n",
       "      <th>diario</th>\n",
       "      <th>url</th>\n",
       "      <th>page</th>\n",
       "      <th>long_cuerpo</th>\n",
       "      <th>ID</th>\n",
       "    </tr>\n",
       "  </thead>\n",
       "  <tbody>\n",
       "    <tr>\n",
       "      <th>0</th>\n",
       "      <td>0</td>\n",
       "      <td>Campesino asesinado en Baraya</td>\n",
       "      <td>Un impacto en el pecho con una escopeta calibr...</td>\n",
       "      <td>2020-06-11 17:00:33</td>\n",
       "      <td>lanacion</td>\n",
       "      <td>https://www.lanacion.com.co/campesino-asesinad...</td>\n",
       "      <td>2</td>\n",
       "      <td>107</td>\n",
       "      <td>0</td>\n",
       "    </tr>\n",
       "    <tr>\n",
       "      <th>1</th>\n",
       "      <td>1</td>\n",
       "      <td>‘Morcilla’ a responder por homicidio de un jov...</td>\n",
       "      <td>Jorge Leonardo Pájaro Paredes conocido como ‘M...</td>\n",
       "      <td>2020-06-10 10:10:56</td>\n",
       "      <td>lanacion</td>\n",
       "      <td>https://www.lanacion.com.co/morcilla-a-respond...</td>\n",
       "      <td>2</td>\n",
       "      <td>228</td>\n",
       "      <td>1</td>\n",
       "    </tr>\n",
       "  </tbody>\n",
       "</table>\n",
       "</div>"
      ],
      "text/plain": [
       "   index                                             titulo  \\\n",
       "0      0                      Campesino asesinado en Baraya   \n",
       "1      1  ‘Morcilla’ a responder por homicidio de un jov...   \n",
       "\n",
       "                                              cuerpo   fecha_publicacion  \\\n",
       "0  Un impacto en el pecho con una escopeta calibr... 2020-06-11 17:00:33   \n",
       "1  Jorge Leonardo Pájaro Paredes conocido como ‘M... 2020-06-10 10:10:56   \n",
       "\n",
       "     diario                                                url  page  \\\n",
       "0  lanacion  https://www.lanacion.com.co/campesino-asesinad...     2   \n",
       "1  lanacion  https://www.lanacion.com.co/morcilla-a-respond...     2   \n",
       "\n",
       "   long_cuerpo  ID  \n",
       "0          107   0  \n",
       "1          228   1  "
      ]
     },
     "execution_count": 2,
     "metadata": {},
     "output_type": "execute_result"
    }
   ],
   "source": [
    "cnx = sqlite3.connect('../data/data.db')\n",
    "df = pd.read_sql_query(\"SELECT * FROM news\", cnx)\n",
    "df['fecha_publicacion'] = pd.to_datetime(df['fecha_publicacion'])\n",
    "df['long_cuerpo'] = df['cuerpo'].apply(lambda x: len(str(x).split()))\n",
    "df['ID'] = df.index\n",
    "df = df[df['long_cuerpo']!=0].reset_index()\n",
    "df.head(2)"
   ]
  },
  {
   "cell_type": "markdown",
   "metadata": {},
   "source": [
    "\n",
    "**Cargando dataframe de cuerpo de noticia preprocesado**\n",
    "\n",
    "- Se carga el archivo.\n",
    "- Se pega al dataframe de noticias."
   ]
  },
  {
   "cell_type": "code",
   "execution_count": 3,
   "metadata": {},
   "outputs": [
    {
     "name": "stdout",
     "output_type": "stream",
     "text": [
      "(19284,)\n"
     ]
    },
    {
     "data": {
      "text/plain": [
       "0    campesin asesin baray impact pech escopet cali...\n",
       "1    morcill respond homicidi jov pajar conoc morci...\n",
       "Name: text, dtype: object"
      ]
     },
     "execution_count": 3,
     "metadata": {},
     "output_type": "execute_result"
    }
   ],
   "source": [
    "serie_word = pd.read_csv('serie_word.csv')['text']\n",
    "print(serie_word.shape)\n",
    "serie_word.head(2)"
   ]
  },
  {
   "cell_type": "code",
   "execution_count": 4,
   "metadata": {},
   "outputs": [
    {
     "name": "stdout",
     "output_type": "stream",
     "text": [
      "Tamanhos antes: (19284, 9) (19284,)\n"
     ]
    }
   ],
   "source": [
    "print(\"Tamanhos antes:\", df.shape, serie_word.shape)\n",
    "df['Preprocesado'] = serie_word.values"
   ]
  },
  {
   "cell_type": "markdown",
   "metadata": {},
   "source": [
    "---------\n",
    "\n",
    "**Encontrando la frecuencia de palabras clave de la categoría \"Hecho contra la población civil\" para cada cuerpo de noticia preprocesado**\n",
    "\n",
    "- Se genera la lista de palabras clave y se preprocesa.\n",
    "- Se eliminan las noticias que no tienen ninguna de las palabras clave.\n",
    "- Se aplica el CountVectorizer sobre el dataframe de noticias para encontrar las frecuencias."
   ]
  },
  {
   "cell_type": "code",
   "execution_count": 8,
   "metadata": {},
   "outputs": [
    {
     "name": "stdout",
     "output_type": "stream",
     "text": [
      "Stemming words...\n"
     ]
    },
    {
     "data": {
      "text/plain": [
       "0         homicidi\n",
       "1           masacr\n",
       "2         secuestr\n",
       "3           tortur\n",
       "4          desplaz\n",
       "5             forz\n",
       "6           confin\n",
       "7         accident\n",
       "8              min\n",
       "9     antipersonal\n",
       "10           atent\n",
       "11          reclut\n",
       "12        violenci\n",
       "13          sexual\n",
       "14           ataqu\n",
       "15     indiscrimin\n",
       "16            bien\n",
       "17           civil\n",
       "dtype: object"
      ]
     },
     "execution_count": 8,
     "metadata": {},
     "output_type": "execute_result"
    }
   ],
   "source": [
    "searchfor = [\"homicidio\",\n",
    "             \"masacre\", \n",
    "             \"secuestro\",\n",
    "             \"tortura\",\n",
    "             \"desplazamiento\",\n",
    "             \"forzado\",\n",
    "             \"confinamiento\",\n",
    "             \"accidente\",\n",
    "             \"minas\",\n",
    "             \"antipersonal\",\n",
    "             \"atentado\",\n",
    "             \"reclutamiento\",\n",
    "             #\"utilizacion NNA\",\n",
    "             \"violencia\",\n",
    "             \"sexual\",\n",
    "             \"ataque\",\n",
    "             \"indiscriminado\",\n",
    "             #\"ataque\",\n",
    "             \"bienes\",\n",
    "             \"civiles\"]\n",
    "\n",
    "tam = len(searchfor)\n",
    "\n",
    "searchfor = pd.Series(searchfor)\n",
    "\n",
    "spanishstemmer = SnowballStemmer('spanish')\n",
    "print('Stemming words...')\n",
    "# Stemming (word root)\n",
    "searchfor = searchfor.apply(lambda x: \" \".join(spanishstemmer.stem(word) for word in x.split()))\n",
    "searchfor"
   ]
  },
  {
   "cell_type": "code",
   "execution_count": 6,
   "metadata": {},
   "outputs": [
    {
     "name": "stdout",
     "output_type": "stream",
     "text": [
      "Tamanhos despues: (15115, 11)\n"
     ]
    },
    {
     "data": {
      "text/html": [
       "<div>\n",
       "<style scoped>\n",
       "    .dataframe tbody tr th:only-of-type {\n",
       "        vertical-align: middle;\n",
       "    }\n",
       "\n",
       "    .dataframe tbody tr th {\n",
       "        vertical-align: top;\n",
       "    }\n",
       "\n",
       "    .dataframe thead th {\n",
       "        text-align: right;\n",
       "    }\n",
       "</style>\n",
       "<table border=\"1\" class=\"dataframe\">\n",
       "  <thead>\n",
       "    <tr style=\"text-align: right;\">\n",
       "      <th></th>\n",
       "      <th>index</th>\n",
       "      <th>titulo</th>\n",
       "      <th>cuerpo</th>\n",
       "      <th>fecha_publicacion</th>\n",
       "      <th>diario</th>\n",
       "      <th>url</th>\n",
       "      <th>page</th>\n",
       "      <th>long_cuerpo</th>\n",
       "      <th>ID</th>\n",
       "      <th>Preprocesado</th>\n",
       "      <th>OK</th>\n",
       "    </tr>\n",
       "  </thead>\n",
       "  <tbody>\n",
       "    <tr>\n",
       "      <th>0</th>\n",
       "      <td>0</td>\n",
       "      <td>Campesino asesinado en Baraya</td>\n",
       "      <td>Un impacto en el pecho con una escopeta calibr...</td>\n",
       "      <td>2020-06-11 17:00:33</td>\n",
       "      <td>lanacion</td>\n",
       "      <td>https://www.lanacion.com.co/campesino-asesinad...</td>\n",
       "      <td>2</td>\n",
       "      <td>107</td>\n",
       "      <td>0</td>\n",
       "      <td>campesin asesin baray impact pech escopet cali...</td>\n",
       "      <td>True</td>\n",
       "    </tr>\n",
       "    <tr>\n",
       "      <th>1</th>\n",
       "      <td>1</td>\n",
       "      <td>‘Morcilla’ a responder por homicidio de un jov...</td>\n",
       "      <td>Jorge Leonardo Pájaro Paredes conocido como ‘M...</td>\n",
       "      <td>2020-06-10 10:10:56</td>\n",
       "      <td>lanacion</td>\n",
       "      <td>https://www.lanacion.com.co/morcilla-a-respond...</td>\n",
       "      <td>2</td>\n",
       "      <td>228</td>\n",
       "      <td>1</td>\n",
       "      <td>morcill respond homicidi jov pajar conoc morci...</td>\n",
       "      <td>True</td>\n",
       "    </tr>\n",
       "  </tbody>\n",
       "</table>\n",
       "</div>"
      ],
      "text/plain": [
       "   index                                             titulo  \\\n",
       "0      0                      Campesino asesinado en Baraya   \n",
       "1      1  ‘Morcilla’ a responder por homicidio de un jov...   \n",
       "\n",
       "                                              cuerpo   fecha_publicacion  \\\n",
       "0  Un impacto en el pecho con una escopeta calibr... 2020-06-11 17:00:33   \n",
       "1  Jorge Leonardo Pájaro Paredes conocido como ‘M... 2020-06-10 10:10:56   \n",
       "\n",
       "     diario                                                url  page  \\\n",
       "0  lanacion  https://www.lanacion.com.co/campesino-asesinad...     2   \n",
       "1  lanacion  https://www.lanacion.com.co/morcilla-a-respond...     2   \n",
       "\n",
       "   long_cuerpo  ID                                       Preprocesado    OK  \n",
       "0          107   0  campesin asesin baray impact pech escopet cali...  True  \n",
       "1          228   1  morcill respond homicidi jov pajar conoc morci...  True  "
      ]
     },
     "execution_count": 6,
     "metadata": {},
     "output_type": "execute_result"
    }
   ],
   "source": [
    "searchfor_list = list(searchfor)\n",
    "df['OK'] = df['Preprocesado'].str.contains('|'.join(searchfor_list))\n",
    "df = df[df['OK'] == True]\n",
    "print(\"Tamanhos despues:\", df.shape)\n",
    "df.head(2)"
   ]
  },
  {
   "cell_type": "code",
   "execution_count": 7,
   "metadata": {},
   "outputs": [
    {
     "data": {
      "text/plain": [
       "0    [[1, 0, 0, 0, 0, 0, 0, 0, 0, 0, 0, 0, 0, 0, 0,...\n",
       "1    [[5, 0, 0, 0, 0, 0, 0, 0, 0, 0, 0, 0, 0, 0, 0,...\n",
       "Name: Freqs, dtype: object"
      ]
     },
     "execution_count": 7,
     "metadata": {},
     "output_type": "execute_result"
    }
   ],
   "source": [
    "vectorizer = CountVectorizer(vocabulary=searchfor)\n",
    "df['Freqs'] = df['Preprocesado'].apply(lambda x: vectorizer.fit_transform([x]).toarray())\n",
    "df['Freqs'].head(2)"
   ]
  },
  {
   "cell_type": "markdown",
   "metadata": {},
   "source": [
    "---------\n",
    "\n",
    "**Creando el ranking de acuerdo a la suma de las frecuencias**"
   ]
  },
  {
   "cell_type": "code",
   "execution_count": 38,
   "metadata": {},
   "outputs": [
    {
     "data": {
      "text/html": [
       "<div>\n",
       "<style scoped>\n",
       "    .dataframe tbody tr th:only-of-type {\n",
       "        vertical-align: middle;\n",
       "    }\n",
       "\n",
       "    .dataframe tbody tr th {\n",
       "        vertical-align: top;\n",
       "    }\n",
       "\n",
       "    .dataframe thead th {\n",
       "        text-align: right;\n",
       "    }\n",
       "</style>\n",
       "<table border=\"1\" class=\"dataframe\">\n",
       "  <thead>\n",
       "    <tr style=\"text-align: right;\">\n",
       "      <th></th>\n",
       "      <th>index</th>\n",
       "      <th>titulo</th>\n",
       "      <th>cuerpo</th>\n",
       "      <th>fecha_publicacion</th>\n",
       "      <th>diario</th>\n",
       "      <th>url</th>\n",
       "      <th>page</th>\n",
       "      <th>long_cuerpo</th>\n",
       "      <th>ID</th>\n",
       "      <th>Preprocesado</th>\n",
       "      <th>OK</th>\n",
       "      <th>Freqs</th>\n",
       "      <th>bool_freqs</th>\n",
       "      <th>Ranking1</th>\n",
       "      <th>suma_freq</th>\n",
       "      <th>Ranking</th>\n",
       "    </tr>\n",
       "  </thead>\n",
       "  <tbody>\n",
       "    <tr>\n",
       "      <th>0</th>\n",
       "      <td>0</td>\n",
       "      <td>Campesino asesinado en Baraya</td>\n",
       "      <td>Un impacto en el pecho con una escopeta calibr...</td>\n",
       "      <td>2020-06-11 17:00:33</td>\n",
       "      <td>lanacion</td>\n",
       "      <td>https://www.lanacion.com.co/campesino-asesinad...</td>\n",
       "      <td>2</td>\n",
       "      <td>107</td>\n",
       "      <td>0</td>\n",
       "      <td>campesin asesin baray impact pech escopet cali...</td>\n",
       "      <td>True</td>\n",
       "      <td>[[1, 0, 0, 0, 0, 0, 0, 0, 0, 0, 0, 0, 0, 0, 0,...</td>\n",
       "      <td>[1, 0, 0, 0, 0, 0, 0, 0, 0, 0, 0, 0, 0, 0, 0, ...</td>\n",
       "      <td>0.055556</td>\n",
       "      <td>1</td>\n",
       "      <td>0.009346</td>\n",
       "    </tr>\n",
       "    <tr>\n",
       "      <th>1</th>\n",
       "      <td>1</td>\n",
       "      <td>‘Morcilla’ a responder por homicidio de un jov...</td>\n",
       "      <td>Jorge Leonardo Pájaro Paredes conocido como ‘M...</td>\n",
       "      <td>2020-06-10 10:10:56</td>\n",
       "      <td>lanacion</td>\n",
       "      <td>https://www.lanacion.com.co/morcilla-a-respond...</td>\n",
       "      <td>2</td>\n",
       "      <td>228</td>\n",
       "      <td>1</td>\n",
       "      <td>morcill respond homicidi jov pajar conoc morci...</td>\n",
       "      <td>True</td>\n",
       "      <td>[[5, 0, 0, 0, 0, 0, 0, 0, 0, 0, 0, 0, 0, 0, 0,...</td>\n",
       "      <td>[1, 0, 0, 0, 0, 0, 0, 0, 0, 0, 0, 0, 0, 0, 0, ...</td>\n",
       "      <td>0.111111</td>\n",
       "      <td>6</td>\n",
       "      <td>0.026316</td>\n",
       "    </tr>\n",
       "  </tbody>\n",
       "</table>\n",
       "</div>"
      ],
      "text/plain": [
       "   index                                             titulo  \\\n",
       "0      0                      Campesino asesinado en Baraya   \n",
       "1      1  ‘Morcilla’ a responder por homicidio de un jov...   \n",
       "\n",
       "                                              cuerpo   fecha_publicacion  \\\n",
       "0  Un impacto en el pecho con una escopeta calibr... 2020-06-11 17:00:33   \n",
       "1  Jorge Leonardo Pájaro Paredes conocido como ‘M... 2020-06-10 10:10:56   \n",
       "\n",
       "     diario                                                url  page  \\\n",
       "0  lanacion  https://www.lanacion.com.co/campesino-asesinad...     2   \n",
       "1  lanacion  https://www.lanacion.com.co/morcilla-a-respond...     2   \n",
       "\n",
       "   long_cuerpo  ID                                       Preprocesado    OK  \\\n",
       "0          107   0  campesin asesin baray impact pech escopet cali...  True   \n",
       "1          228   1  morcill respond homicidi jov pajar conoc morci...  True   \n",
       "\n",
       "                                               Freqs  \\\n",
       "0  [[1, 0, 0, 0, 0, 0, 0, 0, 0, 0, 0, 0, 0, 0, 0,...   \n",
       "1  [[5, 0, 0, 0, 0, 0, 0, 0, 0, 0, 0, 0, 0, 0, 0,...   \n",
       "\n",
       "                                          bool_freqs  Ranking1  suma_freq  \\\n",
       "0  [1, 0, 0, 0, 0, 0, 0, 0, 0, 0, 0, 0, 0, 0, 0, ...  0.055556          1   \n",
       "1  [1, 0, 0, 0, 0, 0, 0, 0, 0, 0, 0, 0, 0, 0, 0, ...  0.111111          6   \n",
       "\n",
       "    Ranking  \n",
       "0  0.009346  \n",
       "1  0.026316  "
      ]
     },
     "execution_count": 38,
     "metadata": {},
     "output_type": "execute_result"
    }
   ],
   "source": [
    "df['suma_freq'] = df.apply(lambda x: x['Freqs'].sum(), axis=1)\n",
    "df['Ranking'] = df['suma_freq']/df['long_cuerpo']\n",
    "df.head(2)"
   ]
  },
  {
   "cell_type": "code",
   "execution_count": 39,
   "metadata": {},
   "outputs": [
    {
     "name": "stdout",
     "output_type": "stream",
     "text": [
      "       index   Ranking     ID\n",
      "10419  13567  0.333333  13631\n",
      "8147   10713  0.142857  10756\n",
      "15472    38\n",
      "Name: suma_freq, dtype: int64\n"
     ]
    }
   ],
   "source": [
    "aux = df[['Ranking', 'ID']].reset_index()\n",
    "aux.sort_values(by='Ranking', ascending=False, inplace=True)\n",
    "print(aux.head(2))\n",
    "print(df[df['ID']==15539]['suma_freq'])"
   ]
  },
  {
   "cell_type": "code",
   "execution_count": 40,
   "metadata": {},
   "outputs": [
    {
     "name": "stdout",
     "output_type": "stream",
     "text": [
      "Suma: 1 \n",
      "Ranking: 0.3333333333333333 \n",
      "Titulo: Falleció motociclista accidentado el pasado domingo \n",
      "Numero palabras: 3 \n",
      "Diario: lanacion \n",
      "Cuerpo: Llevaba la vía \n",
      "url: https://www.lanacion.com.co/fallecio-motociclista-accidentado-el-pasado-domingo/ \n",
      "ID: 13631\n"
     ]
    }
   ],
   "source": [
    "show_news(13631, df)"
   ]
  },
  {
   "cell_type": "code",
   "execution_count": 41,
   "metadata": {},
   "outputs": [
    {
     "name": "stdout",
     "output_type": "stream",
     "text": [
      "Suma: 1 \n",
      "Ranking: 0.14285714285714285 \n",
      "Titulo: Menor de edad protagonizó aparatoso accidente en el sur de Neiva \n",
      "Numero palabras: 7 \n",
      "Diario: lanacion \n",
      "Cuerpo: * Con información de OLE MI DIARIO.  \n",
      "url: https://www.lanacion.com.co/menor-de-edad-protagonizo-aparatoso-accidente-en-el-sur-de-neiva/ \n",
      "ID: 10756\n"
     ]
    }
   ],
   "source": [
    "show_news(10756, df)"
   ]
  },
  {
   "cell_type": "markdown",
   "metadata": {},
   "source": [
    "----------\n",
    "**Verificando que el conteo de frecuencias haya sido correcto**"
   ]
  },
  {
   "cell_type": "code",
   "execution_count": 175,
   "metadata": {},
   "outputs": [
    {
     "name": "stdout",
     "output_type": "stream",
     "text": [
      "[ 0  0  0  0  2  0  0  0  0  0  0  0 27  7  0  0  1  1]\n"
     ]
    }
   ],
   "source": [
    "aux = df[df['ID']==15539]['Freqs'].values[0][0]\n",
    "print(aux)"
   ]
  },
  {
   "cell_type": "code",
   "execution_count": 179,
   "metadata": {},
   "outputs": [
    {
     "name": "stdout",
     "output_type": "stream",
     "text": [
      "['homicidi', 'masacr', 'secuestr', 'tortur', 'desplaz', 'forz', 'confin', 'accident', 'min', 'antipersonal', 'atent', 'reclut', 'violenci', 'sexual', 'ataqu', 'indiscrimin', 'bien', 'civil']\n",
      "[[ 0  0  0  0  2  0  0  0  0  0  0  0 27  7  0  0  1  1]]\n",
      "27\n"
     ]
    }
   ],
   "source": [
    "corpus = [df[df['ID']==15539]['Preprocesado'].values[0]]\n",
    "X = vectorizer.fit_transform(corpus)\n",
    "print(vectorizer.get_feature_names())\n",
    "print(X.toarray())\n",
    "print(corpus[0].count('violenci'))"
   ]
  },
  {
   "cell_type": "markdown",
   "metadata": {},
   "source": [
    "-------\n",
    "**Conclusiones preliminares**\n",
    "\n",
    "- Las noticias con mayor ranking son las noticias más largas.\n",
    "- No todas parecen servir para identificar un hecho contra la población civil.\n",
    "- Hay que incluir algún tipo de peso para las palabras."
   ]
  },
  {
   "cell_type": "code",
   "execution_count": 34,
   "metadata": {},
   "outputs": [],
   "source": [
    "def boolean_freq(lista):\n",
    "    lista = list(lista)[0]\n",
    "    # print(lista)\n",
    "    aux = []\n",
    "    for i in range(len(lista)):\n",
    "        valor = 0\n",
    "        if lista[i] > 0:\n",
    "            valor = 1\n",
    "        aux.append(valor)\n",
    "    return aux"
   ]
  },
  {
   "cell_type": "code",
   "execution_count": 50,
   "metadata": {},
   "outputs": [
    {
     "data": {
      "text/html": [
       "<div>\n",
       "<style scoped>\n",
       "    .dataframe tbody tr th:only-of-type {\n",
       "        vertical-align: middle;\n",
       "    }\n",
       "\n",
       "    .dataframe tbody tr th {\n",
       "        vertical-align: top;\n",
       "    }\n",
       "\n",
       "    .dataframe thead th {\n",
       "        text-align: right;\n",
       "    }\n",
       "</style>\n",
       "<table border=\"1\" class=\"dataframe\">\n",
       "  <thead>\n",
       "    <tr style=\"text-align: right;\">\n",
       "      <th></th>\n",
       "      <th>index</th>\n",
       "      <th>titulo</th>\n",
       "      <th>cuerpo</th>\n",
       "      <th>fecha_publicacion</th>\n",
       "      <th>diario</th>\n",
       "      <th>url</th>\n",
       "      <th>page</th>\n",
       "      <th>long_cuerpo</th>\n",
       "      <th>ID</th>\n",
       "      <th>Preprocesado</th>\n",
       "      <th>OK</th>\n",
       "      <th>Freqs</th>\n",
       "      <th>bool_freqs</th>\n",
       "      <th>Ranking1</th>\n",
       "      <th>suma_freq</th>\n",
       "      <th>Ranking</th>\n",
       "    </tr>\n",
       "  </thead>\n",
       "  <tbody>\n",
       "    <tr>\n",
       "      <th>0</th>\n",
       "      <td>0</td>\n",
       "      <td>Campesino asesinado en Baraya</td>\n",
       "      <td>Un impacto en el pecho con una escopeta calibr...</td>\n",
       "      <td>2020-06-11 17:00:33</td>\n",
       "      <td>lanacion</td>\n",
       "      <td>https://www.lanacion.com.co/campesino-asesinad...</td>\n",
       "      <td>2</td>\n",
       "      <td>107</td>\n",
       "      <td>0</td>\n",
       "      <td>campesin asesin baray impact pech escopet cali...</td>\n",
       "      <td>True</td>\n",
       "      <td>[[1, 0, 0, 0, 0, 0, 0, 0, 0, 0, 0, 0, 0, 0, 0,...</td>\n",
       "      <td>[1, 0, 0, 0, 0, 0, 0, 0, 0, 0, 0, 0, 0, 0, 0, ...</td>\n",
       "      <td>0.055556</td>\n",
       "      <td>1</td>\n",
       "      <td>0.055556</td>\n",
       "    </tr>\n",
       "    <tr>\n",
       "      <th>1</th>\n",
       "      <td>1</td>\n",
       "      <td>‘Morcilla’ a responder por homicidio de un jov...</td>\n",
       "      <td>Jorge Leonardo Pájaro Paredes conocido como ‘M...</td>\n",
       "      <td>2020-06-10 10:10:56</td>\n",
       "      <td>lanacion</td>\n",
       "      <td>https://www.lanacion.com.co/morcilla-a-respond...</td>\n",
       "      <td>2</td>\n",
       "      <td>228</td>\n",
       "      <td>1</td>\n",
       "      <td>morcill respond homicidi jov pajar conoc morci...</td>\n",
       "      <td>True</td>\n",
       "      <td>[[5, 0, 0, 0, 0, 0, 0, 0, 0, 0, 0, 0, 0, 0, 0,...</td>\n",
       "      <td>[1, 0, 0, 0, 0, 0, 0, 0, 0, 0, 0, 0, 0, 0, 0, ...</td>\n",
       "      <td>0.111111</td>\n",
       "      <td>6</td>\n",
       "      <td>0.111111</td>\n",
       "    </tr>\n",
       "  </tbody>\n",
       "</table>\n",
       "</div>"
      ],
      "text/plain": [
       "   index                                             titulo  \\\n",
       "0      0                      Campesino asesinado en Baraya   \n",
       "1      1  ‘Morcilla’ a responder por homicidio de un jov...   \n",
       "\n",
       "                                              cuerpo   fecha_publicacion  \\\n",
       "0  Un impacto en el pecho con una escopeta calibr... 2020-06-11 17:00:33   \n",
       "1  Jorge Leonardo Pájaro Paredes conocido como ‘M... 2020-06-10 10:10:56   \n",
       "\n",
       "     diario                                                url  page  \\\n",
       "0  lanacion  https://www.lanacion.com.co/campesino-asesinad...     2   \n",
       "1  lanacion  https://www.lanacion.com.co/morcilla-a-respond...     2   \n",
       "\n",
       "   long_cuerpo  ID                                       Preprocesado    OK  \\\n",
       "0          107   0  campesin asesin baray impact pech escopet cali...  True   \n",
       "1          228   1  morcill respond homicidi jov pajar conoc morci...  True   \n",
       "\n",
       "                                               Freqs  \\\n",
       "0  [[1, 0, 0, 0, 0, 0, 0, 0, 0, 0, 0, 0, 0, 0, 0,...   \n",
       "1  [[5, 0, 0, 0, 0, 0, 0, 0, 0, 0, 0, 0, 0, 0, 0,...   \n",
       "\n",
       "                                          bool_freqs  Ranking1  suma_freq  \\\n",
       "0  [1, 0, 0, 0, 0, 0, 0, 0, 0, 0, 0, 0, 0, 0, 0, ...  0.055556          1   \n",
       "1  [1, 0, 0, 0, 0, 0, 0, 0, 0, 0, 0, 0, 0, 0, 0, ...  0.111111          6   \n",
       "\n",
       "    Ranking  \n",
       "0  0.055556  \n",
       "1  0.111111  "
      ]
     },
     "execution_count": 50,
     "metadata": {},
     "output_type": "execute_result"
    }
   ],
   "source": [
    "df['bool_freqs'] = df['Freqs'].apply(lambda x: boolean_freq(x))\n",
    "df['Ranking'] = df['bool_freqs'].apply(lambda x: np.sum(x)/tam)\n",
    "df.head(2)"
   ]
  },
  {
   "cell_type": "code",
   "execution_count": 51,
   "metadata": {},
   "outputs": [
    {
     "name": "stdout",
     "output_type": "stream",
     "text": [
      "       index   Ranking     ID\n",
      "2276    3575  0.444444   3597\n",
      "14981  19118  0.444444  19187\n",
      "390      532  0.388889    532\n",
      "15472    38\n",
      "Name: suma_freq, dtype: int64\n"
     ]
    }
   ],
   "source": [
    "aux = df[['Ranking', 'ID']].reset_index()\n",
    "aux.sort_values(by='Ranking', ascending=False, inplace=True)\n",
    "print(aux.head(3))\n",
    "print(df[df['ID']==15539]['suma_freq'])"
   ]
  },
  {
   "cell_type": "code",
   "execution_count": 52,
   "metadata": {},
   "outputs": [
    {
     "name": "stdout",
     "output_type": "stream",
     "text": [
      "Suma: 13 \n",
      "Ranking: 0.4444444444444444 \n",
      "Titulo: Asesinan a guardia indígena en zona turística del Chocó \n",
      "Numero palabras: 504 \n",
      "Diario: hoydiariodelmagdalena \n",
      "Cuerpo:  \t\t\n",
      "\t\t\t\t\n",
      "\t\t\t\t\n",
      "\t\tSegún la entidad, Anuar Rojas Isaramá fue asesinado en Agua Blanca, que pertenece a Nuquí, un población frecuentada por turistas nacionales y extranjeros por la belleza de sus playas, variada gastronomía y posibilidades de ecoturismo, entre otros atractivos. “Rechazamos asesinato del guardia indígena Anuar Rojas Isaramá en Agua Blanca (…) Solicitamos su esclarecimiento”, escribió la Defensoría en Twitter. Añadió: “Tras el hecho, 80 personas pertenecientes a la comunidad están en proceso de desplazamiento forzado.  Pedimos activar las rutas institucionales de atención”. En el departamento del Chocó, fronterizo con Panamá, operan las guerrillas del Ejército de Liberación Nacional (ELN), las paramilitares Autodefensas Gaitanistas de Colombia (AGC) y otras bandas criminales que amenazan y ponen en riesgo constante a los pobladores de esta parte del país. El pasado 31 de diciembre, la ONU divulgó un informe en el que considera que la presencia de grupos armados ilegales en algunas zonas de Colombia “sigue teniendo consecuencias devastadoras, como reclutamientos forzados de menores, homicidios, desplazamientos, confinamientos y ataques y amenazas contra las autoridades y los líderes étnicos”. Por ese fenómeno también se ven afectadas las comunidades indígenas y afrocolombianas, en particular en los departamentos del Chocó (oeste) y Cauca (suroeste). El informe también manifiesta que “el deterioro de la situación en el departamento del Chocó es motivo de alarma” y recordó que a comienzos de diciembre de 2019 la Defensoría del Pueblo confirmó el desplazamiento de 3. 200 miembros de 17 comunidades étnicas del municipio de Alto Baudó y el confinamiento de ocho comunidades debido a los enfrentamientos entre grupos armados ilegales. El pasado 2 de enero el defensor del Pueblo del Chocó, Luis Murillo, denunció que los habitantes del caserío Pogue, que hace parte de Bojayá, escenario en 2002 de una de las peores matanzas del conflicto armado, iniciaron 2020 confinados por la presencia de hombres armados de las AGC. La masacre de Bojayá ocurrió el 2 de mayo de 2002, cuando una bomba lanzada por la guerrilla de las FARC durante un combate con paramilitares por el control territorial cayó en la iglesia, donde se había refugiado parte del pueblo y mató a por lo menos 79 personas aunque otras cifras hablan de 119 muertos y decenas de heridos. En los últimos días el líder social Leyner Palacios abandonó Bojayá por amenazas de muerte y ayer se reunió en Bogotá con el presidente colombiano, Iván Duque, al que le pidió retomar los diálogos de paz con ELN para evitar más violencia en la región. Por las amenazas de muerte, las autoridades reforzaron la seguridad de Palacios y soldados del Ejército fueron enviados a Bojayá para investigar las denuncias de la comunidad que advertían de la presencia de paramilitares. Por su lado, el presidente Duque dijo este jueves que en 2019 hubo una reducción de asesinato de líderes sociales cercana al 25 %.  Pero que “esa cifra por supuesto nosotros no nos llena para nada de complacencia tenemos que avanzar todos los días a que la reducción sea llegar a cero porque rechazamos esa tragedia”, indicó.  EFE \n",
      "url: http://www.hoydiariodelmagdalena.com.co/archivos/318907 \n",
      "ID: 3597\n"
     ]
    }
   ],
   "source": [
    "show_news(3597, df)"
   ]
  },
  {
   "cell_type": "code",
   "execution_count": 53,
   "metadata": {},
   "outputs": [
    {
     "name": "stdout",
     "output_type": "stream",
     "text": [
      "Suma: 25 \n",
      "Ranking: 0.4444444444444444 \n",
      "Titulo: ¿Por qué las Farc continúan ensañadas con Pradera, Valle? \n",
      "Numero palabras: 1164 \n",
      "Diario: elpais \n",
      "Cuerpo: Tras el atentado con motobomba, autoridades y analistas coinciden en que el municipio aún tiene un valor estratégico para la guerrilla.Pradera es el municipio del Valle del Cauca más afectado por la violencia de los grupos ilegales. En menos de dos años, esta ciudad, ubicada en las estribaciones de la cordillera Central, ha sido blanco de dos atentados terroristas con bombas que han dejado casi un centenar de heridos.  Una mezcla de la influencia de la columna Gabriel Galvis de las Farc y de dos poderosas bandas delincuenciales han creado el pánico en esta población, afectada no solo por los ataques guerrilleros, sino por las minas antipersonales sembradas en su área rural y por las extorsiones. El atentado más reciente ocurrió   el jueves pasado frente al edificio de la Alcaldía y a la estación de Policía de Pradera, cuando dos hombres  ubicaron y  En el hecho perdió la vida  y  61 personas resultaron heridas, entre civiles y policías.  El ataque, que fue atribuido por las autoridades a la  Gabriel Galvis de las Farc y específicamente a alias Luis Garipari, tercero al mando de ese grupo, sucedió un día después del fin de la tregua navideña anunciada por esta guerrilla  desde La Habana, Cuba. Unos meses atrás,  el 31 de octubre del 2012, en plena noche de Halloween, dos jóvenes  detonaron  un explosivo a  una cuadra del parque principal de Pradera. Ese ataque dejó dos personas muertas y 35 heridos, entre ellos 14 niños. En ese mismo mes, pero dos semanas atrás,  dos petardos explotaron en una carretera que comunica a Pradera, dejando diez personas lesionadas, entre ellas dos policías. Ambas acciones fueron atribuidas, también, a las  Farc.***Hablar de este tipo de hechos en Pradera no es nuevo, que se  responsabilice a la guerrilla tampoco. Y es que, de acuerdo a las autoridades y a analistas,   este municipio  es un corredor de movilidad por el que las Farc se pueden comunicar con otras zonas del Valle, el norte del Cauca e incluso Tolima y Huila, y que siempre han procurado no perder cuando la Fuerza Pública aumenta operatividad en la zona, como ha ocurrido, por ejemplo, desde que iniciaron los diálogos de paz, en el 2012.  Edinson Quintero, propietario de un bar que resultó afectado en el reciente ataque, habla de que esto no es justo con la población civil ni con nadie. Nos estábamos recuperando del atentado pasado  y cuando la calma y la tranquilidad reinaban los violentos volvieron a aparecer,  asegura.       Si las autoridades y el Gobierno Nacional saben de la vulnerabilidad de Pradera y de lo importante que puede resultar para estos grupos el control del territorio, no deberían de ser tan confiados, dice Quintero, quien el pasado viernes trataba de volver a poner en marcha su negocio, ubicado en una esquina de la plaza.      Un analista en seguridad explica que lo que pasó en Pradera el jueves pasado podría ser una respuesta a los trabajos que viene realizando la Fuerza Pública en el departamento y en especial en la zona de  Pradera, donde se han logrado minimizar las acciones de la  Gabriel Galvis.      Las Farc le están tratando de demostrar  a la población civil y a las autoridades que todavía tienen presencia en Pradera y sus alrededores y que en cualquier momento pueden volver los campos minados, las  extorsiones, las búsquedas de personas para las milicias y las Redes de Apoyo al Terrorismo, explica el experto.Rodolfo Escobero, otro analista  en seguridad, dice  que históricamente la guerrilla ha defendido  el corredor de Pradera porque es un territorio a través del cual  mueven  hombres, armas, droga y que, aunque se esté en diálogos de paz, no van a descuidar una área de tanta importancia.    Hay que recordar que  unos años atrás las Farc pidieron el despeje de este municipio y de Florida, como las zonas para negociar un acuerdo humanitario, expresa Escobero.El analista Alfredo Rangel da otra razón del valor estratégico de Pradera. Las Farc tienen muchos sitios de interés, sin embargo Pradera y Florida  están muy cerca de las cordilleras y son una retaguardia estratégica y el resguardo de buena parte del Secretariado.Las  montañas que rodean estas localidades son de difícil acceso para la Fuerza Pública y las complejas condiciones climáticas  impiden los bombardeos de la Fuerza Aérea. Esta es  la mayor explicación  para que las Farc se hayan asentado en la región.***El alcalde de Pradera, Adolfo León Escobar, dice que el municipio siempre ha sido una plataforma para la guerrilla: fue pedida como zona de despeje, es un corredor de movilidad, se presta para dar golpes a la Fuerza Pública.    Pradera es un punto estratégico, eso se sabe.Desde hace ocho días teníamos información de inteligencia de que las Farc podrían cometer un atentado. Entonces, no tenemos  dudas de que el ataque fue realizado por  ese grupo guerrillero,  agrega el funcionario.Estábamos en alerta pero hacer terrorismo es  fácil, pues como se ha visto recientemente en muchos lugares del mundo, cualquier criminal que tenga la voluntad de usar explosivos, en últimas, lo puede hacer, explicó el ministro de Defensa, Juan Carlos Pinzón, en su visita a Pradera, tras el ataque.  Estaban preparando algo, hay pruebas, asegura Pinzón: detrás del hecho está   la Columna Gabriel Galvis de las Farc, al mando de alias Leonel Paz, organización a la cual  un día antes del atentado con motobomba se le  decomisó en la vía entre Palmira y Pradera 50 granadas y 50 kilos de pentolita. ¿Para qué querrán esto? Para  atentar contra el pueblo, asegura.Hoy,   la columna Gabriel Galvis de las Farc, de acuerdo a inteligencia militar, ha sido muy golpeada y le ha tocado desplazarse hacia el Tolima. Los que quedan, no más de 70 integrantes, delinquen en los municipios de   Miranda, Florida y Pradera.Mientras tanto, el coronel Mariano Botero Coy, comandante de la Policía Valle, es optimista. Dice que se van a mantener los controles en Pradera, que habrá  patrullajes combinados y más presencia policial.Y es que aunque en Pradera se siga hablando del atentado del jueves pasado, del de Halloween del 2012, de que es de los municipios más afectados en el Valle por minas antipersonas (6 casos en el 2012 y 8 en el 2011), la situación de orden público había mejorado.El año pasado se registró una reducción del 74 % en el número de muertes violentas  con respecto al anterior, pues se presentaron 26 homicidios, mientras que en el 2012 hubo 96.En el municipio también se ha  contado, según el Alcalde, con el apoyo de la Brigada Móvil 28 del Ejército, además de un buen parque automotor, pues contamos con diez motocicletas nuevas y dos vehículos que realizan labores de vigilancia las 24 horas del día apoyados por los cuadrantes y 23 cámaras de seguridad.Por estas razones, por ese cambio que se sentía en el pueblo, seguramente, fue que luego del atentado con motobomba, cuando regresó la incertidumbre y el dolor, los habitantes de Pradera volvieron a exclamar en el centro del pueblo que la paz no se negocia, la exigimos. \n",
      "url: https://www.elpais.com.co/judicial/por-que-las-farc-continuan-ensanadas-con-pradera-valle.html \n",
      "ID: 19187\n"
     ]
    }
   ],
   "source": [
    "show_news(19187, df)"
   ]
  },
  {
   "cell_type": "code",
   "execution_count": 55,
   "metadata": {
    "scrolled": true
   },
   "outputs": [
    {
     "name": "stdout",
     "output_type": "stream",
     "text": [
      "Suma: 18 \n",
      "Ranking: 0.3888888888888889 \n",
      "Titulo: Condenados 30 paramilitares por masacres en Cesar y Norte de Santander \n",
      "Numero palabras: 379 \n",
      "Diario: hoydiariodelmagdalena \n",
      "Cuerpo:   La sentencia, que también afecta a 29 postulados más, está motivada en la investigación de una fiscalía adscrita a la dirección de justicia transicional, que logró documentar 465 hechos delictivos, entre los que reposan los delitos de homicidio, desaparición forzada, desplazamiento forzado, reclutamiento ilícito de menores, violencia basada en género, entre otros. De acuerdo con las pruebas de la fiscalía, se conoció que el frente héctor julio peinado becerra delinquió desde el año 1992 hasta marzo de 2006 en los municipios del sur de cesar, como san alberto, san martín, aguachica, gamarra y río de oro, así como también en ocaña, abrego y la playa de belén (norte de santander). A ‘juancho prada’ y su estructura paramilitar se le atribuyeron el homicidio de rosalba contreras de castro, quien fungía como secretaria del juzgado promiscuo municipal de el carmen, perpetrado el 25 de agosto de 2000 en la vereda cangrejo, jurisdicción de río de oro (cesar), el homicidio de maría elena gómez naranjo, ocurrido el 10 de junio de 1996 en san alberto (cesar).  La víctima era la directora del hospital de ese municipio. \t\t\n",
      "\t\t\t\t\n",
      "\t\t\t\t\n",
      "\t\tDel mismo modo, son responsables del desplazamiento masivo de la finca bella cruz, ocurrido entre el 15 y el 16 de febrero de 1996, los predios parte de los municipios de la gloria, pelaya y pailitas en el sur de cesar, el desplazamiento masivo de la finca villa oliva, el 16 de agosto de 1994, en la vereda el diviso del municipio de san martín (cesar). Igualmente fueron responsables de la masacre de puerto patiño 1, perpetrada los días 29 y 30 de junio de 1994, en el corregimiento, la masacre de puerto patiño, ubicado en el municipio de aguachica y en el corregimiento de el marqués ubicado en río de oro, ambos del departamento de cesar, donde cuatro personas fueron asesinadas. Se le responsabilizó de una tercer masacre en puerto patiño ocurrida el día 14 de enero de 1995 en el mismo corregimiento, y en puerto patiño de aguachica, donde siete personas fueron asesinadas, una más fue víctima de tortura y desplazamiento, y otra de desaparición forzada. Por otro lado, se le señaló de la masacre de paloquemao, cometida el 8 de febrero de 1999, cuando cuatro personas fueron asesinadas en abrego (norte de santander).  \n",
      "url: http://www.hoydiariodelmagdalena.com.co/archivos/377594 \n",
      "ID: 532\n"
     ]
    }
   ],
   "source": [
    "show_news(532, df)"
   ]
  }
 ],
 "metadata": {
  "kernelspec": {
   "display_name": "Python 3",
   "language": "python",
   "name": "python3"
  },
  "language_info": {
   "codemirror_mode": {
    "name": "ipython",
    "version": 3
   },
   "file_extension": ".py",
   "mimetype": "text/x-python",
   "name": "python",
   "nbconvert_exporter": "python",
   "pygments_lexer": "ipython3",
   "version": "3.7.7"
  }
 },
 "nbformat": 4,
 "nbformat_minor": 4
}
