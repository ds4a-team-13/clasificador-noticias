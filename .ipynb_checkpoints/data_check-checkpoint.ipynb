{
 "cells": [
  {
   "cell_type": "code",
   "execution_count": 1,
   "metadata": {},
   "outputs": [
    {
     "name": "stderr",
     "output_type": "stream",
     "text": [
      "/usr/local/lib/python3.7/site-packages/pandas/compat/__init__.py:117: UserWarning: Could not import the lzma module. Your installed Python is incomplete. Attempting to use lzma compression will result in a RuntimeError.\n",
      "  warnings.warn(msg)\n"
     ]
    }
   ],
   "source": [
    "import sqlite3\n",
    "import pandas as pd\n"
   ]
  },
  {
   "cell_type": "code",
   "execution_count": 4,
   "metadata": {},
   "outputs": [
    {
     "data": {
      "text/html": [
       "<div>\n",
       "<style scoped>\n",
       "    .dataframe tbody tr th:only-of-type {\n",
       "        vertical-align: middle;\n",
       "    }\n",
       "\n",
       "    .dataframe tbody tr th {\n",
       "        vertical-align: top;\n",
       "    }\n",
       "\n",
       "    .dataframe thead th {\n",
       "        text-align: right;\n",
       "    }\n",
       "</style>\n",
       "<table border=\"1\" class=\"dataframe\">\n",
       "  <thead>\n",
       "    <tr style=\"text-align: right;\">\n",
       "      <th></th>\n",
       "      <th>titulo</th>\n",
       "      <th>cuerpo</th>\n",
       "      <th>fecha_publicacion</th>\n",
       "      <th>diario</th>\n",
       "      <th>url</th>\n",
       "      <th>page</th>\n",
       "    </tr>\n",
       "  </thead>\n",
       "  <tbody>\n",
       "    <tr>\n",
       "      <th>0</th>\n",
       "      <td>Campesino asesinado en Baraya</td>\n",
       "      <td>Un impacto en el pecho con una escopeta calibr...</td>\n",
       "      <td>2020-06-11 17:00:33</td>\n",
       "      <td>lanacion</td>\n",
       "      <td>https://www.lanacion.com.co/campesino-asesinad...</td>\n",
       "      <td>2</td>\n",
       "    </tr>\n",
       "    <tr>\n",
       "      <th>1</th>\n",
       "      <td>‘Morcilla’ a responder por homicidio de un jov...</td>\n",
       "      <td>Jorge Leonardo Pájaro Paredes conocido como ‘M...</td>\n",
       "      <td>2020-06-10 10:10:56</td>\n",
       "      <td>lanacion</td>\n",
       "      <td>https://www.lanacion.com.co/morcilla-a-respond...</td>\n",
       "      <td>2</td>\n",
       "    </tr>\n",
       "    <tr>\n",
       "      <th>2</th>\n",
       "      <td>Incautan 50 kilos de marihuana que eran transp...</td>\n",
       "      <td>Las autoridades en el departamento del Huila, ...</td>\n",
       "      <td>2020-06-09 10:39:12</td>\n",
       "      <td>lanacion</td>\n",
       "      <td>https://www.lanacion.com.co/incautan-50-kilos-...</td>\n",
       "      <td>2</td>\n",
       "    </tr>\n",
       "    <tr>\n",
       "      <th>3</th>\n",
       "      <td>Miembros del CTI a juicio por robarse una bill...</td>\n",
       "      <td>A juicio fueron llamados Erney Ramírez Gordo y...</td>\n",
       "      <td>2020-06-08 19:30:53</td>\n",
       "      <td>lanacion</td>\n",
       "      <td>https://www.lanacion.com.co/miembros-del-cti-a...</td>\n",
       "      <td>2</td>\n",
       "    </tr>\n",
       "    <tr>\n",
       "      <th>4</th>\n",
       "      <td>Militar neivano, una de las víctimas del fatal...</td>\n",
       "      <td>En la que fue su vivienda por muchos años en l...</td>\n",
       "      <td>2020-06-11 07:35:53</td>\n",
       "      <td>lanacion</td>\n",
       "      <td>https://www.lanacion.com.co/militar-neivano-un...</td>\n",
       "      <td>2</td>\n",
       "    </tr>\n",
       "  </tbody>\n",
       "</table>\n",
       "</div>"
      ],
      "text/plain": [
       "                                              titulo  \\\n",
       "0                      Campesino asesinado en Baraya   \n",
       "1  ‘Morcilla’ a responder por homicidio de un jov...   \n",
       "2  Incautan 50 kilos de marihuana que eran transp...   \n",
       "3  Miembros del CTI a juicio por robarse una bill...   \n",
       "4  Militar neivano, una de las víctimas del fatal...   \n",
       "\n",
       "                                              cuerpo   fecha_publicacion  \\\n",
       "0  Un impacto en el pecho con una escopeta calibr... 2020-06-11 17:00:33   \n",
       "1  Jorge Leonardo Pájaro Paredes conocido como ‘M... 2020-06-10 10:10:56   \n",
       "2  Las autoridades en el departamento del Huila, ... 2020-06-09 10:39:12   \n",
       "3  A juicio fueron llamados Erney Ramírez Gordo y... 2020-06-08 19:30:53   \n",
       "4  En la que fue su vivienda por muchos años en l... 2020-06-11 07:35:53   \n",
       "\n",
       "     diario                                                url  page  \n",
       "0  lanacion  https://www.lanacion.com.co/campesino-asesinad...     2  \n",
       "1  lanacion  https://www.lanacion.com.co/morcilla-a-respond...     2  \n",
       "2  lanacion  https://www.lanacion.com.co/incautan-50-kilos-...     2  \n",
       "3  lanacion  https://www.lanacion.com.co/miembros-del-cti-a...     2  \n",
       "4  lanacion  https://www.lanacion.com.co/militar-neivano-un...     2  "
      ]
     },
     "execution_count": 4,
     "metadata": {},
     "output_type": "execute_result"
    }
   ],
   "source": [
    "cnx = sqlite3.connect('data.db')\n",
    "\n",
    "df = pd.read_sql_query(\"SELECT * FROM news\", cnx)\n",
    "df['fecha_publicacion'] = pd.to_datetime(df['fecha_publicacion'])\n",
    "\n",
    "df.head()"
   ]
  },
  {
   "cell_type": "code",
   "execution_count": 5,
   "metadata": {},
   "outputs": [
    {
     "name": "stdout",
     "output_type": "stream",
     "text": [
      "Número total de noticias:  18987\n",
      "Número de diarios consultados:  6\n",
      "Diarios consultados:  ['lanacion' 'elpais' 'eldiario' 'elnuevodia' 'hoydiariodelmagdalena'\n",
      " 'diariodelhuila']\n"
     ]
    }
   ],
   "source": [
    "print('Número total de noticias: ', df.shape[0])\n",
    "print('Número de diarios consultados: ', len(df.diario.unique()))\n",
    "print('Diarios consultados: ', df.diario.unique())"
   ]
  },
  {
   "cell_type": "code",
   "execution_count": 6,
   "metadata": {},
   "outputs": [
    {
     "data": {
      "text/html": [
       "<div>\n",
       "<style scoped>\n",
       "    .dataframe tbody tr th:only-of-type {\n",
       "        vertical-align: middle;\n",
       "    }\n",
       "\n",
       "    .dataframe tbody tr th {\n",
       "        vertical-align: top;\n",
       "    }\n",
       "\n",
       "    .dataframe thead tr th {\n",
       "        text-align: left;\n",
       "    }\n",
       "\n",
       "    .dataframe thead tr:last-of-type th {\n",
       "        text-align: right;\n",
       "    }\n",
       "</style>\n",
       "<table border=\"1\" class=\"dataframe\">\n",
       "  <thead>\n",
       "    <tr>\n",
       "      <th></th>\n",
       "      <th>url</th>\n",
       "      <th colspan=\"2\" halign=\"left\">fecha_publicacion</th>\n",
       "    </tr>\n",
       "    <tr>\n",
       "      <th></th>\n",
       "      <th>size</th>\n",
       "      <th>min</th>\n",
       "      <th>max</th>\n",
       "    </tr>\n",
       "    <tr>\n",
       "      <th>diario</th>\n",
       "      <th></th>\n",
       "      <th></th>\n",
       "      <th></th>\n",
       "    </tr>\n",
       "  </thead>\n",
       "  <tbody>\n",
       "    <tr>\n",
       "      <th>diariodelhuila</th>\n",
       "      <td>46</td>\n",
       "      <td>2020-04-21 00:00:00</td>\n",
       "      <td>2020-06-12 00:00:00</td>\n",
       "    </tr>\n",
       "    <tr>\n",
       "      <th>eldiario</th>\n",
       "      <td>1319</td>\n",
       "      <td>2019-01-31 19:51:59</td>\n",
       "      <td>2020-06-12 00:00:43</td>\n",
       "    </tr>\n",
       "    <tr>\n",
       "      <th>elnuevodia</th>\n",
       "      <td>446</td>\n",
       "      <td>2020-01-13 11:02:33</td>\n",
       "      <td>2020-06-10 16:59:23</td>\n",
       "    </tr>\n",
       "    <tr>\n",
       "      <th>elpais</th>\n",
       "      <td>140</td>\n",
       "      <td>2020-05-03 00:00:00</td>\n",
       "      <td>2020-06-12 00:00:00</td>\n",
       "    </tr>\n",
       "    <tr>\n",
       "      <th>hoydiariodelmagdalena</th>\n",
       "      <td>3713</td>\n",
       "      <td>2019-07-07 08:24:45</td>\n",
       "      <td>2020-06-12 17:43:36</td>\n",
       "    </tr>\n",
       "    <tr>\n",
       "      <th>lanacion</th>\n",
       "      <td>13323</td>\n",
       "      <td>2012-01-02 06:11:58</td>\n",
       "      <td>2020-06-11 17:00:33</td>\n",
       "    </tr>\n",
       "  </tbody>\n",
       "</table>\n",
       "</div>"
      ],
      "text/plain": [
       "                         url   fecha_publicacion                    \n",
       "                        size                 min                 max\n",
       "diario                                                              \n",
       "diariodelhuila            46 2020-04-21 00:00:00 2020-06-12 00:00:00\n",
       "eldiario                1319 2019-01-31 19:51:59 2020-06-12 00:00:43\n",
       "elnuevodia               446 2020-01-13 11:02:33 2020-06-10 16:59:23\n",
       "elpais                   140 2020-05-03 00:00:00 2020-06-12 00:00:00\n",
       "hoydiariodelmagdalena   3713 2019-07-07 08:24:45 2020-06-12 17:43:36\n",
       "lanacion               13323 2012-01-02 06:11:58 2020-06-11 17:00:33"
      ]
     },
     "execution_count": 6,
     "metadata": {},
     "output_type": "execute_result"
    }
   ],
   "source": [
    "df.groupby('diario').agg({'url': 'size','fecha_publicacion': ['min', 'max']})"
   ]
  },
  {
   "cell_type": "code",
   "execution_count": null,
   "metadata": {},
   "outputs": [],
   "source": []
  }
 ],
 "metadata": {
  "kernelspec": {
   "display_name": "Python 3",
   "language": "python",
   "name": "python3"
  },
  "language_info": {
   "codemirror_mode": {
    "name": "ipython",
    "version": 3
   },
   "file_extension": ".py",
   "mimetype": "text/x-python",
   "name": "python",
   "nbconvert_exporter": "python",
   "pygments_lexer": "ipython3",
   "version": "3.7.7"
  }
 },
 "nbformat": 4,
 "nbformat_minor": 2
}
